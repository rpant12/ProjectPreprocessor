{
 "cells": [
  {
   "cell_type": "code",
   "execution_count": 5,
   "id": "b09ae816-cc45-4ced-bbae-8ca78ad485f5",
   "metadata": {},
   "outputs": [
    {
     "data": {
      "application/vnd.plotly.v1+json": {
       "config": {
        "plotlyServerURL": "https://plot.ly"
       },
       "data": [
        {
         "hovertemplate": "strength=0-1<br>frequency=%{r}<br>direction=%{theta}<extra></extra>",
         "legendgroup": "0-1",
         "marker": {
          "color": "#f0f921",
          "pattern": {
           "shape": ""
          }
         },
         "name": "0-1",
         "r": [
          0.5,
          0.6,
          0.5,
          0.4,
          0.4,
          0.3,
          0.4,
          0.4,
          0.6,
          0.4,
          0.5,
          0.6,
          0.6,
          0.5,
          0.4,
          0.1
         ],
         "showlegend": true,
         "subplot": "polar",
         "theta": [
          "N",
          "NNE",
          "NE",
          "ENE",
          "E",
          "ESE",
          "SE",
          "SSE",
          "S",
          "SSW",
          "SW",
          "WSW",
          "W",
          "WNW",
          "NW",
          "NNW"
         ],
         "type": "barpolar"
        },
        {
         "hovertemplate": "strength=1-2<br>frequency=%{r}<br>direction=%{theta}<extra></extra>",
         "legendgroup": "1-2",
         "marker": {
          "color": "#fdca26",
          "pattern": {
           "shape": ""
          }
         },
         "name": "1-2",
         "r": [
          1.6,
          1.8,
          1.5,
          1.6,
          1.6,
          1.2,
          1.5,
          1.7,
          2.2,
          2,
          2.3,
          2.4,
          2.3,
          2.6,
          2.3,
          0.8
         ],
         "showlegend": true,
         "subplot": "polar",
         "theta": [
          "N",
          "NNE",
          "NE",
          "ENE",
          "E",
          "ESE",
          "SE",
          "SSE",
          "S",
          "SSW",
          "SW",
          "WSW",
          "W",
          "WNW",
          "NW",
          "NNW"
         ],
         "type": "barpolar"
        },
        {
         "hovertemplate": "strength=2-3<br>frequency=%{r}<br>direction=%{theta}<extra></extra>",
         "legendgroup": "2-3",
         "marker": {
          "color": "#fb9f3a",
          "pattern": {
           "shape": ""
          }
         },
         "name": "2-3",
         "r": [
          0.9,
          1.3,
          1.6,
          0.9,
          1,
          0.6,
          0.6,
          0.9,
          1.4,
          1.7,
          1.9,
          2.2,
          1.8,
          1.7,
          1.8,
          0.8
         ],
         "showlegend": true,
         "subplot": "polar",
         "theta": [
          "N",
          "NNE",
          "NE",
          "ENE",
          "E",
          "ESE",
          "SE",
          "SSE",
          "S",
          "SSW",
          "SW",
          "WSW",
          "W",
          "WNW",
          "NW",
          "NNW"
         ],
         "type": "barpolar"
        },
        {
         "hovertemplate": "strength=3-4<br>frequency=%{r}<br>direction=%{theta}<extra></extra>",
         "legendgroup": "3-4",
         "marker": {
          "color": "#ed7953",
          "pattern": {
           "shape": ""
          }
         },
         "name": "3-4",
         "r": [
          0.9,
          0.8,
          1.2,
          1,
          0.8,
          0.4,
          0.5,
          0.5,
          0.8,
          0.9,
          1.3,
          1.1,
          1.2,
          1.2,
          1.3,
          1
         ],
         "showlegend": true,
         "subplot": "polar",
         "theta": [
          "N",
          "NNE",
          "NE",
          "ENE",
          "E",
          "ESE",
          "SE",
          "SSE",
          "S",
          "SSW",
          "SW",
          "WSW",
          "W",
          "WNW",
          "NW",
          "NNW"
         ],
         "type": "barpolar"
        },
        {
         "hovertemplate": "strength=4-4<br>frequency=%{r}<br>direction=%{theta}<extra></extra>",
         "legendgroup": "4-4",
         "marker": {
          "color": "#d8576b",
          "pattern": {
           "shape": ""
          }
         },
         "name": "4-4",
         "r": [
          0.4,
          0.5,
          1.2,
          0.5,
          0.4,
          0.2,
          0.4,
          0.4,
          0.7,
          0.6,
          0.7,
          0.8,
          0.9,
          1,
          1,
          0.7
         ],
         "showlegend": true,
         "subplot": "polar",
         "theta": [
          "N",
          "NNE",
          "NE",
          "ENE",
          "E",
          "ESE",
          "SE",
          "SSE",
          "S",
          "SSW",
          "SW",
          "WSW",
          "W",
          "WNW",
          "NW",
          "NNW"
         ],
         "type": "barpolar"
        },
        {
         "hovertemplate": "strength=4-5<br>frequency=%{r}<br>direction=%{theta}<extra></extra>",
         "legendgroup": "4-5",
         "marker": {
          "color": "#bd3786",
          "pattern": {
           "shape": ""
          }
         },
         "name": "4-5",
         "r": [
          0.3,
          0.3,
          0.6,
          0.2,
          0.1,
          0.1,
          0.05,
          0.1,
          0.1,
          0.2,
          0.3,
          0.4,
          0.9,
          0.9,
          0.9,
          0.3
         ],
         "showlegend": true,
         "subplot": "polar",
         "theta": [
          "N",
          "NNE",
          "NE",
          "ENE",
          "E",
          "ESE",
          "SE",
          "SSE",
          "S",
          "SSW",
          "SW",
          "WSW",
          "W",
          "WNW",
          "NW",
          "NNW"
         ],
         "type": "barpolar"
        },
        {
         "hovertemplate": "strength=5-6<br>frequency=%{r}<br>direction=%{theta}<extra></extra>",
         "legendgroup": "5-6",
         "marker": {
          "color": "#9c179e",
          "pattern": {
           "shape": ""
          }
         },
         "name": "5-6",
         "r": [
          0.2,
          0.1,
          0.1,
          0.1,
          0.1,
          0.1,
          0.05,
          0.05,
          0.1,
          0.05,
          0.2,
          0.2,
          0.4,
          0.7,
          0.7,
          0.4
         ],
         "showlegend": true,
         "subplot": "polar",
         "theta": [
          "N",
          "NNE",
          "NE",
          "ENE",
          "E",
          "ESE",
          "SE",
          "SSE",
          "S",
          "SSW",
          "SW",
          "WSW",
          "W",
          "WNW",
          "NW",
          "NNW"
         ],
         "type": "barpolar"
        },
        {
         "hovertemplate": "strength=6+<br>frequency=%{r}<br>direction=%{theta}<extra></extra>",
         "legendgroup": "6+",
         "marker": {
          "color": "#7201a8",
          "pattern": {
           "shape": ""
          }
         },
         "name": "6+",
         "r": [
          0.1,
          0.1,
          0.1,
          0.1,
          0.1,
          0.05,
          0.05,
          0.05,
          0.05,
          0.1,
          0.1,
          0.1,
          0.9,
          2.2,
          1.5,
          0.2
         ],
         "showlegend": true,
         "subplot": "polar",
         "theta": [
          "N",
          "NNE",
          "NE",
          "ENE",
          "E",
          "ESE",
          "SE",
          "SSE",
          "S",
          "SSW",
          "SW",
          "WSW",
          "W",
          "WNW",
          "NW",
          "NNW"
         ],
         "type": "barpolar"
        }
       ],
       "layout": {
        "autosize": true,
        "barmode": "relative",
        "legend": {
         "title": {
          "text": "strength"
         },
         "tracegroupgap": 0
        },
        "margin": {
         "t": 60
        },
        "polar": {
         "angularaxis": {
          "direction": "clockwise",
          "rotation": 90,
          "type": "category"
         },
         "domain": {
          "x": [
           0,
           1
          ],
          "y": [
           0,
           1
          ]
         },
         "radialaxis": {
          "autorange": true,
          "range": [
           0,
           11.368421052631579
          ],
          "type": "linear"
         }
        },
        "template": {
         "data": {
          "bar": [
           {
            "error_x": {
             "color": "#f2f5fa"
            },
            "error_y": {
             "color": "#f2f5fa"
            },
            "marker": {
             "line": {
              "color": "rgb(17,17,17)",
              "width": 0.5
             },
             "pattern": {
              "fillmode": "overlay",
              "size": 10,
              "solidity": 0.2
             }
            },
            "type": "bar"
           }
          ],
          "barpolar": [
           {
            "marker": {
             "line": {
              "color": "rgb(17,17,17)",
              "width": 0.5
             },
             "pattern": {
              "fillmode": "overlay",
              "size": 10,
              "solidity": 0.2
             }
            },
            "type": "barpolar"
           }
          ],
          "carpet": [
           {
            "aaxis": {
             "endlinecolor": "#A2B1C6",
             "gridcolor": "#506784",
             "linecolor": "#506784",
             "minorgridcolor": "#506784",
             "startlinecolor": "#A2B1C6"
            },
            "baxis": {
             "endlinecolor": "#A2B1C6",
             "gridcolor": "#506784",
             "linecolor": "#506784",
             "minorgridcolor": "#506784",
             "startlinecolor": "#A2B1C6"
            },
            "type": "carpet"
           }
          ],
          "choropleth": [
           {
            "colorbar": {
             "outlinewidth": 0,
             "ticks": ""
            },
            "type": "choropleth"
           }
          ],
          "contour": [
           {
            "colorbar": {
             "outlinewidth": 0,
             "ticks": ""
            },
            "colorscale": [
             [
              0,
              "#0d0887"
             ],
             [
              0.1111111111111111,
              "#46039f"
             ],
             [
              0.2222222222222222,
              "#7201a8"
             ],
             [
              0.3333333333333333,
              "#9c179e"
             ],
             [
              0.4444444444444444,
              "#bd3786"
             ],
             [
              0.5555555555555556,
              "#d8576b"
             ],
             [
              0.6666666666666666,
              "#ed7953"
             ],
             [
              0.7777777777777778,
              "#fb9f3a"
             ],
             [
              0.8888888888888888,
              "#fdca26"
             ],
             [
              1,
              "#f0f921"
             ]
            ],
            "type": "contour"
           }
          ],
          "contourcarpet": [
           {
            "colorbar": {
             "outlinewidth": 0,
             "ticks": ""
            },
            "type": "contourcarpet"
           }
          ],
          "heatmap": [
           {
            "colorbar": {
             "outlinewidth": 0,
             "ticks": ""
            },
            "colorscale": [
             [
              0,
              "#0d0887"
             ],
             [
              0.1111111111111111,
              "#46039f"
             ],
             [
              0.2222222222222222,
              "#7201a8"
             ],
             [
              0.3333333333333333,
              "#9c179e"
             ],
             [
              0.4444444444444444,
              "#bd3786"
             ],
             [
              0.5555555555555556,
              "#d8576b"
             ],
             [
              0.6666666666666666,
              "#ed7953"
             ],
             [
              0.7777777777777778,
              "#fb9f3a"
             ],
             [
              0.8888888888888888,
              "#fdca26"
             ],
             [
              1,
              "#f0f921"
             ]
            ],
            "type": "heatmap"
           }
          ],
          "heatmapgl": [
           {
            "colorbar": {
             "outlinewidth": 0,
             "ticks": ""
            },
            "colorscale": [
             [
              0,
              "#0d0887"
             ],
             [
              0.1111111111111111,
              "#46039f"
             ],
             [
              0.2222222222222222,
              "#7201a8"
             ],
             [
              0.3333333333333333,
              "#9c179e"
             ],
             [
              0.4444444444444444,
              "#bd3786"
             ],
             [
              0.5555555555555556,
              "#d8576b"
             ],
             [
              0.6666666666666666,
              "#ed7953"
             ],
             [
              0.7777777777777778,
              "#fb9f3a"
             ],
             [
              0.8888888888888888,
              "#fdca26"
             ],
             [
              1,
              "#f0f921"
             ]
            ],
            "type": "heatmapgl"
           }
          ],
          "histogram": [
           {
            "marker": {
             "pattern": {
              "fillmode": "overlay",
              "size": 10,
              "solidity": 0.2
             }
            },
            "type": "histogram"
           }
          ],
          "histogram2d": [
           {
            "colorbar": {
             "outlinewidth": 0,
             "ticks": ""
            },
            "colorscale": [
             [
              0,
              "#0d0887"
             ],
             [
              0.1111111111111111,
              "#46039f"
             ],
             [
              0.2222222222222222,
              "#7201a8"
             ],
             [
              0.3333333333333333,
              "#9c179e"
             ],
             [
              0.4444444444444444,
              "#bd3786"
             ],
             [
              0.5555555555555556,
              "#d8576b"
             ],
             [
              0.6666666666666666,
              "#ed7953"
             ],
             [
              0.7777777777777778,
              "#fb9f3a"
             ],
             [
              0.8888888888888888,
              "#fdca26"
             ],
             [
              1,
              "#f0f921"
             ]
            ],
            "type": "histogram2d"
           }
          ],
          "histogram2dcontour": [
           {
            "colorbar": {
             "outlinewidth": 0,
             "ticks": ""
            },
            "colorscale": [
             [
              0,
              "#0d0887"
             ],
             [
              0.1111111111111111,
              "#46039f"
             ],
             [
              0.2222222222222222,
              "#7201a8"
             ],
             [
              0.3333333333333333,
              "#9c179e"
             ],
             [
              0.4444444444444444,
              "#bd3786"
             ],
             [
              0.5555555555555556,
              "#d8576b"
             ],
             [
              0.6666666666666666,
              "#ed7953"
             ],
             [
              0.7777777777777778,
              "#fb9f3a"
             ],
             [
              0.8888888888888888,
              "#fdca26"
             ],
             [
              1,
              "#f0f921"
             ]
            ],
            "type": "histogram2dcontour"
           }
          ],
          "mesh3d": [
           {
            "colorbar": {
             "outlinewidth": 0,
             "ticks": ""
            },
            "type": "mesh3d"
           }
          ],
          "parcoords": [
           {
            "line": {
             "colorbar": {
              "outlinewidth": 0,
              "ticks": ""
             }
            },
            "type": "parcoords"
           }
          ],
          "pie": [
           {
            "automargin": true,
            "type": "pie"
           }
          ],
          "scatter": [
           {
            "marker": {
             "line": {
              "color": "#283442"
             }
            },
            "type": "scatter"
           }
          ],
          "scatter3d": [
           {
            "line": {
             "colorbar": {
              "outlinewidth": 0,
              "ticks": ""
             }
            },
            "marker": {
             "colorbar": {
              "outlinewidth": 0,
              "ticks": ""
             }
            },
            "type": "scatter3d"
           }
          ],
          "scattercarpet": [
           {
            "marker": {
             "colorbar": {
              "outlinewidth": 0,
              "ticks": ""
             }
            },
            "type": "scattercarpet"
           }
          ],
          "scattergeo": [
           {
            "marker": {
             "colorbar": {
              "outlinewidth": 0,
              "ticks": ""
             }
            },
            "type": "scattergeo"
           }
          ],
          "scattergl": [
           {
            "marker": {
             "line": {
              "color": "#283442"
             }
            },
            "type": "scattergl"
           }
          ],
          "scattermapbox": [
           {
            "marker": {
             "colorbar": {
              "outlinewidth": 0,
              "ticks": ""
             }
            },
            "type": "scattermapbox"
           }
          ],
          "scatterpolar": [
           {
            "marker": {
             "colorbar": {
              "outlinewidth": 0,
              "ticks": ""
             }
            },
            "type": "scatterpolar"
           }
          ],
          "scatterpolargl": [
           {
            "marker": {
             "colorbar": {
              "outlinewidth": 0,
              "ticks": ""
             }
            },
            "type": "scatterpolargl"
           }
          ],
          "scatterternary": [
           {
            "marker": {
             "colorbar": {
              "outlinewidth": 0,
              "ticks": ""
             }
            },
            "type": "scatterternary"
           }
          ],
          "surface": [
           {
            "colorbar": {
             "outlinewidth": 0,
             "ticks": ""
            },
            "colorscale": [
             [
              0,
              "#0d0887"
             ],
             [
              0.1111111111111111,
              "#46039f"
             ],
             [
              0.2222222222222222,
              "#7201a8"
             ],
             [
              0.3333333333333333,
              "#9c179e"
             ],
             [
              0.4444444444444444,
              "#bd3786"
             ],
             [
              0.5555555555555556,
              "#d8576b"
             ],
             [
              0.6666666666666666,
              "#ed7953"
             ],
             [
              0.7777777777777778,
              "#fb9f3a"
             ],
             [
              0.8888888888888888,
              "#fdca26"
             ],
             [
              1,
              "#f0f921"
             ]
            ],
            "type": "surface"
           }
          ],
          "table": [
           {
            "cells": {
             "fill": {
              "color": "#506784"
             },
             "line": {
              "color": "rgb(17,17,17)"
             }
            },
            "header": {
             "fill": {
              "color": "#2a3f5f"
             },
             "line": {
              "color": "rgb(17,17,17)"
             }
            },
            "type": "table"
           }
          ]
         },
         "layout": {
          "annotationdefaults": {
           "arrowcolor": "#f2f5fa",
           "arrowhead": 0,
           "arrowwidth": 1
          },
          "autotypenumbers": "strict",
          "coloraxis": {
           "colorbar": {
            "outlinewidth": 0,
            "ticks": ""
           }
          },
          "colorscale": {
           "diverging": [
            [
             0,
             "#8e0152"
            ],
            [
             0.1,
             "#c51b7d"
            ],
            [
             0.2,
             "#de77ae"
            ],
            [
             0.3,
             "#f1b6da"
            ],
            [
             0.4,
             "#fde0ef"
            ],
            [
             0.5,
             "#f7f7f7"
            ],
            [
             0.6,
             "#e6f5d0"
            ],
            [
             0.7,
             "#b8e186"
            ],
            [
             0.8,
             "#7fbc41"
            ],
            [
             0.9,
             "#4d9221"
            ],
            [
             1,
             "#276419"
            ]
           ],
           "sequential": [
            [
             0,
             "#0d0887"
            ],
            [
             0.1111111111111111,
             "#46039f"
            ],
            [
             0.2222222222222222,
             "#7201a8"
            ],
            [
             0.3333333333333333,
             "#9c179e"
            ],
            [
             0.4444444444444444,
             "#bd3786"
            ],
            [
             0.5555555555555556,
             "#d8576b"
            ],
            [
             0.6666666666666666,
             "#ed7953"
            ],
            [
             0.7777777777777778,
             "#fb9f3a"
            ],
            [
             0.8888888888888888,
             "#fdca26"
            ],
            [
             1,
             "#f0f921"
            ]
           ],
           "sequentialminus": [
            [
             0,
             "#0d0887"
            ],
            [
             0.1111111111111111,
             "#46039f"
            ],
            [
             0.2222222222222222,
             "#7201a8"
            ],
            [
             0.3333333333333333,
             "#9c179e"
            ],
            [
             0.4444444444444444,
             "#bd3786"
            ],
            [
             0.5555555555555556,
             "#d8576b"
            ],
            [
             0.6666666666666666,
             "#ed7953"
            ],
            [
             0.7777777777777778,
             "#fb9f3a"
            ],
            [
             0.8888888888888888,
             "#fdca26"
            ],
            [
             1,
             "#f0f921"
            ]
           ]
          },
          "colorway": [
           "#636efa",
           "#EF553B",
           "#00cc96",
           "#ab63fa",
           "#FFA15A",
           "#19d3f3",
           "#FF6692",
           "#B6E880",
           "#FF97FF",
           "#FECB52"
          ],
          "font": {
           "color": "#f2f5fa"
          },
          "geo": {
           "bgcolor": "rgb(17,17,17)",
           "lakecolor": "rgb(17,17,17)",
           "landcolor": "rgb(17,17,17)",
           "showlakes": true,
           "showland": true,
           "subunitcolor": "#506784"
          },
          "hoverlabel": {
           "align": "left"
          },
          "hovermode": "closest",
          "mapbox": {
           "style": "dark"
          },
          "paper_bgcolor": "rgb(17,17,17)",
          "plot_bgcolor": "rgb(17,17,17)",
          "polar": {
           "angularaxis": {
            "gridcolor": "#506784",
            "linecolor": "#506784",
            "ticks": ""
           },
           "bgcolor": "rgb(17,17,17)",
           "radialaxis": {
            "gridcolor": "#506784",
            "linecolor": "#506784",
            "ticks": ""
           }
          },
          "scene": {
           "xaxis": {
            "backgroundcolor": "rgb(17,17,17)",
            "gridcolor": "#506784",
            "gridwidth": 2,
            "linecolor": "#506784",
            "showbackground": true,
            "ticks": "",
            "zerolinecolor": "#C8D4E3"
           },
           "yaxis": {
            "backgroundcolor": "rgb(17,17,17)",
            "gridcolor": "#506784",
            "gridwidth": 2,
            "linecolor": "#506784",
            "showbackground": true,
            "ticks": "",
            "zerolinecolor": "#C8D4E3"
           },
           "zaxis": {
            "backgroundcolor": "rgb(17,17,17)",
            "gridcolor": "#506784",
            "gridwidth": 2,
            "linecolor": "#506784",
            "showbackground": true,
            "ticks": "",
            "zerolinecolor": "#C8D4E3"
           }
          },
          "shapedefaults": {
           "line": {
            "color": "#f2f5fa"
           }
          },
          "sliderdefaults": {
           "bgcolor": "#C8D4E3",
           "bordercolor": "rgb(17,17,17)",
           "borderwidth": 1,
           "tickwidth": 0
          },
          "ternary": {
           "aaxis": {
            "gridcolor": "#506784",
            "linecolor": "#506784",
            "ticks": ""
           },
           "baxis": {
            "gridcolor": "#506784",
            "linecolor": "#506784",
            "ticks": ""
           },
           "bgcolor": "rgb(17,17,17)",
           "caxis": {
            "gridcolor": "#506784",
            "linecolor": "#506784",
            "ticks": ""
           }
          },
          "title": {
           "x": 0.05
          },
          "updatemenudefaults": {
           "bgcolor": "#506784",
           "borderwidth": 0
          },
          "xaxis": {
           "automargin": true,
           "gridcolor": "#283442",
           "linecolor": "#506784",
           "ticks": "",
           "title": {
            "standoff": 15
           },
           "zerolinecolor": "#283442",
           "zerolinewidth": 2
          },
          "yaxis": {
           "automargin": true,
           "gridcolor": "#283442",
           "linecolor": "#506784",
           "ticks": "",
           "title": {
            "standoff": 15
           },
           "zerolinecolor": "#283442",
           "zerolinewidth": 2
          }
         }
        }
       }
      },
      "image/png": "[encoded data removed]",
      "text/html": [
       "<div>                            <div id=\"42ec01dd-4733-459f-b694-7241942281c6\" class=\"plotly-graph-div\" style=\"height:525px; width:100%;\"></div>            <script type=\"text/javascript\">                require([\"plotly\"], function(Plotly) {                    window.PLOTLYENV=window.PLOTLYENV || {};                                    if (document.getElementById(\"42ec01dd-4733-459f-b694-7241942281c6\")) {                    Plotly.newPlot(                        \"42ec01dd-4733-459f-b694-7241942281c6\",                        [{\"hovertemplate\":\"strength=0-1\\u003cbr\\u003efrequency=%{r}\\u003cbr\\u003edirection=%{theta}\\u003cextra\\u003e\\u003c\\u002fextra\\u003e\",\"legendgroup\":\"0-1\",\"marker\":{\"color\":\"#f0f921\",\"pattern\":{\"shape\":\"\"}},\"name\":\"0-1\",\"r\":[0.5,0.6,0.5,0.4,0.4,0.3,0.4,0.4,0.6,0.4,0.5,0.6,0.6,0.5,0.4,0.1],\"showlegend\":true,\"subplot\":\"polar\",\"theta\":[\"N\",\"NNE\",\"NE\",\"ENE\",\"E\",\"ESE\",\"SE\",\"SSE\",\"S\",\"SSW\",\"SW\",\"WSW\",\"W\",\"WNW\",\"NW\",\"NNW\"],\"type\":\"barpolar\"},{\"hovertemplate\":\"strength=1-2\\u003cbr\\u003efrequency=%{r}\\u003cbr\\u003edirection=%{theta}\\u003cextra\\u003e\\u003c\\u002fextra\\u003e\",\"legendgroup\":\"1-2\",\"marker\":{\"color\":\"#fdca26\",\"pattern\":{\"shape\":\"\"}},\"name\":\"1-2\",\"r\":[1.6,1.8,1.5,1.6,1.6,1.2,1.5,1.7,2.2,2.0,2.3,2.4,2.3,2.6,2.3,0.8],\"showlegend\":true,\"subplot\":\"polar\",\"theta\":[\"N\",\"NNE\",\"NE\",\"ENE\",\"E\",\"ESE\",\"SE\",\"SSE\",\"S\",\"SSW\",\"SW\",\"WSW\",\"W\",\"WNW\",\"NW\",\"NNW\"],\"type\":\"barpolar\"},{\"hovertemplate\":\"strength=2-3\\u003cbr\\u003efrequency=%{r}\\u003cbr\\u003edirection=%{theta}\\u003cextra\\u003e\\u003c\\u002fextra\\u003e\",\"legendgroup\":\"2-3\",\"marker\":{\"color\":\"#fb9f3a\",\"pattern\":{\"shape\":\"\"}},\"name\":\"2-3\",\"r\":[0.9,1.3,1.6,0.9,1.0,0.6,0.6,0.9,1.4,1.7,1.9,2.2,1.8,1.7,1.8,0.8],\"showlegend\":true,\"subplot\":\"polar\",\"theta\":[\"N\",\"NNE\",\"NE\",\"ENE\",\"E\",\"ESE\",\"SE\",\"SSE\",\"S\",\"SSW\",\"SW\",\"WSW\",\"W\",\"WNW\",\"NW\",\"NNW\"],\"type\":\"barpolar\"},{\"hovertemplate\":\"strength=3-4\\u003cbr\\u003efrequency=%{r}\\u003cbr\\u003edirection=%{theta}\\u003cextra\\u003e\\u003c\\u002fextra\\u003e\",\"legendgroup\":\"3-4\",\"marker\":{\"color\":\"#ed7953\",\"pattern\":{\"shape\":\"\"}},\"name\":\"3-4\",\"r\":[0.9,0.8,1.2,1.0,0.8,0.4,0.5,0.5,0.8,0.9,1.3,1.1,1.2,1.2,1.3,1.0],\"showlegend\":true,\"subplot\":\"polar\",\"theta\":[\"N\",\"NNE\",\"NE\",\"ENE\",\"E\",\"ESE\",\"SE\",\"SSE\",\"S\",\"SSW\",\"SW\",\"WSW\",\"W\",\"WNW\",\"NW\",\"NNW\"],\"type\":\"barpolar\"},{\"hovertemplate\":\"strength=4-4\\u003cbr\\u003efrequency=%{r}\\u003cbr\\u003edirection=%{theta}\\u003cextra\\u003e\\u003c\\u002fextra\\u003e\",\"legendgroup\":\"4-4\",\"marker\":{\"color\":\"#d8576b\",\"pattern\":{\"shape\":\"\"}},\"name\":\"4-4\",\"r\":[0.4,0.5,1.2,0.5,0.4,0.2,0.4,0.4,0.7,0.6,0.7,0.8,0.9,1.0,1.0,0.7],\"showlegend\":true,\"subplot\":\"polar\",\"theta\":[\"N\",\"NNE\",\"NE\",\"ENE\",\"E\",\"ESE\",\"SE\",\"SSE\",\"S\",\"SSW\",\"SW\",\"WSW\",\"W\",\"WNW\",\"NW\",\"NNW\"],\"type\":\"barpolar\"},{\"hovertemplate\":\"strength=4-5\\u003cbr\\u003efrequency=%{r}\\u003cbr\\u003edirection=%{theta}\\u003cextra\\u003e\\u003c\\u002fextra\\u003e\",\"legendgroup\":\"4-5\",\"marker\":{\"color\":\"#bd3786\",\"pattern\":{\"shape\":\"\"}},\"name\":\"4-5\",\"r\":[0.3,0.3,0.6,0.2,0.1,0.1,0.05,0.1,0.1,0.2,0.3,0.4,0.9,0.9,0.9,0.3],\"showlegend\":true,\"subplot\":\"polar\",\"theta\":[\"N\",\"NNE\",\"NE\",\"ENE\",\"E\",\"ESE\",\"SE\",\"SSE\",\"S\",\"SSW\",\"SW\",\"WSW\",\"W\",\"WNW\",\"NW\",\"NNW\"],\"type\":\"barpolar\"},{\"hovertemplate\":\"strength=5-6\\u003cbr\\u003efrequency=%{r}\\u003cbr\\u003edirection=%{theta}\\u003cextra\\u003e\\u003c\\u002fextra\\u003e\",\"legendgroup\":\"5-6\",\"marker\":{\"color\":\"#9c179e\",\"pattern\":{\"shape\":\"\"}},\"name\":\"5-6\",\"r\":[0.2,0.1,0.1,0.1,0.1,0.1,0.05,0.05,0.1,0.05,0.2,0.2,0.4,0.7,0.7,0.4],\"showlegend\":true,\"subplot\":\"polar\",\"theta\":[\"N\",\"NNE\",\"NE\",\"ENE\",\"E\",\"ESE\",\"SE\",\"SSE\",\"S\",\"SSW\",\"SW\",\"WSW\",\"W\",\"WNW\",\"NW\",\"NNW\"],\"type\":\"barpolar\"},{\"hovertemplate\":\"strength=6+\\u003cbr\\u003efrequency=%{r}\\u003cbr\\u003edirection=%{theta}\\u003cextra\\u003e\\u003c\\u002fextra\\u003e\",\"legendgroup\":\"6+\",\"marker\":{\"color\":\"#7201a8\",\"pattern\":{\"shape\":\"\"}},\"name\":\"6+\",\"r\":[0.1,0.1,0.1,0.1,0.1,0.05,0.05,0.05,0.05,0.1,0.1,0.1,0.9,2.2,1.5,0.2],\"showlegend\":true,\"subplot\":\"polar\",\"theta\":[\"N\",\"NNE\",\"NE\",\"ENE\",\"E\",\"ESE\",\"SE\",\"SSE\",\"S\",\"SSW\",\"SW\",\"WSW\",\"W\",\"WNW\",\"NW\",\"NNW\"],\"type\":\"barpolar\"}],                        {\"template\":{\"data\":{\"barpolar\":[{\"marker\":{\"line\":{\"color\":\"rgb(17,17,17)\",\"width\":0.5},\"pattern\":{\"fillmode\":\"overlay\",\"size\":10,\"solidity\":0.2}},\"type\":\"barpolar\"}],\"bar\":[{\"error_x\":{\"color\":\"#f2f5fa\"},\"error_y\":{\"color\":\"#f2f5fa\"},\"marker\":{\"line\":{\"color\":\"rgb(17,17,17)\",\"width\":0.5},\"pattern\":{\"fillmode\":\"overlay\",\"size\":10,\"solidity\":0.2}},\"type\":\"bar\"}],\"carpet\":[{\"aaxis\":{\"endlinecolor\":\"#A2B1C6\",\"gridcolor\":\"#506784\",\"linecolor\":\"#506784\",\"minorgridcolor\":\"#506784\",\"startlinecolor\":\"#A2B1C6\"},\"baxis\":{\"endlinecolor\":\"#A2B1C6\",\"gridcolor\":\"#506784\",\"linecolor\":\"#506784\",\"minorgridcolor\":\"#506784\",\"startlinecolor\":\"#A2B1C6\"},\"type\":\"carpet\"}],\"choropleth\":[{\"colorbar\":{\"outlinewidth\":0,\"ticks\":\"\"},\"type\":\"choropleth\"}],\"contourcarpet\":[{\"colorbar\":{\"outlinewidth\":0,\"ticks\":\"\"},\"type\":\"contourcarpet\"}],\"contour\":[{\"colorbar\":{\"outlinewidth\":0,\"ticks\":\"\"},\"colorscale\":[[0.0,\"#0d0887\"],[0.1111111111111111,\"#46039f\"],[0.2222222222222222,\"#7201a8\"],[0.3333333333333333,\"#9c179e\"],[0.4444444444444444,\"#bd3786\"],[0.5555555555555556,\"#d8576b\"],[0.6666666666666666,\"#ed7953\"],[0.7777777777777778,\"#fb9f3a\"],[0.8888888888888888,\"#fdca26\"],[1.0,\"#f0f921\"]],\"type\":\"contour\"}],\"heatmapgl\":[{\"colorbar\":{\"outlinewidth\":0,\"ticks\":\"\"},\"colorscale\":[[0.0,\"#0d0887\"],[0.1111111111111111,\"#46039f\"],[0.2222222222222222,\"#7201a8\"],[0.3333333333333333,\"#9c179e\"],[0.4444444444444444,\"#bd3786\"],[0.5555555555555556,\"#d8576b\"],[0.6666666666666666,\"#ed7953\"],[0.7777777777777778,\"#fb9f3a\"],[0.8888888888888888,\"#fdca26\"],[1.0,\"#f0f921\"]],\"type\":\"heatmapgl\"}],\"heatmap\":[{\"colorbar\":{\"outlinewidth\":0,\"ticks\":\"\"},\"colorscale\":[[0.0,\"#0d0887\"],[0.1111111111111111,\"#46039f\"],[0.2222222222222222,\"#7201a8\"],[0.3333333333333333,\"#9c179e\"],[0.4444444444444444,\"#bd3786\"],[0.5555555555555556,\"#d8576b\"],[0.6666666666666666,\"#ed7953\"],[0.7777777777777778,\"#fb9f3a\"],[0.8888888888888888,\"#fdca26\"],[1.0,\"#f0f921\"]],\"type\":\"heatmap\"}],\"histogram2dcontour\":[{\"colorbar\":{\"outlinewidth\":0,\"ticks\":\"\"},\"colorscale\":[[0.0,\"#0d0887\"],[0.1111111111111111,\"#46039f\"],[0.2222222222222222,\"#7201a8\"],[0.3333333333333333,\"#9c179e\"],[0.4444444444444444,\"#bd3786\"],[0.5555555555555556,\"#d8576b\"],[0.6666666666666666,\"#ed7953\"],[0.7777777777777778,\"#fb9f3a\"],[0.8888888888888888,\"#fdca26\"],[1.0,\"#f0f921\"]],\"type\":\"histogram2dcontour\"}],\"histogram2d\":[{\"colorbar\":{\"outlinewidth\":0,\"ticks\":\"\"},\"colorscale\":[[0.0,\"#0d0887\"],[0.1111111111111111,\"#46039f\"],[0.2222222222222222,\"#7201a8\"],[0.3333333333333333,\"#9c179e\"],[0.4444444444444444,\"#bd3786\"],[0.5555555555555556,\"#d8576b\"],[0.6666666666666666,\"#ed7953\"],[0.7777777777777778,\"#fb9f3a\"],[0.8888888888888888,\"#fdca26\"],[1.0,\"#f0f921\"]],\"type\":\"histogram2d\"}],\"histogram\":[{\"marker\":{\"pattern\":{\"fillmode\":\"overlay\",\"size\":10,\"solidity\":0.2}},\"type\":\"histogram\"}],\"mesh3d\":[{\"colorbar\":{\"outlinewidth\":0,\"ticks\":\"\"},\"type\":\"mesh3d\"}],\"parcoords\":[{\"line\":{\"colorbar\":{\"outlinewidth\":0,\"ticks\":\"\"}},\"type\":\"parcoords\"}],\"pie\":[{\"automargin\":true,\"type\":\"pie\"}],\"scatter3d\":[{\"line\":{\"colorbar\":{\"outlinewidth\":0,\"ticks\":\"\"}},\"marker\":{\"colorbar\":{\"outlinewidth\":0,\"ticks\":\"\"}},\"type\":\"scatter3d\"}],\"scattercarpet\":[{\"marker\":{\"colorbar\":{\"outlinewidth\":0,\"ticks\":\"\"}},\"type\":\"scattercarpet\"}],\"scattergeo\":[{\"marker\":{\"colorbar\":{\"outlinewidth\":0,\"ticks\":\"\"}},\"type\":\"scattergeo\"}],\"scattergl\":[{\"marker\":{\"line\":{\"color\":\"#283442\"}},\"type\":\"scattergl\"}],\"scattermapbox\":[{\"marker\":{\"colorbar\":{\"outlinewidth\":0,\"ticks\":\"\"}},\"type\":\"scattermapbox\"}],\"scatterpolargl\":[{\"marker\":{\"colorbar\":{\"outlinewidth\":0,\"ticks\":\"\"}},\"type\":\"scatterpolargl\"}],\"scatterpolar\":[{\"marker\":{\"colorbar\":{\"outlinewidth\":0,\"ticks\":\"\"}},\"type\":\"scatterpolar\"}],\"scatter\":[{\"marker\":{\"line\":{\"color\":\"#283442\"}},\"type\":\"scatter\"}],\"scatterternary\":[{\"marker\":{\"colorbar\":{\"outlinewidth\":0,\"ticks\":\"\"}},\"type\":\"scatterternary\"}],\"surface\":[{\"colorbar\":{\"outlinewidth\":0,\"ticks\":\"\"},\"colorscale\":[[0.0,\"#0d0887\"],[0.1111111111111111,\"#46039f\"],[0.2222222222222222,\"#7201a8\"],[0.3333333333333333,\"#9c179e\"],[0.4444444444444444,\"#bd3786\"],[0.5555555555555556,\"#d8576b\"],[0.6666666666666666,\"#ed7953\"],[0.7777777777777778,\"#fb9f3a\"],[0.8888888888888888,\"#fdca26\"],[1.0,\"#f0f921\"]],\"type\":\"surface\"}],\"table\":[{\"cells\":{\"fill\":{\"color\":\"#506784\"},\"line\":{\"color\":\"rgb(17,17,17)\"}},\"header\":{\"fill\":{\"color\":\"#2a3f5f\"},\"line\":{\"color\":\"rgb(17,17,17)\"}},\"type\":\"table\"}]},\"layout\":{\"annotationdefaults\":{\"arrowcolor\":\"#f2f5fa\",\"arrowhead\":0,\"arrowwidth\":1},\"autotypenumbers\":\"strict\",\"coloraxis\":{\"colorbar\":{\"outlinewidth\":0,\"ticks\":\"\"}},\"colorscale\":{\"diverging\":[[0,\"#8e0152\"],[0.1,\"#c51b7d\"],[0.2,\"#de77ae\"],[0.3,\"#f1b6da\"],[0.4,\"#fde0ef\"],[0.5,\"#f7f7f7\"],[0.6,\"#e6f5d0\"],[0.7,\"#b8e186\"],[0.8,\"#7fbc41\"],[0.9,\"#4d9221\"],[1,\"#276419\"]],\"sequential\":[[0.0,\"#0d0887\"],[0.1111111111111111,\"#46039f\"],[0.2222222222222222,\"#7201a8\"],[0.3333333333333333,\"#9c179e\"],[0.4444444444444444,\"#bd3786\"],[0.5555555555555556,\"#d8576b\"],[0.6666666666666666,\"#ed7953\"],[0.7777777777777778,\"#fb9f3a\"],[0.8888888888888888,\"#fdca26\"],[1.0,\"#f0f921\"]],\"sequentialminus\":[[0.0,\"#0d0887\"],[0.1111111111111111,\"#46039f\"],[0.2222222222222222,\"#7201a8\"],[0.3333333333333333,\"#9c179e\"],[0.4444444444444444,\"#bd3786\"],[0.5555555555555556,\"#d8576b\"],[0.6666666666666666,\"#ed7953\"],[0.7777777777777778,\"#fb9f3a\"],[0.8888888888888888,\"#fdca26\"],[1.0,\"#f0f921\"]]},\"colorway\":[\"#636efa\",\"#EF553B\",\"#00cc96\",\"#ab63fa\",\"#FFA15A\",\"#19d3f3\",\"#FF6692\",\"#B6E880\",\"#FF97FF\",\"#FECB52\"],\"font\":{\"color\":\"#f2f5fa\"},\"geo\":{\"bgcolor\":\"rgb(17,17,17)\",\"lakecolor\":\"rgb(17,17,17)\",\"landcolor\":\"rgb(17,17,17)\",\"showlakes\":true,\"showland\":true,\"subunitcolor\":\"#506784\"},\"hoverlabel\":{\"align\":\"left\"},\"hovermode\":\"closest\",\"mapbox\":{\"style\":\"dark\"},\"paper_bgcolor\":\"rgb(17,17,17)\",\"plot_bgcolor\":\"rgb(17,17,17)\",\"polar\":{\"angularaxis\":{\"gridcolor\":\"#506784\",\"linecolor\":\"#506784\",\"ticks\":\"\"},\"bgcolor\":\"rgb(17,17,17)\",\"radialaxis\":{\"gridcolor\":\"#506784\",\"linecolor\":\"#506784\",\"ticks\":\"\"}},\"scene\":{\"xaxis\":{\"backgroundcolor\":\"rgb(17,17,17)\",\"gridcolor\":\"#506784\",\"gridwidth\":2,\"linecolor\":\"#506784\",\"showbackground\":true,\"ticks\":\"\",\"zerolinecolor\":\"#C8D4E3\"},\"yaxis\":{\"backgroundcolor\":\"rgb(17,17,17)\",\"gridcolor\":\"#506784\",\"gridwidth\":2,\"linecolor\":\"#506784\",\"showbackground\":true,\"ticks\":\"\",\"zerolinecolor\":\"#C8D4E3\"},\"zaxis\":{\"backgroundcolor\":\"rgb(17,17,17)\",\"gridcolor\":\"#506784\",\"gridwidth\":2,\"linecolor\":\"#506784\",\"showbackground\":true,\"ticks\":\"\",\"zerolinecolor\":\"#C8D4E3\"}},\"shapedefaults\":{\"line\":{\"color\":\"#f2f5fa\"}},\"sliderdefaults\":{\"bgcolor\":\"#C8D4E3\",\"bordercolor\":\"rgb(17,17,17)\",\"borderwidth\":1,\"tickwidth\":0},\"ternary\":{\"aaxis\":{\"gridcolor\":\"#506784\",\"linecolor\":\"#506784\",\"ticks\":\"\"},\"baxis\":{\"gridcolor\":\"#506784\",\"linecolor\":\"#506784\",\"ticks\":\"\"},\"bgcolor\":\"rgb(17,17,17)\",\"caxis\":{\"gridcolor\":\"#506784\",\"linecolor\":\"#506784\",\"ticks\":\"\"}},\"title\":{\"x\":0.05},\"updatemenudefaults\":{\"bgcolor\":\"#506784\",\"borderwidth\":0},\"xaxis\":{\"automargin\":true,\"gridcolor\":\"#283442\",\"linecolor\":\"#506784\",\"ticks\":\"\",\"title\":{\"standoff\":15},\"zerolinecolor\":\"#283442\",\"zerolinewidth\":2},\"yaxis\":{\"automargin\":true,\"gridcolor\":\"#283442\",\"linecolor\":\"#506784\",\"ticks\":\"\",\"title\":{\"standoff\":15},\"zerolinecolor\":\"#283442\",\"zerolinewidth\":2}}},\"polar\":{\"domain\":{\"x\":[0.0,1.0],\"y\":[0.0,1.0]},\"angularaxis\":{\"direction\":\"clockwise\",\"rotation\":90}},\"legend\":{\"title\":{\"text\":\"strength\"},\"tracegroupgap\":0},\"margin\":{\"t\":60},\"barmode\":\"relative\"},                        {\"responsive\": true}                    ).then(function(){\n",
       "                            \n",
       "var gd = document.getElementById('42ec01dd-4733-459f-b694-7241942281c6');\n",
       "var x = new MutationObserver(function (mutations, observer) {{\n",
       "        var display = window.getComputedStyle(gd).display;\n",
       "        if (!display || display === 'none') {{\n",
       "            console.log([gd, 'removed!']);\n",
       "            Plotly.purge(gd);\n",
       "            observer.disconnect();\n",
       "        }}\n",
       "}});\n",
       "\n",
       "// Listen for the removal of the full notebook cells\n",
       "var notebookContainer = gd.closest('#notebook-container');\n",
       "if (notebookContainer) {{\n",
       "    x.observe(notebookContainer, {childList: true});\n",
       "}}\n",
       "\n",
       "// Listen for the clearing of the current output cell\n",
       "var outputEl = gd.closest('.output');\n",
       "if (outputEl) {{\n",
       "    x.observe(outputEl, {childList: true});\n",
       "}}\n",
       "\n",
       "                        })                };                });            </script>        </div>"
      ]
     },
     "metadata": {},
     "output_type": "display_data"
    }
   ],
   "source": [
    "import plotly.express as px\n",
    "import pandas as pd\n",
    "from PIL import Image\n",
    "df = px.data.wind()\n",
    "fig = px.bar_polar(df, r=\"frequency\", theta=\"direction\",\n",
    "                   color=\"strength\", template=\"plotly_dark\",\n",
    "                   color_discrete_sequence= px.colors.sequential.Plasma_r)\n",
    "fig.show()"
   ]
  },
  {
   "cell_type": "code",
   "execution_count": 6,
   "id": "9aa0dfcc-b88e-4dda-81f5-2359af3894a0",
   "metadata": {},
   "outputs": [],
   "source": [
    "def color(row):\n",
    "    if row[\"Average\"] >= 2:\n",
    "        return \"#343091\"\n",
    "    elif row[\"Average\"] >= 1:\n",
    "        return \"#7577b8\"\n",
    "    else:\n",
    "        return \"#babad4\""
   ]
  },
  {
   "cell_type": "code",
   "execution_count": 7,
   "id": "210ed6d2-2246-4598-b3ee-de27a4c02660",
   "metadata": {},
   "outputs": [
    {
     "data": {
      "text/html": [
       "<div>\n",
       "<style scoped>\n",
       "    .dataframe tbody tr th:only-of-type {\n",
       "        vertical-align: middle;\n",
       "    }\n",
       "\n",
       "    .dataframe tbody tr th {\n",
       "        vertical-align: top;\n",
       "    }\n",
       "\n",
       "    .dataframe thead th {\n",
       "        text-align: right;\n",
       "    }\n",
       "</style>\n",
       "<table border=\"1\" class=\"dataframe\">\n",
       "  <thead>\n",
       "    <tr style=\"text-align: right;\">\n",
       "      <th></th>\n",
       "      <th>Trait</th>\n",
       "      <th>0</th>\n",
       "      <th>1</th>\n",
       "      <th>2</th>\n",
       "      <th>3</th>\n",
       "      <th>4</th>\n",
       "      <th>5</th>\n",
       "      <th>Average</th>\n",
       "      <th>Color</th>\n",
       "    </tr>\n",
       "  </thead>\n",
       "  <tbody>\n",
       "    <tr>\n",
       "      <th>0</th>\n",
       "      <td>Role Sentiment</td>\n",
       "      <td>3</td>\n",
       "      <td>3</td>\n",
       "      <td>2</td>\n",
       "      <td>3</td>\n",
       "      <td>3</td>\n",
       "      <td>1</td>\n",
       "      <td>2.50</td>\n",
       "      <td>#343091</td>\n",
       "    </tr>\n",
       "    <tr>\n",
       "      <th>1</th>\n",
       "      <td>Team Perform Role</td>\n",
       "      <td>2</td>\n",
       "      <td>3</td>\n",
       "      <td>2</td>\n",
       "      <td>3</td>\n",
       "      <td>2</td>\n",
       "      <td>2</td>\n",
       "      <td>2.33</td>\n",
       "      <td>#343091</td>\n",
       "    </tr>\n",
       "    <tr>\n",
       "      <th>2</th>\n",
       "      <td>Team Composition</td>\n",
       "      <td>1</td>\n",
       "      <td>1</td>\n",
       "      <td>2</td>\n",
       "      <td>3</td>\n",
       "      <td>3</td>\n",
       "      <td>1</td>\n",
       "      <td>1.83</td>\n",
       "      <td>#7577b8</td>\n",
       "    </tr>\n",
       "    <tr>\n",
       "      <th>3</th>\n",
       "      <td>Team Set Goals</td>\n",
       "      <td>1</td>\n",
       "      <td>1</td>\n",
       "      <td>0</td>\n",
       "      <td>1</td>\n",
       "      <td>3</td>\n",
       "      <td>2</td>\n",
       "      <td>1.33</td>\n",
       "      <td>#7577b8</td>\n",
       "    </tr>\n",
       "    <tr>\n",
       "      <th>4</th>\n",
       "      <td>Team Backlog</td>\n",
       "      <td>2</td>\n",
       "      <td>0</td>\n",
       "      <td>3</td>\n",
       "      <td>3</td>\n",
       "      <td>2</td>\n",
       "      <td>1</td>\n",
       "      <td>1.83</td>\n",
       "      <td>#7577b8</td>\n",
       "    </tr>\n",
       "    <tr>\n",
       "      <th>5</th>\n",
       "      <td>Team Ceremonies</td>\n",
       "      <td>1</td>\n",
       "      <td>3</td>\n",
       "      <td>1</td>\n",
       "      <td>2</td>\n",
       "      <td>2</td>\n",
       "      <td>2</td>\n",
       "      <td>1.83</td>\n",
       "      <td>#7577b8</td>\n",
       "    </tr>\n",
       "    <tr>\n",
       "      <th>6</th>\n",
       "      <td>Team Performance</td>\n",
       "      <td>1</td>\n",
       "      <td>1</td>\n",
       "      <td>1</td>\n",
       "      <td>1</td>\n",
       "      <td>2</td>\n",
       "      <td>1</td>\n",
       "      <td>1.17</td>\n",
       "      <td>#7577b8</td>\n",
       "    </tr>\n",
       "    <tr>\n",
       "      <th>7</th>\n",
       "      <td>Customer Feedback</td>\n",
       "      <td>0</td>\n",
       "      <td>1</td>\n",
       "      <td>0</td>\n",
       "      <td>2</td>\n",
       "      <td>2</td>\n",
       "      <td>2</td>\n",
       "      <td>1.17</td>\n",
       "      <td>#7577b8</td>\n",
       "    </tr>\n",
       "    <tr>\n",
       "      <th>8</th>\n",
       "      <td>Team Deployment</td>\n",
       "      <td>0</td>\n",
       "      <td>0</td>\n",
       "      <td>3</td>\n",
       "      <td>2</td>\n",
       "      <td>2</td>\n",
       "      <td>1</td>\n",
       "      <td>1.33</td>\n",
       "      <td>#7577b8</td>\n",
       "    </tr>\n",
       "    <tr>\n",
       "      <th>9</th>\n",
       "      <td>Team Retrospectives</td>\n",
       "      <td>1</td>\n",
       "      <td>2</td>\n",
       "      <td>1</td>\n",
       "      <td>2</td>\n",
       "      <td>2</td>\n",
       "      <td>1</td>\n",
       "      <td>1.50</td>\n",
       "      <td>#7577b8</td>\n",
       "    </tr>\n",
       "    <tr>\n",
       "      <th>10</th>\n",
       "      <td>Team Experience</td>\n",
       "      <td>2</td>\n",
       "      <td>2</td>\n",
       "      <td>2</td>\n",
       "      <td>3</td>\n",
       "      <td>3</td>\n",
       "      <td>2</td>\n",
       "      <td>2.33</td>\n",
       "      <td>#343091</td>\n",
       "    </tr>\n",
       "    <tr>\n",
       "      <th>11</th>\n",
       "      <td>Work Life Balance</td>\n",
       "      <td>1</td>\n",
       "      <td>3</td>\n",
       "      <td>1</td>\n",
       "      <td>1</td>\n",
       "      <td>3</td>\n",
       "      <td>2</td>\n",
       "      <td>1.83</td>\n",
       "      <td>#7577b8</td>\n",
       "    </tr>\n",
       "  </tbody>\n",
       "</table>\n",
       "</div>"
      ],
      "text/plain": [
       "                  Trait  0  1  2  3  4  5  Average    Color\n",
       "0        Role Sentiment  3  3  2  3  3  1     2.50  #343091\n",
       "1     Team Perform Role  2  3  2  3  2  2     2.33  #343091\n",
       "2      Team Composition  1  1  2  3  3  1     1.83  #7577b8\n",
       "3        Team Set Goals  1  1  0  1  3  2     1.33  #7577b8\n",
       "4          Team Backlog  2  0  3  3  2  1     1.83  #7577b8\n",
       "5       Team Ceremonies  1  3  1  2  2  2     1.83  #7577b8\n",
       "6      Team Performance  1  1  1  1  2  1     1.17  #7577b8\n",
       "7     Customer Feedback  0  1  0  2  2  2     1.17  #7577b8\n",
       "8       Team Deployment  0  0  3  2  2  1     1.33  #7577b8\n",
       "9   Team Retrospectives  1  2  1  2  2  1     1.50  #7577b8\n",
       "10      Team Experience  2  2  2  3  3  2     2.33  #343091\n",
       "11    Work Life Balance  1  3  1  1  3  2     1.83  #7577b8"
      ]
     },
     "execution_count": 7,
     "metadata": {},
     "output_type": "execute_result"
    }
   ],
   "source": [
    "proc = pd.read_csv(\"processed.csv\")\n",
    "proc[\"Color\"] = proc.apply(color, axis = 1)\n",
    "proc[\"Average\"] = proc[\"Average\"].round(2)\n",
    "proc"
   ]
  },
  {
   "cell_type": "code",
   "execution_count": 8,
   "id": "3a182032-6781-4e83-876f-6ca03d772d30",
   "metadata": {},
   "outputs": [
    {
     "data": {
      "application/vnd.plotly.v1+json": {
       "config": {
        "plotlyServerURL": "https://plot.ly"
       },
       "data": [
        {
         "alignmentgroup": "True",
         "hovertemplate": "Color=#343091<br>Trait=%{x}<br>Average=%{y}<extra></extra>",
         "legendgroup": "#343091",
         "marker": {
          "color": "#636efa",
          "pattern": {
           "shape": ""
          }
         },
         "name": "#343091",
         "offsetgroup": "#343091",
         "orientation": "v",
         "showlegend": true,
         "textposition": "auto",
         "type": "bar",
         "x": [
          "Role Sentiment",
          "Team Perform Role",
          "Team Experience"
         ],
         "xaxis": "x",
         "y": [
          2.5,
          2.33,
          2.33
         ],
         "yaxis": "y"
        },
        {
         "alignmentgroup": "True",
         "hovertemplate": "Color=#7577b8<br>Trait=%{x}<br>Average=%{y}<extra></extra>",
         "legendgroup": "#7577b8",
         "marker": {
          "color": "#EF553B",
          "pattern": {
           "shape": ""
          }
         },
         "name": "#7577b8",
         "offsetgroup": "#7577b8",
         "orientation": "v",
         "showlegend": true,
         "textposition": "auto",
         "type": "bar",
         "x": [
          "Team Composition",
          "Team Set Goals",
          "Team Backlog",
          "Team Ceremonies",
          "Team Performance",
          "Customer Feedback",
          "Team Deployment",
          "Team Retrospectives",
          "Work Life Balance"
         ],
         "xaxis": "x",
         "y": [
          1.83,
          1.33,
          1.83,
          1.83,
          1.17,
          1.17,
          1.33,
          1.5,
          1.83
         ],
         "yaxis": "y"
        }
       ],
       "layout": {
        "autosize": true,
        "barmode": "relative",
        "legend": {
         "title": {
          "text": "Color"
         },
         "tracegroupgap": 0
        },
        "margin": {
         "t": 60
        },
        "template": {
         "data": {
          "bar": [
           {
            "error_x": {
             "color": "#2a3f5f"
            },
            "error_y": {
             "color": "#2a3f5f"
            },
            "marker": {
             "line": {
              "color": "#E5ECF6",
              "width": 0.5
             },
             "pattern": {
              "fillmode": "overlay",
              "size": 10,
              "solidity": 0.2
             }
            },
            "type": "bar"
           }
          ],
          "barpolar": [
           {
            "marker": {
             "line": {
              "color": "#E5ECF6",
              "width": 0.5
             },
             "pattern": {
              "fillmode": "overlay",
              "size": 10,
              "solidity": 0.2
             }
            },
            "type": "barpolar"
           }
          ],
          "carpet": [
           {
            "aaxis": {
             "endlinecolor": "#2a3f5f",
             "gridcolor": "white",
             "linecolor": "white",
             "minorgridcolor": "white",
             "startlinecolor": "#2a3f5f"
            },
            "baxis": {
             "endlinecolor": "#2a3f5f",
             "gridcolor": "white",
             "linecolor": "white",
             "minorgridcolor": "white",
             "startlinecolor": "#2a3f5f"
            },
            "type": "carpet"
           }
          ],
          "choropleth": [
           {
            "colorbar": {
             "outlinewidth": 0,
             "ticks": ""
            },
            "type": "choropleth"
           }
          ],
          "contour": [
           {
            "colorbar": {
             "outlinewidth": 0,
             "ticks": ""
            },
            "colorscale": [
             [
              0,
              "#0d0887"
             ],
             [
              0.1111111111111111,
              "#46039f"
             ],
             [
              0.2222222222222222,
              "#7201a8"
             ],
             [
              0.3333333333333333,
              "#9c179e"
             ],
             [
              0.4444444444444444,
              "#bd3786"
             ],
             [
              0.5555555555555556,
              "#d8576b"
             ],
             [
              0.6666666666666666,
              "#ed7953"
             ],
             [
              0.7777777777777778,
              "#fb9f3a"
             ],
             [
              0.8888888888888888,
              "#fdca26"
             ],
             [
              1,
              "#f0f921"
             ]
            ],
            "type": "contour"
           }
          ],
          "contourcarpet": [
           {
            "colorbar": {
             "outlinewidth": 0,
             "ticks": ""
            },
            "type": "contourcarpet"
           }
          ],
          "heatmap": [
           {
            "colorbar": {
             "outlinewidth": 0,
             "ticks": ""
            },
            "colorscale": [
             [
              0,
              "#0d0887"
             ],
             [
              0.1111111111111111,
              "#46039f"
             ],
             [
              0.2222222222222222,
              "#7201a8"
             ],
             [
              0.3333333333333333,
              "#9c179e"
             ],
             [
              0.4444444444444444,
              "#bd3786"
             ],
             [
              0.5555555555555556,
              "#d8576b"
             ],
             [
              0.6666666666666666,
              "#ed7953"
             ],
             [
              0.7777777777777778,
              "#fb9f3a"
             ],
             [
              0.8888888888888888,
              "#fdca26"
             ],
             [
              1,
              "#f0f921"
             ]
            ],
            "type": "heatmap"
           }
          ],
          "heatmapgl": [
           {
            "colorbar": {
             "outlinewidth": 0,
             "ticks": ""
            },
            "colorscale": [
             [
              0,
              "#0d0887"
             ],
             [
              0.1111111111111111,
              "#46039f"
             ],
             [
              0.2222222222222222,
              "#7201a8"
             ],
             [
              0.3333333333333333,
              "#9c179e"
             ],
             [
              0.4444444444444444,
              "#bd3786"
             ],
             [
              0.5555555555555556,
              "#d8576b"
             ],
             [
              0.6666666666666666,
              "#ed7953"
             ],
             [
              0.7777777777777778,
              "#fb9f3a"
             ],
             [
              0.8888888888888888,
              "#fdca26"
             ],
             [
              1,
              "#f0f921"
             ]
            ],
            "type": "heatmapgl"
           }
          ],
          "histogram": [
           {
            "marker": {
             "pattern": {
              "fillmode": "overlay",
              "size": 10,
              "solidity": 0.2
             }
            },
            "type": "histogram"
           }
          ],
          "histogram2d": [
           {
            "colorbar": {
             "outlinewidth": 0,
             "ticks": ""
            },
            "colorscale": [
             [
              0,
              "#0d0887"
             ],
             [
              0.1111111111111111,
              "#46039f"
             ],
             [
              0.2222222222222222,
              "#7201a8"
             ],
             [
              0.3333333333333333,
              "#9c179e"
             ],
             [
              0.4444444444444444,
              "#bd3786"
             ],
             [
              0.5555555555555556,
              "#d8576b"
             ],
             [
              0.6666666666666666,
              "#ed7953"
             ],
             [
              0.7777777777777778,
              "#fb9f3a"
             ],
             [
              0.8888888888888888,
              "#fdca26"
             ],
             [
              1,
              "#f0f921"
             ]
            ],
            "type": "histogram2d"
           }
          ],
          "histogram2dcontour": [
           {
            "colorbar": {
             "outlinewidth": 0,
             "ticks": ""
            },
            "colorscale": [
             [
              0,
              "#0d0887"
             ],
             [
              0.1111111111111111,
              "#46039f"
             ],
             [
              0.2222222222222222,
              "#7201a8"
             ],
             [
              0.3333333333333333,
              "#9c179e"
             ],
             [
              0.4444444444444444,
              "#bd3786"
             ],
             [
              0.5555555555555556,
              "#d8576b"
             ],
             [
              0.6666666666666666,
              "#ed7953"
             ],
             [
              0.7777777777777778,
              "#fb9f3a"
             ],
             [
              0.8888888888888888,
              "#fdca26"
             ],
             [
              1,
              "#f0f921"
             ]
            ],
            "type": "histogram2dcontour"
           }
          ],
          "mesh3d": [
           {
            "colorbar": {
             "outlinewidth": 0,
             "ticks": ""
            },
            "type": "mesh3d"
           }
          ],
          "parcoords": [
           {
            "line": {
             "colorbar": {
              "outlinewidth": 0,
              "ticks": ""
             }
            },
            "type": "parcoords"
           }
          ],
          "pie": [
           {
            "automargin": true,
            "type": "pie"
           }
          ],
          "scatter": [
           {
            "fillpattern": {
             "fillmode": "overlay",
             "size": 10,
             "solidity": 0.2
            },
            "type": "scatter"
           }
          ],
          "scatter3d": [
           {
            "line": {
             "colorbar": {
              "outlinewidth": 0,
              "ticks": ""
             }
            },
            "marker": {
             "colorbar": {
              "outlinewidth": 0,
              "ticks": ""
             }
            },
            "type": "scatter3d"
           }
          ],
          "scattercarpet": [
           {
            "marker": {
             "colorbar": {
              "outlinewidth": 0,
              "ticks": ""
             }
            },
            "type": "scattercarpet"
           }
          ],
          "scattergeo": [
           {
            "marker": {
             "colorbar": {
              "outlinewidth": 0,
              "ticks": ""
             }
            },
            "type": "scattergeo"
           }
          ],
          "scattergl": [
           {
            "marker": {
             "colorbar": {
              "outlinewidth": 0,
              "ticks": ""
             }
            },
            "type": "scattergl"
           }
          ],
          "scattermapbox": [
           {
            "marker": {
             "colorbar": {
              "outlinewidth": 0,
              "ticks": ""
             }
            },
            "type": "scattermapbox"
           }
          ],
          "scatterpolar": [
           {
            "marker": {
             "colorbar": {
              "outlinewidth": 0,
              "ticks": ""
             }
            },
            "type": "scatterpolar"
           }
          ],
          "scatterpolargl": [
           {
            "marker": {
             "colorbar": {
              "outlinewidth": 0,
              "ticks": ""
             }
            },
            "type": "scatterpolargl"
           }
          ],
          "scatterternary": [
           {
            "marker": {
             "colorbar": {
              "outlinewidth": 0,
              "ticks": ""
             }
            },
            "type": "scatterternary"
           }
          ],
          "surface": [
           {
            "colorbar": {
             "outlinewidth": 0,
             "ticks": ""
            },
            "colorscale": [
             [
              0,
              "#0d0887"
             ],
             [
              0.1111111111111111,
              "#46039f"
             ],
             [
              0.2222222222222222,
              "#7201a8"
             ],
             [
              0.3333333333333333,
              "#9c179e"
             ],
             [
              0.4444444444444444,
              "#bd3786"
             ],
             [
              0.5555555555555556,
              "#d8576b"
             ],
             [
              0.6666666666666666,
              "#ed7953"
             ],
             [
              0.7777777777777778,
              "#fb9f3a"
             ],
             [
              0.8888888888888888,
              "#fdca26"
             ],
             [
              1,
              "#f0f921"
             ]
            ],
            "type": "surface"
           }
          ],
          "table": [
           {
            "cells": {
             "fill": {
              "color": "#EBF0F8"
             },
             "line": {
              "color": "white"
             }
            },
            "header": {
             "fill": {
              "color": "#C8D4E3"
             },
             "line": {
              "color": "white"
             }
            },
            "type": "table"
           }
          ]
         },
         "layout": {
          "annotationdefaults": {
           "arrowcolor": "#2a3f5f",
           "arrowhead": 0,
           "arrowwidth": 1
          },
          "autotypenumbers": "strict",
          "coloraxis": {
           "colorbar": {
            "outlinewidth": 0,
            "ticks": ""
           }
          },
          "colorscale": {
           "diverging": [
            [
             0,
             "#8e0152"
            ],
            [
             0.1,
             "#c51b7d"
            ],
            [
             0.2,
             "#de77ae"
            ],
            [
             0.3,
             "#f1b6da"
            ],
            [
             0.4,
             "#fde0ef"
            ],
            [
             0.5,
             "#f7f7f7"
            ],
            [
             0.6,
             "#e6f5d0"
            ],
            [
             0.7,
             "#b8e186"
            ],
            [
             0.8,
             "#7fbc41"
            ],
            [
             0.9,
             "#4d9221"
            ],
            [
             1,
             "#276419"
            ]
           ],
           "sequential": [
            [
             0,
             "#0d0887"
            ],
            [
             0.1111111111111111,
             "#46039f"
            ],
            [
             0.2222222222222222,
             "#7201a8"
            ],
            [
             0.3333333333333333,
             "#9c179e"
            ],
            [
             0.4444444444444444,
             "#bd3786"
            ],
            [
             0.5555555555555556,
             "#d8576b"
            ],
            [
             0.6666666666666666,
             "#ed7953"
            ],
            [
             0.7777777777777778,
             "#fb9f3a"
            ],
            [
             0.8888888888888888,
             "#fdca26"
            ],
            [
             1,
             "#f0f921"
            ]
           ],
           "sequentialminus": [
            [
             0,
             "#0d0887"
            ],
            [
             0.1111111111111111,
             "#46039f"
            ],
            [
             0.2222222222222222,
             "#7201a8"
            ],
            [
             0.3333333333333333,
             "#9c179e"
            ],
            [
             0.4444444444444444,
             "#bd3786"
            ],
            [
             0.5555555555555556,
             "#d8576b"
            ],
            [
             0.6666666666666666,
             "#ed7953"
            ],
            [
             0.7777777777777778,
             "#fb9f3a"
            ],
            [
             0.8888888888888888,
             "#fdca26"
            ],
            [
             1,
             "#f0f921"
            ]
           ]
          },
          "colorway": [
           "#636efa",
           "#EF553B",
           "#00cc96",
           "#ab63fa",
           "#FFA15A",
           "#19d3f3",
           "#FF6692",
           "#B6E880",
           "#FF97FF",
           "#FECB52"
          ],
          "font": {
           "color": "#2a3f5f"
          },
          "geo": {
           "bgcolor": "white",
           "lakecolor": "white",
           "landcolor": "#E5ECF6",
           "showlakes": true,
           "showland": true,
           "subunitcolor": "white"
          },
          "hoverlabel": {
           "align": "left"
          },
          "hovermode": "closest",
          "mapbox": {
           "style": "light"
          },
          "paper_bgcolor": "white",
          "plot_bgcolor": "#E5ECF6",
          "polar": {
           "angularaxis": {
            "gridcolor": "white",
            "linecolor": "white",
            "ticks": ""
           },
           "bgcolor": "#E5ECF6",
           "radialaxis": {
            "gridcolor": "white",
            "linecolor": "white",
            "ticks": ""
           }
          },
          "scene": {
           "xaxis": {
            "backgroundcolor": "#E5ECF6",
            "gridcolor": "white",
            "gridwidth": 2,
            "linecolor": "white",
            "showbackground": true,
            "ticks": "",
            "zerolinecolor": "white"
           },
           "yaxis": {
            "backgroundcolor": "#E5ECF6",
            "gridcolor": "white",
            "gridwidth": 2,
            "linecolor": "white",
            "showbackground": true,
            "ticks": "",
            "zerolinecolor": "white"
           },
           "zaxis": {
            "backgroundcolor": "#E5ECF6",
            "gridcolor": "white",
            "gridwidth": 2,
            "linecolor": "white",
            "showbackground": true,
            "ticks": "",
            "zerolinecolor": "white"
           }
          },
          "shapedefaults": {
           "line": {
            "color": "#2a3f5f"
           }
          },
          "ternary": {
           "aaxis": {
            "gridcolor": "white",
            "linecolor": "white",
            "ticks": ""
           },
           "baxis": {
            "gridcolor": "white",
            "linecolor": "white",
            "ticks": ""
           },
           "bgcolor": "#E5ECF6",
           "caxis": {
            "gridcolor": "white",
            "linecolor": "white",
            "ticks": ""
           }
          },
          "title": {
           "x": 0.05
          },
          "xaxis": {
           "automargin": true,
           "gridcolor": "white",
           "linecolor": "white",
           "ticks": "",
           "title": {
            "standoff": 15
           },
           "zerolinecolor": "white",
           "zerolinewidth": 2
          },
          "yaxis": {
           "automargin": true,
           "gridcolor": "white",
           "linecolor": "white",
           "ticks": "",
           "title": {
            "standoff": 15
           },
           "zerolinecolor": "white",
           "zerolinewidth": 2
          }
         }
        },
        "xaxis": {
         "anchor": "y",
         "autorange": true,
         "domain": [
          0,
          1
         ],
         "range": [
          -0.5,
          11.5
         ],
         "title": {
          "text": "Trait"
         },
         "type": "category"
        },
        "yaxis": {
         "anchor": "x",
         "autorange": true,
         "domain": [
          0,
          1
         ],
         "range": [
          0,
          2.6315789473684212
         ],
         "title": {
          "text": "Average"
         },
         "type": "linear"
        }
       }
      },
      "image/png": "[encoded data removed]",
      "text/html": [
       "<div>                            <div id=\"583df296-bd8c-4c0e-b405-b54019bdcf38\" class=\"plotly-graph-div\" style=\"height:525px; width:100%;\"></div>            <script type=\"text/javascript\">                require([\"plotly\"], function(Plotly) {                    window.PLOTLYENV=window.PLOTLYENV || {};                                    if (document.getElementById(\"583df296-bd8c-4c0e-b405-b54019bdcf38\")) {                    Plotly.newPlot(                        \"583df296-bd8c-4c0e-b405-b54019bdcf38\",                        [{\"alignmentgroup\":\"True\",\"hovertemplate\":\"Color=#343091\\u003cbr\\u003eTrait=%{x}\\u003cbr\\u003eAverage=%{y}\\u003cextra\\u003e\\u003c\\u002fextra\\u003e\",\"legendgroup\":\"#343091\",\"marker\":{\"color\":\"#636efa\",\"pattern\":{\"shape\":\"\"}},\"name\":\"#343091\",\"offsetgroup\":\"#343091\",\"orientation\":\"v\",\"showlegend\":true,\"textposition\":\"auto\",\"x\":[\"Role Sentiment\",\"Team Perform Role\",\"Team Experience\"],\"xaxis\":\"x\",\"y\":[2.5,2.33,2.33],\"yaxis\":\"y\",\"type\":\"bar\"},{\"alignmentgroup\":\"True\",\"hovertemplate\":\"Color=#7577b8\\u003cbr\\u003eTrait=%{x}\\u003cbr\\u003eAverage=%{y}\\u003cextra\\u003e\\u003c\\u002fextra\\u003e\",\"legendgroup\":\"#7577b8\",\"marker\":{\"color\":\"#EF553B\",\"pattern\":{\"shape\":\"\"}},\"name\":\"#7577b8\",\"offsetgroup\":\"#7577b8\",\"orientation\":\"v\",\"showlegend\":true,\"textposition\":\"auto\",\"x\":[\"Team Composition\",\"Team Set Goals\",\"Team Backlog\",\"Team Ceremonies\",\"Team Performance\",\"Customer Feedback\",\"Team Deployment\",\"Team Retrospectives\",\"Work Life Balance\"],\"xaxis\":\"x\",\"y\":[1.83,1.33,1.83,1.83,1.17,1.17,1.33,1.5,1.83],\"yaxis\":\"y\",\"type\":\"bar\"}],                        {\"template\":{\"data\":{\"histogram2dcontour\":[{\"type\":\"histogram2dcontour\",\"colorbar\":{\"outlinewidth\":0,\"ticks\":\"\"},\"colorscale\":[[0.0,\"#0d0887\"],[0.1111111111111111,\"#46039f\"],[0.2222222222222222,\"#7201a8\"],[0.3333333333333333,\"#9c179e\"],[0.4444444444444444,\"#bd3786\"],[0.5555555555555556,\"#d8576b\"],[0.6666666666666666,\"#ed7953\"],[0.7777777777777778,\"#fb9f3a\"],[0.8888888888888888,\"#fdca26\"],[1.0,\"#f0f921\"]]}],\"choropleth\":[{\"type\":\"choropleth\",\"colorbar\":{\"outlinewidth\":0,\"ticks\":\"\"}}],\"histogram2d\":[{\"type\":\"histogram2d\",\"colorbar\":{\"outlinewidth\":0,\"ticks\":\"\"},\"colorscale\":[[0.0,\"#0d0887\"],[0.1111111111111111,\"#46039f\"],[0.2222222222222222,\"#7201a8\"],[0.3333333333333333,\"#9c179e\"],[0.4444444444444444,\"#bd3786\"],[0.5555555555555556,\"#d8576b\"],[0.6666666666666666,\"#ed7953\"],[0.7777777777777778,\"#fb9f3a\"],[0.8888888888888888,\"#fdca26\"],[1.0,\"#f0f921\"]]}],\"heatmap\":[{\"type\":\"heatmap\",\"colorbar\":{\"outlinewidth\":0,\"ticks\":\"\"},\"colorscale\":[[0.0,\"#0d0887\"],[0.1111111111111111,\"#46039f\"],[0.2222222222222222,\"#7201a8\"],[0.3333333333333333,\"#9c179e\"],[0.4444444444444444,\"#bd3786\"],[0.5555555555555556,\"#d8576b\"],[0.6666666666666666,\"#ed7953\"],[0.7777777777777778,\"#fb9f3a\"],[0.8888888888888888,\"#fdca26\"],[1.0,\"#f0f921\"]]}],\"heatmapgl\":[{\"type\":\"heatmapgl\",\"colorbar\":{\"outlinewidth\":0,\"ticks\":\"\"},\"colorscale\":[[0.0,\"#0d0887\"],[0.1111111111111111,\"#46039f\"],[0.2222222222222222,\"#7201a8\"],[0.3333333333333333,\"#9c179e\"],[0.4444444444444444,\"#bd3786\"],[0.5555555555555556,\"#d8576b\"],[0.6666666666666666,\"#ed7953\"],[0.7777777777777778,\"#fb9f3a\"],[0.8888888888888888,\"#fdca26\"],[1.0,\"#f0f921\"]]}],\"contourcarpet\":[{\"type\":\"contourcarpet\",\"colorbar\":{\"outlinewidth\":0,\"ticks\":\"\"}}],\"contour\":[{\"type\":\"contour\",\"colorbar\":{\"outlinewidth\":0,\"ticks\":\"\"},\"colorscale\":[[0.0,\"#0d0887\"],[0.1111111111111111,\"#46039f\"],[0.2222222222222222,\"#7201a8\"],[0.3333333333333333,\"#9c179e\"],[0.4444444444444444,\"#bd3786\"],[0.5555555555555556,\"#d8576b\"],[0.6666666666666666,\"#ed7953\"],[0.7777777777777778,\"#fb9f3a\"],[0.8888888888888888,\"#fdca26\"],[1.0,\"#f0f921\"]]}],\"surface\":[{\"type\":\"surface\",\"colorbar\":{\"outlinewidth\":0,\"ticks\":\"\"},\"colorscale\":[[0.0,\"#0d0887\"],[0.1111111111111111,\"#46039f\"],[0.2222222222222222,\"#7201a8\"],[0.3333333333333333,\"#9c179e\"],[0.4444444444444444,\"#bd3786\"],[0.5555555555555556,\"#d8576b\"],[0.6666666666666666,\"#ed7953\"],[0.7777777777777778,\"#fb9f3a\"],[0.8888888888888888,\"#fdca26\"],[1.0,\"#f0f921\"]]}],\"mesh3d\":[{\"type\":\"mesh3d\",\"colorbar\":{\"outlinewidth\":0,\"ticks\":\"\"}}],\"scatter\":[{\"fillpattern\":{\"fillmode\":\"overlay\",\"size\":10,\"solidity\":0.2},\"type\":\"scatter\"}],\"parcoords\":[{\"type\":\"parcoords\",\"line\":{\"colorbar\":{\"outlinewidth\":0,\"ticks\":\"\"}}}],\"scatterpolargl\":[{\"type\":\"scatterpolargl\",\"marker\":{\"colorbar\":{\"outlinewidth\":0,\"ticks\":\"\"}}}],\"bar\":[{\"error_x\":{\"color\":\"#2a3f5f\"},\"error_y\":{\"color\":\"#2a3f5f\"},\"marker\":{\"line\":{\"color\":\"#E5ECF6\",\"width\":0.5},\"pattern\":{\"fillmode\":\"overlay\",\"size\":10,\"solidity\":0.2}},\"type\":\"bar\"}],\"scattergeo\":[{\"type\":\"scattergeo\",\"marker\":{\"colorbar\":{\"outlinewidth\":0,\"ticks\":\"\"}}}],\"scatterpolar\":[{\"type\":\"scatterpolar\",\"marker\":{\"colorbar\":{\"outlinewidth\":0,\"ticks\":\"\"}}}],\"histogram\":[{\"marker\":{\"pattern\":{\"fillmode\":\"overlay\",\"size\":10,\"solidity\":0.2}},\"type\":\"histogram\"}],\"scattergl\":[{\"type\":\"scattergl\",\"marker\":{\"colorbar\":{\"outlinewidth\":0,\"ticks\":\"\"}}}],\"scatter3d\":[{\"type\":\"scatter3d\",\"line\":{\"colorbar\":{\"outlinewidth\":0,\"ticks\":\"\"}},\"marker\":{\"colorbar\":{\"outlinewidth\":0,\"ticks\":\"\"}}}],\"scattermapbox\":[{\"type\":\"scattermapbox\",\"marker\":{\"colorbar\":{\"outlinewidth\":0,\"ticks\":\"\"}}}],\"scatterternary\":[{\"type\":\"scatterternary\",\"marker\":{\"colorbar\":{\"outlinewidth\":0,\"ticks\":\"\"}}}],\"scattercarpet\":[{\"type\":\"scattercarpet\",\"marker\":{\"colorbar\":{\"outlinewidth\":0,\"ticks\":\"\"}}}],\"carpet\":[{\"aaxis\":{\"endlinecolor\":\"#2a3f5f\",\"gridcolor\":\"white\",\"linecolor\":\"white\",\"minorgridcolor\":\"white\",\"startlinecolor\":\"#2a3f5f\"},\"baxis\":{\"endlinecolor\":\"#2a3f5f\",\"gridcolor\":\"white\",\"linecolor\":\"white\",\"minorgridcolor\":\"white\",\"startlinecolor\":\"#2a3f5f\"},\"type\":\"carpet\"}],\"table\":[{\"cells\":{\"fill\":{\"color\":\"#EBF0F8\"},\"line\":{\"color\":\"white\"}},\"header\":{\"fill\":{\"color\":\"#C8D4E3\"},\"line\":{\"color\":\"white\"}},\"type\":\"table\"}],\"barpolar\":[{\"marker\":{\"line\":{\"color\":\"#E5ECF6\",\"width\":0.5},\"pattern\":{\"fillmode\":\"overlay\",\"size\":10,\"solidity\":0.2}},\"type\":\"barpolar\"}],\"pie\":[{\"automargin\":true,\"type\":\"pie\"}]},\"layout\":{\"autotypenumbers\":\"strict\",\"colorway\":[\"#636efa\",\"#EF553B\",\"#00cc96\",\"#ab63fa\",\"#FFA15A\",\"#19d3f3\",\"#FF6692\",\"#B6E880\",\"#FF97FF\",\"#FECB52\"],\"font\":{\"color\":\"#2a3f5f\"},\"hovermode\":\"closest\",\"hoverlabel\":{\"align\":\"left\"},\"paper_bgcolor\":\"white\",\"plot_bgcolor\":\"#E5ECF6\",\"polar\":{\"bgcolor\":\"#E5ECF6\",\"angularaxis\":{\"gridcolor\":\"white\",\"linecolor\":\"white\",\"ticks\":\"\"},\"radialaxis\":{\"gridcolor\":\"white\",\"linecolor\":\"white\",\"ticks\":\"\"}},\"ternary\":{\"bgcolor\":\"#E5ECF6\",\"aaxis\":{\"gridcolor\":\"white\",\"linecolor\":\"white\",\"ticks\":\"\"},\"baxis\":{\"gridcolor\":\"white\",\"linecolor\":\"white\",\"ticks\":\"\"},\"caxis\":{\"gridcolor\":\"white\",\"linecolor\":\"white\",\"ticks\":\"\"}},\"coloraxis\":{\"colorbar\":{\"outlinewidth\":0,\"ticks\":\"\"}},\"colorscale\":{\"sequential\":[[0.0,\"#0d0887\"],[0.1111111111111111,\"#46039f\"],[0.2222222222222222,\"#7201a8\"],[0.3333333333333333,\"#9c179e\"],[0.4444444444444444,\"#bd3786\"],[0.5555555555555556,\"#d8576b\"],[0.6666666666666666,\"#ed7953\"],[0.7777777777777778,\"#fb9f3a\"],[0.8888888888888888,\"#fdca26\"],[1.0,\"#f0f921\"]],\"sequentialminus\":[[0.0,\"#0d0887\"],[0.1111111111111111,\"#46039f\"],[0.2222222222222222,\"#7201a8\"],[0.3333333333333333,\"#9c179e\"],[0.4444444444444444,\"#bd3786\"],[0.5555555555555556,\"#d8576b\"],[0.6666666666666666,\"#ed7953\"],[0.7777777777777778,\"#fb9f3a\"],[0.8888888888888888,\"#fdca26\"],[1.0,\"#f0f921\"]],\"diverging\":[[0,\"#8e0152\"],[0.1,\"#c51b7d\"],[0.2,\"#de77ae\"],[0.3,\"#f1b6da\"],[0.4,\"#fde0ef\"],[0.5,\"#f7f7f7\"],[0.6,\"#e6f5d0\"],[0.7,\"#b8e186\"],[0.8,\"#7fbc41\"],[0.9,\"#4d9221\"],[1,\"#276419\"]]},\"xaxis\":{\"gridcolor\":\"white\",\"linecolor\":\"white\",\"ticks\":\"\",\"title\":{\"standoff\":15},\"zerolinecolor\":\"white\",\"automargin\":true,\"zerolinewidth\":2},\"yaxis\":{\"gridcolor\":\"white\",\"linecolor\":\"white\",\"ticks\":\"\",\"title\":{\"standoff\":15},\"zerolinecolor\":\"white\",\"automargin\":true,\"zerolinewidth\":2},\"scene\":{\"xaxis\":{\"backgroundcolor\":\"#E5ECF6\",\"gridcolor\":\"white\",\"linecolor\":\"white\",\"showbackground\":true,\"ticks\":\"\",\"zerolinecolor\":\"white\",\"gridwidth\":2},\"yaxis\":{\"backgroundcolor\":\"#E5ECF6\",\"gridcolor\":\"white\",\"linecolor\":\"white\",\"showbackground\":true,\"ticks\":\"\",\"zerolinecolor\":\"white\",\"gridwidth\":2},\"zaxis\":{\"backgroundcolor\":\"#E5ECF6\",\"gridcolor\":\"white\",\"linecolor\":\"white\",\"showbackground\":true,\"ticks\":\"\",\"zerolinecolor\":\"white\",\"gridwidth\":2}},\"shapedefaults\":{\"line\":{\"color\":\"#2a3f5f\"}},\"annotationdefaults\":{\"arrowcolor\":\"#2a3f5f\",\"arrowhead\":0,\"arrowwidth\":1},\"geo\":{\"bgcolor\":\"white\",\"landcolor\":\"#E5ECF6\",\"subunitcolor\":\"white\",\"showland\":true,\"showlakes\":true,\"lakecolor\":\"white\"},\"title\":{\"x\":0.05},\"mapbox\":{\"style\":\"light\"}}},\"xaxis\":{\"anchor\":\"y\",\"domain\":[0.0,1.0],\"title\":{\"text\":\"Trait\"}},\"yaxis\":{\"anchor\":\"x\",\"domain\":[0.0,1.0],\"title\":{\"text\":\"Average\"}},\"legend\":{\"title\":{\"text\":\"Color\"},\"tracegroupgap\":0},\"margin\":{\"t\":60},\"barmode\":\"relative\"},                        {\"responsive\": true}                    ).then(function(){\n",
       "                            \n",
       "var gd = document.getElementById('583df296-bd8c-4c0e-b405-b54019bdcf38');\n",
       "var x = new MutationObserver(function (mutations, observer) {{\n",
       "        var display = window.getComputedStyle(gd).display;\n",
       "        if (!display || display === 'none') {{\n",
       "            console.log([gd, 'removed!']);\n",
       "            Plotly.purge(gd);\n",
       "            observer.disconnect();\n",
       "        }}\n",
       "}});\n",
       "\n",
       "// Listen for the removal of the full notebook cells\n",
       "var notebookContainer = gd.closest('#notebook-container');\n",
       "if (notebookContainer) {{\n",
       "    x.observe(notebookContainer, {childList: true});\n",
       "}}\n",
       "\n",
       "// Listen for the clearing of the current output cell\n",
       "var outputEl = gd.closest('.output');\n",
       "if (outputEl) {{\n",
       "    x.observe(outputEl, {childList: true});\n",
       "}}\n",
       "\n",
       "                        })                };                });            </script>        </div>"
      ]
     },
     "metadata": {},
     "output_type": "display_data"
    }
   ],
   "source": [
    "fig = px.bar(proc, x='Trait', y='Average', color='Color')\n",
    "fig.show()"
   ]
  },
  {
   "cell_type": "code",
   "execution_count": 62,
   "id": "6666ae3e-e81a-4e67-9184-63bdbb252594",
   "metadata": {},
   "outputs": [
    {
     "data": {
      "application/vnd.plotly.v1+json": {
       "config": {
        "plotlyServerURL": "https://plot.ly"
       },
       "data": [
        {
         "marker": {
          "color": "white",
          "line": {
           "color": "DarkSlateGrey",
           "width": 5
          }
         },
         "text": [
          2.5,
          2.33,
          1.83,
          1.33,
          1.83,
          1.83,
          1.17,
          1.17,
          1.33,
          1.5,
          2.33,
          1.83
         ],
         "textfont": {
          "size": 18,
          "style": "italic",
          "weight": "bold"
         },
         "type": "bar",
         "x": [
          "Role Sentiment",
          "Team Perform Role",
          "Team Composition",
          "Team Set Goals",
          "Team Backlog",
          "Team Ceremonies",
          "Team Performance",
          "Customer Feedback",
          "Team Deployment",
          "Team Retrospectives",
          "Team Experience",
          "Work Life Balance"
         ],
         "y": [
          2.5,
          2.33,
          1.83,
          1.33,
          1.83,
          1.83,
          1.17,
          1.17,
          1.33,
          1.5,
          2.33,
          1.83
         ]
        }
       ],
       "layout": {
        "autosize": false,
        "height": 800,
        "images": [
         {
          "layer": "below",
          "opacity": 1,
          "sizex": 12,
          "sizey": 3,
          "sizing": "stretch",
          "source": "data:image/png;base64,iVBORw0KGgoAAAANSUhEUgAABQAAAALPCAYAAAA9/W0YAAByx0lEQVR4nO39d5Tl6Zkf9j33Vs6hu6q6qqvTdJ7Yg7QJ2AAsMAMuRdGWLMm0ZZGmdOwj60hHsimSlkTLkngkixLtPUq2ZcmKtESuqJVIHVHARuwudoFdAJPzTOccKueqe/1Ho7GDiR3qPr/fvffzOQcHC2Cmvm/VVPee+vb7Pk/lc2d+uR4AAAAAQEuqFn0AAAAAAKBxFIAAAAAA0MIUgAAAAADQwhSAAAAAANDCFIAAAAAA0MIUgAAAAADQwhSAAAAAANDCFIAAAAAA0MIUgAAAAADQwhSAAAAAANDCFIAAAAAA0MIUgAAAAADQwhSAAAAAANDCFIAAAAAA0MIUgAAAAADQwhSAAAAAANDCFIAAAAAA0MIUgAAAAADQwhSAAAAAANDCFIAAAAAA0MIUgAAAAADQwhSAAAAAANDCFIAAAAAA0MIUgAAAAADQwhSAAAAAANDCFIAAAAAA0MIUgAAAAADQwhSAAAAAANDCFIAAAAAA0MIUgAAAAADQwhSAAAAAANDCFIAAAAAA0MIUgAAAAADQwhSAAAAAANDCFIAAAAAA0MIUgAAAAADQwhSAAAAAANDCFIAAAAAA0MIUgAAAAADQwhSAAAAAANDCFIAAAAAA0MIUgAAAAADQwhSAAAAAANDCFIAAAAAA0MIUgAAAAADQwhSAAAAAANDCFIAAAAAA0MIUgAAAAADQwhSAAAAAANDCFIAAAAAA0MIUgAAAAADQwhSAAAAAANDCFIAAAAAA0MI6iz7Aw/qlP3k6/uSfOl30MRpie7sWGxvbd/+1vh3r63f/7/n5tbh8eTEuXVyI8+fmYm1tq+ijlsrx43vjn/sLP5uWV6/X45/9p/9ObGxsp2UCAAAAPKimLQC/+LOH43Ofny36GIWp1eoxP7cW164txZtv3IyXXroa3/vDS3H16lLRRyvMZz+3P/V74tKlBeUfAAAAUHpNWwCePDlR9BEKVa1WYnxPf4zv6Y/Hn5iK/9k/8GRERFy9shivvnI9fvu334vf/PV326qgOvX4ZGreW2/eTM0DAAAAeBhNWQCOjPTG/tmRoo9RStMzwzE9Mxy/+LXjsfgXN+L3fuds/E9/7634/W+fj1qtXvTxGurkydwC8PXXbqTmAQAAADyMpiwAn/3s/qhWK0Ufo/SGh3vi6790Kr7+S6fi2rWl+Nu/8kr8rf/6xVhe3iz6aLuuv78rDh8ZS8189ZVrqXkAAAAAD6MptwA/8cRU0UdoOvv2DcU/+U/9VPzq3/2z8ef/ic9HT09Tdr8f6+lnpqOzM+/beXNzJ156UQEIAAAAlF9TFoAnT7X3/L9HMTLSG//7f/Kn4m/9t/9ofOUXjxV9nF3z5JP7UvPOnb3TVvMVAQAAgObVlAXgiTZfALIbpqeH4t/4a38i/o2/9idiZKS36OM8spOnc78n3nzDAhAAAACgOTRdAXjgwGjs2dNf9DFaxld+8Vj853/jH4kzz84UfZRHkr0V+jULQAAAAIAm0XQF4DPPThd9hJYzPTMc/86//6fjuedPFH2Uh7J370Dsmx5OzXz5paupeQAAAAAPq+kKwMcftwCkEXp7O+Nf+avPxT/4v3iq6KM8sDOfmYlK4lLopaUNT4ABAACAptF0BeCp5Flv7aRarcRf+Es/H3/6f/5k0Ud5IE88mVsKv/P2rdQ8AAAAgEfRVAVgtVqJo8f2Fn2MllatVuKf/0s/Fz/104eKPsp9O3lyMjXP7T8AAACgmTRVAfj4E1PR399V9DFaXldXR/wrf/VrMTs7UvRR7svxE3tS81595XpqHgAAAMCjaKoC8Kmn9xV9hLYxOtoXf+X/+tWoVhOH6z2Eo8f2xOhoX2rmCz+4kpoHAAAA8CiaqgA8fTr3qWe7e/YzM/Fn/lfPFn2MT/T0M7lboW9cX45r15ZSMwEAAAAeRVMVgCdOWgCS7c/945+PiYmBoo/xsR5/PHn+35vm/wEAAADNpWkKwIGB7jh8ZKzoY7Sd4eGe+HN//vNFH+NjnTyVWwC+8fqN1DwAAACAR9U0BeDTz0xHR0fTHLel/Mk/dTomJgeLPsaHdHV1xNFjFoAAAAAAfJKmadSefMoCkKL09XXFP/APPlX0MT7kyaemoru7Iy2vVqvHiy9YAAIAAAA0l6YpAE+dNv+vSH/il04WfYQPyS6Fz5+bi+XlzdRMAAAAgEfVNAWgBSDFmp4Zjs99frboY/yYxx+fSs2zAAQAAABoRp1FH+B+TEwOxr59Q6mZf/D7F2JjY7uhGdVqJQYGuqO/vyv6+7tjbLwvhoZ6Gpr5KH7+y0fjj/7wUtHH+JHsUtgCEAAAAKAZNUUB+OyzM6l5m5s78c/9M38ntrZ2UnMjIo4cGY/Hn5iKU6cn4os/eyRmZ0fSz/BxPvOZ/UUf4UeGR3pj9kDu1+bll66l5gEAAADshqYoAB9/Ivep57vv3C6k/IuIOHv2Tpw9eyf+h7/7evzbf+1b8RM/eTD+vr//8fjq145HtVop5Ez3PHZ0PAYHu0sxB+/MmZnUr8f6+rYNwAAAAEBTaooZgNkLQN58ozxPPb/zBxfiX/zLfy/+d//4fxNvFTyDrqOjGk89PV3oGe554sncUvidt2/Fzk4tNRMAAABgNzRFAXj8+N7UvFdfLU8BeM8LP7gS/+if+a/i//dfvlDoOY4e3VNo/j2nTk+m5lkAAgAAADSr0heAx4/vjeGR3tTMl168mpp3v2q1evz1f+tb8Z/8x39U2BlmD5ZjJuHxE7ml8Guvev4LAAAANKfSF4BPP5P75HR+fi3ee/d2auaD+vf+nW/H73zrbCHZe8b7C8l9v/2zIzExMZCa+dIL5SyFAQAAAD5N6QvA00/kPvV8+61bqXkP69/8138rVlfyl3GMjvWlZ37QmTO5W6Hn5tbi3Lm51EwAAACA3VL6AvDEydwFIG+83hyz3q5dW4q/83deT8/t6+tKz/yg7FK46OUrAAAAAI+i1AVgd3dH+tKJZpr19t/9t6+mZ3Z3d6RnftCpU7kFYLOUwgAAAAAfpdQF4FNPT6cWTvX63W27zeLtt27FhfPzqZnVaiU176Pyjx1XCgMAAADcr1IXgE8+NZWad/XKYty6tZKa+ajeeONGat7m1k5q3gedPDURAwPdaXl3S+HLaXkAAAAAu63UBWD2U88332i+p54XLyyk5m1tFlsAPv107lboy5cX4s6dtdRMAAAAgN1U6gLw5KnkBSDJt+l2w62by6l5i4sbqXkfZAEIAAAAwIMpbQE4MtIb+2dHUjNfeflaat5uWF3dSs2bnyv2NtzJkxaAAAAAADyI0haAz35mf+rCia2tnXj5peYrAKsduUs5ipyR2NfXFYePjKVmvvLy1dQ8AAAAgN1W2gLwiSdzF4CcOzsXa2u5t+l2w+BgT2re5Uu5Mwff75kz09HZmfctu7m5Ey+92HylMAAAAMD7lbYAzJ7/14wLQCIiBgfzNuJGRJw/P5+a935PPrkvNe/c2TuxsbGdmgkAAACw20pbAJ44mVsAvvba9dS83TIzM5yWVavV480CF6WcPJ37PfHWm7dS8wAAAAAaoZQF4IEDo7FnT39q5ksvNuest0OH82biXbmyWOgW4JPJpfCrrzZnKQwAAADwfqUsAJ95djo1b3l5s2mfAB88NJqW9e47t9OyPmjv3oHYN5132zEi4uWXmrMUBgAAAHi/UhaAjz+euwDk7beas/w7fnxvjI72peUVeUvyzGdmopK48LiZS2EAAACA9ytlAWgByP353BdmU/P+8LsXU/Pe74knlMIAAAAAD6N0BWC1Woljx/akZr76SnPOevv8Fw6kZd25sxavv1bgApBTk6l5zVoKAwAAAHxQ6QrAx5+Yiv6B7tTMF35wJTVvN/T3d8XnPp93A/D3v30uLeujHD+RXApbAAIAAAC0iNIVgE8+tS8178b15bh2bSk1czd87bkT0dfXlZb3W7/5XlrWBz12dE/qrMOIiBebsBQGAAAA+CilKwAffzz5qeebzfnU80/96cfTsu7cXo3f+51zaXkf9MyZ3K3QN64vx9WrzVcKAwAAAHyU0hWAJ07mLgB54/Xi5to9rM99fjaeejqvFPt7/+ObsbW1k5b3QUphAAAAgIdXqgKwv78rDh8ZS8185eVrqXm74c//E19Iy6rV6vErf+vltLyPYgEIAAAAwMMrVQH4zJmZ6OjIO1KtVo+XXryalrcbnnv+ROryj9/8jXfj4oX5tLwP6urqiMeOjqdmNmMpDAAAAPBxSlUAZi8AOXf2Tiwvb6ZmPorx8b74Z/7ZL6bl1Wr1+I/+w++m5X2UJ5+aip6ezrS8Wq0eL75gAQgAAADQOkpVAJ46nTv/7603b6XmPap/+V/9WkxMDqblffMbb8fbbxX7Ncouhc+fn2uqUhgAAADg05SqADx+IrcAfO2166l5j+Iv/uWfj5/66UNpeUtLG/Hv/vLvpeV9nNOnzf8DAAAAeBSlKQAnJgdjenooNfOVl5pj1ts/93/62fgH/6GnUzP/4//wD+PataXUzI+SvQCkGbdCAwAAAHySvOFqn+LZZ2dS81ZXt+K118pd9gwMdMe/9C//YnzlF4+l5r7wgyvxN/7LH6RmfpThkd6YPTCSmvlyk5TCAAAAAPerNAXg409Mpea9+86t2NmppWY+iJ/4yYPxl/6FX4jZ2dwCbH5+Lf7lv/LNqNXqqbkf5cyZmahWK2l56+vb8eorzfMsHAAAAOB+lKYAPHkqd/7fG6+Xc9bbU0/tiz/35z8fX/zZI1HJ674i4u4G3H/9X/vNuHxpITf4Y2SXwu+8Xe5SGAAAAOBhlKYAPHFib2pemRaATEwOxld+8Vj84lePxzNnpgs7x7/373w7fuPX3yks/4NOP568AOTNcpbCAAAAAI+iFAXg8eN7Y3ikNzXzxReupubdMzExEIePjMeRx8bjxMm98cQT++Kxo+OpT10/yq/8zZfiP/tPvlfoGT7oeHIp/Pqr5Z4JCQAAAPAwSlEAPvXMvtS8ej3ir/3bv5SS1dlZja6ujujt7Yzhkd7o7CzN4uUf+e9/9bX4v/3rv1X0MX7M/tmRmJgYSM188YUrqXkAAAAAGUpRAGbPeqtUIo4e25OaWVa/+rdfib/6r/5G0cf4kDNncrdCz82txblzc6mZAAAAABlKUQCeOJm7AIS7Cz/+4//PH8b/6z/4g6KP8pFOP5E7/+/tt26l5gEAAABkKbwA7O7uiKNH3cbLtL6+Hf/GX/3N+B/+7utFH+VjnTqVWwC+/pr5fwAAAEBrKrwAfOrp6eju7ij6GG3jvXdvx//lX/pmvPF6eQuvarUSx47nlsKvvVqerdAAAAAAu6nwAvDJp3Ln/7WrWq0ev/q3X43/x1//nVhb2yr6OJ/o5KmJGBjoTsur1yNesAAEAAAAaFGFF4DZTz3b0Vtv3ox/69/87fjB95uj5Hr66enUvCuXF+LO7dXUTAAAAIAshReAFoA0ztUri/Gf/2ffj//mb70ctVq96OPct1OP55bCb755MzUPAAAAIFOhBeDISG/MHhgp8ggt6fy5ufhvfuXl+JW/+XJsbe0UfZwHln0r9I3XFYAAAABA6yq0AHz2M/ujWq0UeYSWsb6+Hd/9zoX41b/9avzOt84WfZyH1tfXFYePjKVmvvLytdQ8AAAAgEyFFoCPP2H+36O4c2ctXnrxSvzOt87Gb/zaO7G8vFn0kR7Z089MR2dnNS1vc3MnXnrxaloeAAAAQLZCC8BTpxWA92ttbSvOvncn3nvvTrz79u343h9ditdfv1H0sXbdU0/tS807d/ZObGxsp2YCAAAAZCq0ALQA5P79p//fP4r/6D/8w6KP0XAnT+d+T7z15q3UPAAAAIBseW8tP2B2diT27OkvKr7pfP97V4o+QoqTyaXwa69dT80DAAAAyFZYAXjm2ZmiopvSX/hLPxc//TOHij5GQ+3dOxD7podTM83/AwAAAFpdYQXg409MFRXdlI4f3xu//O/+/fHXf/nvi9nZkaKP0xBnPjMTlcSl0MvLm/HmGzfzAgEAAAAKUFgBePKU+X8P40s/eyT+o//0H2rJ24BPJJfCb79l/h8AAADQ+gopAKvVShw7tqeI6JYwPt4Xf/2X/7743/zZzxZ9lF2VXQq/+UbrbVEGAAAA+KBCCsDHn5iK/oHuIqJbRkdHNf6pf/pn4h/5M2eKPsquOX5ib2req69aAAIAAAC0vkIKwCef2ldEbMupVCL+2f/jl+Lrv3Sq6KM8sseO7onR0b7UzBd/0B6blQEAAID2VkgBePrxySJiW1K1Won/87/45Tjy2HjRR3kkTz8znZp34/pyXL26lJoJAAAAUIRCCsCTJy0A2U29vZ3xl/+FXyj6GI/kiSdyS+E337T9FwAAAGgPndmB/f1dcfjIWGrmr33z7Vhb3Xrov7+jsxrd3R3R090Zg0PdsWfPQOzZ2x8DJZpj+Oxn9sc/9I88E3/zv3qx6KM8lJOnkgvANxSAAAAAQHtILwCfOTMTHR15Fw83N3fir/wL34itrZ1d/9gHD43G089Mx5lnZ+KLXzoSe/b073rGg/jH/uxn41f/9iuxubn7n2sjdXV1xGNHc58wv/rKtdQ8AAAAgKKkF4BPPDmVmvfuO7cbUv5FRFw4Px8Xzs/H3/3vX49qtRJf/sqx+N/+459P32Z7z+TUYPypP/1E/MrffKmQ/If1xJNT0dOT961Yq9XjpRevpuUBAAAAFCl9BmD2ApA337iRklOr1ePXvvl2/Jl/+G/EL//ff7ewW3h/6u9/vJDcR/HU07lboc+fn4vFxY3UTAAAAICipBeAx0/kLgB57bWcAvD9/ov/7PvxT/8f/rtYWdlMzz79+GRhNxAf1unTuaXwW2/eSs0DAAAAKFJqATgxORjT00OZkYU99fzeH12Kv/zP/4+F3AT82vMn0jMfxYnkrdCvv3Y9NQ8AAACgSKkF4LPPzmTGxcLCerz7zu3UzPf7/W+fj7/xX/wgPfcnfvJgeubDGh7pjQMHR1MzX37JAhAAAACgfaQWgI8/kbsApAxPPf/f/8/vxMWL86mZJ09OxMTEQGrmwzpzZiaq1Upa3vr6drz6ihuAAAAAQPtILQBPnsp96vnmm/nz/z5oa2sn/tZ/nbuVt1qtxOe/cCA182Fll8LvvnM7dnZqqZkAAAAARUotALOXU7z2avEFYETE3/6VV2JpKXfr7NNnplPzHtap07ml8BtJW6EBAAAAyiKtADx+fG+MjPRmxUW9HvHC9y+n5X2SjY3t+M7vX0jNPHUqd7Puw0pfAFKSUhgAAAAgS1oB+NQz+7KiIiLi2tXFuHlzJTXzk/z2b7+XmnfksfHU2XoPY3pmOH1WYVFboQEAAACKklYAnn48eQHIW8UvAHm/7/7BhajV6ml5/f1dcfTYnrS8h5G9FXpubi3Onr2TmgkAAABQtLQCMHsByBuvl+up5507a3Hp4kJqZtkLwMefzC2F3y5ZKQwAAACQIaUA7OrqiKNHc8uoV16+lpp3P95682Zq3qHDY6l5Dyp7TmHZSmEAAACADCkF4JNP7Yvu7o6MqIiI2N6ulXLW2/nz86l5s/tHUvMeRLVaiWPHc0vhV1+5npoHAAAAUAYpBeDTyQtAzp2di9XVrdTM+3Hh/Fxq3tS+odS8B3Hy1EQMDHSn5dXrES+8cCUtDwAAAKAsUgrA7Keeb72V+9T2fp1PLgD37RtMzXsQTz89nZp35fJC3Lm9mpoJAAAAUAYpBeCJk7kLQF5/tZxPPbOXgOzZO5Ca9yBOPZ5cCr9pAQgAAADQnhpeAI6M9MbsgdxZdC+XcAFIRMTCwnrq0+Tu7o6YnhlOy3sQ2VuhX7cABAAAAGhTDS8An/3M/qhWK42O+ZHVlc14/bXylj137uQ+Q52dLd8ikL6+rjhyZDw1s4xboQEAAAAyNLwAfPyJ3Kee77xzO2q1emrmg7h9K7cAnCnhDcCnn5mOzs6U1+cREbG1tVPKrdAAAAAAGRrewpw6nVsAvlHyp563b6+k5k2VcBHIk09Npeadfe9ObGxsp2YCAAAAlEXDC8D0BSAlfv4bEXHzZnIBODWUmnc/skthC0AAAACAdtbQAnB2diT27OlvZMSHvPhCuZ963kouACenyncD8GRyKfzaa+XcCg0AAACQoaEF4JlnZxr54T/k9u3VuHhxPjXzQd24vpyaNzExkJr3afbuHYh907lzCV9+yQIQAAAAoH01tAA8/Xj2U8+bqXkP43p2AThZrhuAZ56diUreUuhYXt4s/VxIAAAAgEZqaAFoAciHXbm8kJo3PNwTg4PdqZmf5IkncxeAvP2W+X8AAABAe2tYAVitVuLYsT2N+vAf6bVXy18AXr26FFtbO6mZBw6OpuZ9kpOncuf/vdkEt0IBAAAAGqlhBeDpxyejfyDv5lmtVo8ffP9yWt6juHN7NTVv/+xIat4nOX5ib2req6+Y/wcAAAC0t4YVgE89Pd2oD/2RLl9aiIWF9dTMh3U7uQDct28oNe/jPHZ0T4yO9qVmvviDK6l5AAAAAGXT0BuAmd58o3meet68uZKaN1WSAvDpZ3JL4Zs3luPq1aXUTAAAAICyaVgBeOJE7qy3N94o//y/e7ILwH1T5dgE/HhyKfxGE5XCAAAAAI3SkAKwv78rDh8Za8SH/livvHw9Ne9R3LyxnJpXlhuA2Vuhm+lWKAAAAECjNKQAfObMTHR2Nuxy4Ydsbu7Eyy9dTct7VNev5RaAE5MDqXkfpaurIx47Op6aaQEIAAAAQIMKwCeenGrEh/1Y7757OzY3d1IzH8X167lz6cbH+6OnpzM184OeeHIq9Qy1Wj1eerF5SmEAAACARmlIAZj91POtN5vrqeeliwupedVqJQ4dzn2S/UFPPrUvNe/8+blYXNxIzQQAAAAoo4YUgCdO5i4Aef3V5lkAEhFx7dpS+o3F2dmR1LwPyl4A8tabt1LzAAAAAMpq1wvAiYmBmJ7OXTrxUhPN/7vn9q3cTcAz+4dT8z4ouxR+47XmKoUBAAAAGmXXC8Azn9m/2x/yEy0ubsTbbzXfba+bN3MLwH3Jpez7DQ/3xIGDo6mZzVgKAwAAADTCrheATzyRuwDk7beaa/7fPekF4L7iCsAzz+6ParWSlre+vh2vvnI9LQ8AAACgzHa9ADx5Kvep55tvNGkBeGM5NW9qajA17/0eTy6F333nduzs1FIzAQAAAMpq1wvA4yf27vaH/ESvvdqcN72uX8stACenirsBeOq0UhgAAACgKLtaAB49tidGRnp380N+qhdeaM5Zb9euLaXmjY31RX9/V2rmPdkLQJq1FAYAAABohF0tAJ85M72bH+5TXbu2FNeTi7TdcvnyQmpepRJx6NBYamZExPTMcExMDKRmvvRic5bCAAAAAI2wqwXg6ceTF4C82Xzbf++5eGE+PXP/gZH0zGefnUnNm59fi7Nn76RmAgAAAJTZrhaAJ5Ofer7xxo3UvN20vLwZi4sbqZkzM8OpeRERjz+ZWwq/1cSlMAAAAEAj7FoB2NXVEUeP7dmtD3dfXn7pWmrebsveBDw9nb8I5NSpydS8N15v3lIYAAAAoBF2rQB88ql90d3dsVsf7lPt7NSaftbbjeQCcGpfbgFYrVbi2PHcUtgCEAAAAIAft2sF4FNP79utD3Vfzp+bi5WVzdTM3Xbr5kpq3r7kAvDkyYkYGOhOy6vXI37wgytpeQAAAADNYNcKwNOnc596tsKst2vJG4wnJnO38T79TO5W6CuXF+LO7dXUTAAAAICy27UC8ETyApDXXmv+p57Xr+U+AR4d7YvBwbwbeaceVwoDAAAAFG1XCsDhkd6YPTCyGx/qvr3S5AtAIiKuXFlMzzx8ZDwt6+QpW6EBAAAAirYrBeCzz85EtVrZjQ91X9bWtuK115q/7Ll0aSE9c//+4ZScvr6uOHx4LCXrnmbfCg0AAADQCLtSAD7x5NRufJj79s47t2Nnp5aa2QhXryzG5uZOaub0TE4B+PQz09HVlbcVemtrp+m3QgMAAAA0wq4UgKeSF4C8+Xrz3/67J3sT8PR0TgH45FO5pfC5s3OxsbGdmgkAAADQDHalADx+Yu9ufJj71grPf++5cSN3EcjUvsGUnFOnkkvhN26m5gEAAAA0i0cuAGdnR2Lv3oHdOMt9e/GFK6l5jZReAE4NpeRkLwBpha3QAAAAAI3wyAXgmWdnduMc9+3OnbW4cH4+NbORrl/LLQAnpxp/A3Dv3oHYl/TU+B4LQAAAAAA+2iMXgKcfz33q+fZbrfXU89q1pdS84eGeGBnpbWjGmWdnopK3FDpWVjbjjRaaCwkAAACwmyqfO/PL9aIPAQAAAAA0xq4sAQEAAAAAykkBCAAAAAAtTAEIAAAAAC1MAQgAAAAALUwBCAAAAAAtTAEIAAAAAC1MAQgAAAAALUwBCAAAAAAtTAEIAAAAAC1MAQgAAAAALUwBCAAAAAAtTAEIAAAAAC1MAQgAAAAALUwBCAAAAAAtTAEIAAAAAC1MAQgAAAAALUwBCAAAAAAtTAEIAAAAAC1MAQgAAAAALUwBCAAAAAAtTAEIAAAAAC1MAQgAAAAALUwBCAAAAAAtTAEIAAAAAC1MAQgAAAAALUwBCAAAAAAtTAEIAAAAAC1MAQgAAAAALUwBCAAAAAAtTAEIAAAAAC1MAQgAAAAALUwBCAAAAAAtTAEIAAAAAC1MAQgAAAAALUwBCAAAAAAtTAEIAAAAAC1MAQgAAAAALUwBCAAAAAAtTAEIAAAAAC1MAQgAAAAALUwBCAAAAAAtrLOzUwcIAAAAAK2q80tfOV70GQAAAACABnH9DwAAAABamAIQAAAAAFqYAhAAAAAAWpgCEAAAAABamAIQAAAAAFqYAhAAAAAAWpgCEAAAAABamAIQAAAAAFqYAhAAAAAAWpgCEAAAAABamAIQAAAAAFqYAhAAAAAAWpgCEAAAAABamAIQAAAAAFqYAhAAAAAAWpgCEAAAAABamAIQAAAAAFqYAhAAAAAAWpgCEAAAAABamAIQAAAAAFqYAhAAAAAAWpgCEAAAAABamAIQAAAAAFqYAhAAAAAAWpgCEAAAAABamAIQAAAAAFqYAhAAAAAAWpgCEAAAAABamAIQAAAAAFqYAhAAAAAAWpgCEAAAAABamAIQAAAAAFqYAhAAAAAAWpgCEAAAAABamAIQAAAAAFqYAhAAAAAAWpgCEAAAAABamAIQAAAAAFqYAhAAAAAAWpgCEAAAAABamAIQAAAAAFqYAhAAAAAAWpgCEAAAAABamAIQAAAAAFqYAhAAAAAAWpgCEAAAAABamAIQAAAAAFqYAhAAAAAAWpgCEAAAAABamAIQAAAAAFqYAhAAAAAAWpgCEAAAAABamAIQAAAAAFpYZ9EHeBh/7h/7THR3d6TlffPX3on3zs6l5ZXNn/ylk7F/Zjgt7zvfvRQvvHg1La8ZDA52x//yH346qtVK0Uf5kZdeuR6///sXij4GAAAA8CmargCcmhyM06cnUjP/5q+sp+aVzZkz0zE81JOW99vfOpuW1Sy++pWjcfz4nqKP8WOWVzYVgAAAANAEmu4J8KFDo6l5C4vrMTe3lppZJnv29KeWf7VaPc6dn0/LawaTkwPx+c/PFn2MDxkf6yv6CAAAAMB9aLoCcHY27ylqRMSVK0upeWVz+PBoat7NWyuxvr6dmll2X3/uRHR2lu+X6shob9FHAAAAAO5D+VqFT7F/f24BePnyYmpe2RzYP5Kad+VyexeuH3T06Hg8/vhk0cf4SEOD3amzOAEAAICH01QFYLVaiX1Tg6mZFy8upOaVTXbheulye3+9P+jrzx2PSnn2fvyYSqUSU8m/HgEAAIAH11QF4MEDI9HVlXfjqN3n0VUqldi3L7fguXBBAXjPZz4zEwcPjhZ9jE+0d09/0UcAAAAAPkVzFYDJZcitW6uxtraVmlkmB2aHo6cnb1H05uZOXLykAIyI6Oysxle/crToY3yqPQpAAAAAKL2mKgCzF4BcvtLe8/+yC9dr15aiVqunZpbVl750uCnKNZuAAQAAoPyaqgCcmbEAJFN+4WoBSETEwEB3/NyXDhd9jPsyahMwAAAAlF7TFIB9fV3p88bOX5hPzSub7ML1kue/ERHx1a8cjf7+rqKPcV/G3AAEAACA0muaAvDw4dGoVvPWoW5t7bT1BuDens6YnBhIzTx3bj41r4wmJwbiC1+YLfoY921kpDcqZV1TDAAAAEREExWAB2ZHUvOuXltu63l0hw7lFq7Ly5tx89ZKWl5ZPf/c8ejsbJpfltHZWY09e9wCBAAAgDJrmqZh/37z/zIdPJhcuF41/++xI2PxxBOTRR/jgU0k3xQFAAAAHkzzFIDm0aXavz+3AGz3jcsREV9//kRTPqfNns0JAAAAPJimKADHxvpieLgnNbPd59HNTA+l5l1o43mLERHPPjsdhw6NFn2Mh2IRCAAAAJRbUxSARw6Ppea1+zy60ZHeGB3tTcur1yPOnZtLyyubjo5qfO0XjxV9jIc2rgAEAACAUmuKAnB2Nvf575U2n0d3OLlwvXNnNZaXN1Mzy+RLXzwUe5r4Ga0bgAAAAFBuzVEAWgCS6sCB3Pl/7Vy49vd3xc/97OGij/FIRkbybosCAAAAD64pCsB9+3Ln0V1s83l0+2dyv96X2rhw/eovHouBge6ij/FI+vu7mv5zAAAAgFZW+gJw//7h6O3tTMur1+txto3n0UVETE/n3ri8eGE+Na8sJvYOxE98YbboY+yKqcmBoo8AAAAAfIzSF4DZm1Fv316LlZX2nUc3MzMUfX15hev2di3OX2jPG5fPP3c8OjtL/0vwvjTzDEMAAABodaVvH7Ln/1252r7PUSMiDh3KXQBy/cZybG3tpGaWwZEjY/Hkk5NFH2PXjI8rAAEAAKCsSl8A7p+xACTTgeTC9eqV9lwA8vXnT0SlUin6GLtmfNwmYAAAACirUheA3d0dMZk8W+xCmz5HvWc6eQHIxTYsXM88Mx2Hk5+2N9rYmAIQAAAAyqrUBeChg6PR0ZF3xLvz6ObT8sqmq6sjpiYHUzMvnJ9PzStaR0c1vvrVo0UfY9eNjvYWfQQAAADgY5S6ADx4cCQ179r15djerqVmlsmhgyOpSynW1rbj8pX2ugH4xZ85FBN7W29j7vBQT8ssNAEAAIBWU+qf2LPn/11pszLqgw4eHE3Nu3qtveb/9fd3xc//3OGij9EQ1WolJiZar9gEAACAVlDqAnAmuQC8dKm9C8D92RuX26xw/cWvHI2Bge6ij9EwrXizEQAAAFpBaQvAwcHu9MUC7Tz/LyL/xuXFS+2zcGXPnv74iS/MFn2MhtqzxyIQAAAAKKPOog/wcY4cGYtKJS9vdXUrrl5tryep71dE4Xru3HxqXpGef+54dHV1pOX96n/3erzyyvWIiPiL//yXUrJtAgYAAIByKm0BePBA7gKQdi7/IvIL14WF9ZibW8sLLNDhQ6Px9FNTaXnXri3Ft3//wo/+8+LiRuzZ09/w3HEFIAAAAJRSaZ8AZz9HbbdttB90YDa3cL1ypX0K1z/x9RNRSWxXv/nr7/7Yf15a2kjJHVUAAgAAQCmVtgCcnh5Kzbt4sX3m0X2U2eQFIO1SuD7z9L44fHgsLe/c+fl4+eXrP/bfLSwmFYAjvSk5AAAAwIMpZQE4OTmQui21Xo84e24uLa+MsgvXCxdav3CtVivxta8dS8ur1yO+8c13PvTfLyysp+R3d3eYAwgAAAAlVMoC8PChvBtTERHz82uxmHRLqoymJgdTC9darR7nzrd+4frFnzkUE3sH0vLefOtWvPPO7Q/991kFYETExETe5wsAAADcn1IWgLOzuc9Rr7T5ApBDh0ZT827dWo319e3UzGx9fV3x8z93JC2vVqvHN7759kf+b/OJBWDGshEAAADgwZSyAExfAHK5PebRfZzswrUd5v/94leOxuBg3q3Kl16+FpcuffTXNXPb8p5xT4ABAACgbEpXAFarldi3bzA188KF+dS8stmfvQCkxQvXPXv64yd/YjYtb3u7Ft/85rsf+7/furWadhYzAAEAAKB8SlcAHjwwEl1dHWl5Ozv1OHd+Pi2vbDo6qrFvKrdwPd/ihevzzx1P/R7+o+9djpu3Vj72f19f3461tZwn12OjCkAAAAAom/IVgAdHU/Nu3lyOzc2d1MwyOZBcuG5t7cTFi627AfjQwdF46smptLyNje349V9/71P/uqWlnCU3o6O9KTkAAADA/StdAZg+j+5ymy8AOTiSmnf12nLUavXUzExf//qJqFYraXm//wcXY2Hx05d8LN7HX7MbBga6o7e3MyULAAAAuD+lKwBnkheAXLrcurfR7sfsbG4BeKWFF4A89dRUPHZkLC1vZWUzfvO3zt7XX7uwmHMDsFKJmJzMfVIOAAAAfLJSFYC9vZ2xd09/aub5Np7/FxExMz2Umvdxm2qbXbVaiee+djw181u/ez7W1rbu669dXMi5ARgRsXdv7q9hAAAA4JOVqgA8cngs9fnk+sZ2XL7Svk+A+/u7Yk9y4Xru/FxqXpaf+emDMTkxkJY3P78ev/u75+//r0+6ARgRsWdcAQgAAABlUqoC8MCB3Oeo164uRb3euvPoPs3h5MJ1ZWUzbtz4+G21zaqvryt+4ecfS838zd96L7a27n95zfzcWgNP8+PGx2wCBgAAgDIpVQG4f3/yApA2vv0XEXEge/7f1db8en/ly4/F4GB3Wt6NGyvxB9+59EB/z53EAnB0zCZgAAAAKJNSFYAzM7nz6C5ebO8FIOmF6+XWm/83Pt4XP/WTB1Izf+3X333gm6u3b6+m3XYdG3UDEAAAAMqkNAXg2FhfjAzn3hw6e64159Hdr/TC9VLrFa7PP3c8uro60vIuXlyIF168+sB/3/Z2LVZW7m9hyKMaGelJfVoOAAAAfLLSFIBHDo+l5i0ubsRc4rPIshkf74vhoZ60vHo94uzZ1ipcDx4cjaef2pea+T99852H/nsXkxaBdHRUbQIGAACAEilNATg7mz3/r/Weoz6I7MJ1bm4tlpc3UzMb7evPH0+96fb2O7fjrbduPfTfv7i0voun+WQTiRuRAQAAgE9WmgJw/4x5dJnSF4C0WOH65JNTcfSx8bS8er0e3/jGw9/+i8i7ARgRsWfcDUAAAAAoi9IUgNPTFoBkmkleAHKphQrXarUSz33tWGrmK6/ciPMX5h/pYyws5BWA42MWgQAAAEBZdBZ9gIi722h7e/OOUqvV4+KlhejsLE3/mapSqcT0vsHUzAstVLj+9E8djKnJvK/fzk4tvvEIs//umZ/Pm3k5pgAEAACA0ihFAXjo4GhqXrVaib/yL/5CamY729mpxfnz80UfY1f09nbGL/z8kdTM7//galy/sfzIH2d+Pm8G4NhY7kZvAAAA4OOV4gpc9gIQct24sRJbWztFH2NXfOXLj8VQ4vbkzc2d+OavPfrtv4iIO4lbr0dH3QAEAACAsihFAZi9AIRcrbJxeWysL37qJw+mZn7nu5d27ebenTtrsbNT35WP9Wl6eztjOLEoBQAAAD5e4QVgV1dHTE4OFH0MGujSpdYoAJ//2vHo7u5Iy1td3Ypf/413d+3j1ev1WFrOWwTi1zUAAACUQ+EF4KFDo9HRUfgxaKBH3V5bBgcOjMQzz+xLzfzd3zsfq6tbu/oxlxbzCsA9e/rTsgAAAICPV3jzdujgSNFHoIHWN7bj8uXmvwH49edPRLVaSctbWFyPb/3OuV3/uIuJBeD4uAIQAAAAyqDwAtD8v9Z29cpS0Ud4ZE8+MRXHjo6nZv72b5+Lzc3dX5yysJi3CXh83CIQAAAAKIPCC8AZBWBLa/YFIJVKJZ772rHUzJu3VuLbv3+hIR97YSGvABwd7U3LAgAAAD5eoQXg4GB3jI25JdTKmn0ByE//1IGYmhpMzfz133gvarXGbOudTywAx0b92gYAAIAyKLQAPHJkLCp5Y9UowNlzc0Uf4aH19nTGL/z8Y6mZly8vxve/f6VhH39uLq8AHBrqjq6uvK3JAAAAwEcrtAA8MGsBSCtbWFyPubm1oo/x0L785cdieLgnNfMbv/ZOQz/+nTurDf3471epVGJyciAtDwAAAPhohRaAs/vN/2tlV5p4AcjYWF/89E8dTM1897078frrNxuasbi4EVtbu79c5ONM7FUAAgAAQNEKLQCnp4eKjKfBLl9u3vl/z331WHR35z1frdcjvvHNxt7+u2dxcSMlJyJizx5zAAEAAKBohRWAk5MDMTDQXVQ8CS5eXCj6CA9ldnY4zpyZTs187fUbcfZszrzEpaW8AtCSHwAAACheYQXg4UNjRUWToFarx7nz80Uf46H8iedPRLWat52mVqun3f6LiFhIvAGoAAQAAIDiFVYAzs6a/9fKbt1ejbW1raKP8cCeeHwyjh3bk5r5gxeuxtWrefMSFxbyNgGPjvamZQEAAAAfrbACcP+MArCVXbnSfPP/KpVKPPe1Y6mZW1s78c0Gb/79oMwCcGzUDUAAAAAoWiEFYLVaiX37BouIJsmlS81XAP7UTx6IfftyF9N89w8vx507a6mZ84kFYGdnNfbs6U/LAwAAAD6skALw4IGR6OrK27BKvgsX5os+wgPp7emML//CY6mZa2vb8eu/8W5qZkTE3Fxu4TixdyA1DwAAAPhxxRSAB0eLiCXJ1tZOXGyyG4C/8PNHYni4JzXz9759PpaXN1MzIyJu3VpNzduzxzNgAAAAKFIhBaAFIK3t2vXl2NmpFX2M+zY62hs//dMHUzOXljbiW986l5p5z/r6dqytbafljY97AgwAAABFKqQAnJlWALayy5eb6/bfc189Hj09namZv/2tc7G+kVfCfdDS0kZa1viYG4AAAABQpPQCsLe3M/budSOolTXTApD9+4fj2WenUzPv3FmL3/v2hdTMD1pczFsEMjram5YFAAAAfFjutaeIOHJ4LKrVSmpmrVZPzSub7K/3+fPzqXmP4k88fyL96/Prv/Fu4U+kFxbzbgAqAAEAAKBY6QXggQMjqXnnzs/Hv/8ffCc1s0xOn5qIP/dnP5OWt7KyGddvLKflPYrTpyfi+PE9qZlXry7FH/7R5dTMj7K4kHcDcGCgO/r7u2J1dSstEwAAAPhj6U+A9+/Pnf93pcnm0e227ML16tWl1LyHValU4vmvHU/P/eavv5ue+VHmE28ARkRMTgyk5gEAAAB/LL0AnJkZSs27eHkhNa9ssgvXy1eao3D9yZ+Yjenp3O/Fc+fn45VXrqdmfpz5ubXUvL17FYAAAABQlNQCcGysL0aGc+eBnTs3n5pXNumF68XyF4Dd3R3x5S8/lppZr0d84xtvp2Z+kjvJBeD4uE3AAAAAUJTUAvDI4bHMuFha2ojbt1dTM8sku3Ct1yPOnZtLy3tYv/Dzj6UX0W+8eTPeefdOauYnuX17Ner1vOU442MKQAAAAChKagE4O5s8/69J5tE1yuHDo6l5c3NrsbiUO1vuQY2O9MbP/MzB1MxarR7f+OY7qZmfZnu7FisreUs5xhSAAAAAUJjUAnD/TPI8unZfADKbuwDkytXyf72/9rVj0duTu/z6pZevlfJ7cTFxEcjoaO6NSwAAAOCPpRaA2UsXLl5q7wUgM+mFa7lvXO6fGY7PPDuTmrm9XSvd7b97FpfW07JGRnqjoyN95xAAAAAQEWlXofbvH47e3rybV/V6Pc6eLf88ukaa3pdbuF64MJ+a96C+/vzxqFYrqZmrq1vx3NeOp2ber4nEzbzVaiUm9vbHtevLaZkAAADAXWmN3KGDo1lRERFx+/ZarK7mzTgrm/0zw9HXl1e47uzU43yJC8BTJyfixIm96bnDwz3xzNP70nPLaGJiQAEIAAAABUh7k5e9AOTylfLNXMt08NBoat6NG8uxubmTmvkgnn+unLfw2sn4eH/RRwAAAIC2lFYAWgCS68D+5I3LV8o7/+8nf+JAzMzkPofmw8bHbQIGAACAIqQUgF1dHTE5mTdvLCLi4sX2XgAynVx4Xbxczq93d3dHfOXLjxV9DCJibEwBCAAAAEVIKQAPHRpN3QC6vV0r9Ty6RuvsrMbU5GBq5oXz86l59+vnf+5IjIz0Fn0MImJs1D8HAAAAKEJKK3fwwEhGzI9cv74c29u11MwyOXRoNDo78wrX9Y3tuFzCJ8Ajw73xxS8eKvoY/NCoAhAAAAAKkdISzSbPo2v7BSDJheu1a8tRr9dTM+/H1752LHp78jYh88l6ejpj1G1MAAAASJdSAM4kLwC5dKm9C8DZ/bkFYBkXrszMDMVnnp0p+hh8wETyLFAAAAAgoQAcHOxOH/7fzvP/IiJ94+3FS+VbAPL8cyeio6NS9DH4gD3j/UUfAQAAANpOwwvAI0fGopLYw6ytbcXVq+WbR5dlYKA7xsdzC9dz5+ZS8z7NyRN749TJvUUfg4+wZ49NwAAAAJCt4QXggdnc56jtXP5FRBw5PBaVxMZ1cXEj7txZS8u7H88/f7zoI/Axsm8DAwAAAAkF4P70BSDtXQAemM39el+5Wq75fz/xhdnYnzxzkvs3NqoABAAAgGwNLwBnppPn0V0s3zy6TOmFa4kWgHR3d8RXvny06GPwCUZHbQEGAACAbA0tACcnB2JgoLuRER9Stnl02aazC9cSbVz+uZ89omAqucHBnuju7ij6GAAAANBWGloAHj401sgP/yHzC+sxv7Cemlkme/b0x9BQT1perVYvTeE6PNwTX/rioaKPwaeoVCKmpgaLPgYAAAC0lYYWgLPJ8+iutvn8vyOHcwvX27dXY3V1KzXz43ztq8eit7ez6GNwH/bu7S/6CAAAANBWGloAZi9juFSieXRFyC5cr5Rk4/L09FB89jP7iz4G92nPuAIQAAAAMjWsAKxWK7FvX+5Tv4sX51Pzyia9cC3J/L/nnzseHR2Voo/BfRofswkYAAAAMjWsADxwYCS6uvKG/ddq9Th3fj4tr2wqlfzC9fyF+dS8j3Li+J44fWqi6GPwAEYVgAAAAJCqYQXgoYOjjfrQH+nmrZVYX99OzSyT2dnh6OnJm4G3tbUTFy8upOV9nOefP1H0EXhAYzY1AwAAQKqGFYDp8+jafAFIduF6/fpK7OzUUjM/6Aufn43Z/bnfZzy6kZHeqFQ82QYAAIAsDSsAZ6az59EVfxutSNlF2OUrxc7/6+rqiK98+bFCz8DD6eysxt49FoEAAABAloYUgL29nbF3b+4P+BcutHcBODMzlJpXdOH68z93OMbMkmtaE5MDRR8BAAAA2kZDhsYdOTwW1WreE7/NzZ242MY3ALu7O2JiIncBSJELV4aHeuKLP3M4Pffdd+/Ef/urr6XnZvhH/9dnYmoq73toz7jyFgAAALI0pAA8cGCkER/2Y127vhy1Wj01s0wOHxqNjo68wnV1dSuuX19Oy/ugr371WPT15S08iYio1+vx977xdty4uZKam2Vufj21ABwf9wQYAAAAsjTkCfD+mewFIMXOoyvaweQFIEV+vfdNDcbnPjuTnvvqazfifIG3HhttcXE9Nc/zbQAAAMjTkAJwZn/uPLqLF9v3+W9EfuF6ucCNy19//kR0dDRsd81H2tmpxze+8U5qZraFhY3UvLHR3tQ8AAAAaGe73qSMjfXFyHDuD/etfDPrfrTLApDjx/fEqVMT6bkvvHA1rhX45DnD/Pxaat6oAhAAAADS7HoBePjw6G5/yE+0srLZsnPZ7sfwUE+MjuY9p6zXI86em0vLe7+vP3ciKnmjDiMiYmtrJ77xa619+y/i7gzATH19XTE42J2aCQAAAO1q1wvAA7O5C0CuXC3uOWoZHDkyllqKzc+vxeJi7nPRiIjPfW5/zM7mPnWOiPjuH16Oubnc23FFuHNnNT1zcmIgPRMAAADa0a4XgOnz6C639wKQ2ezCtYD5f11dHfHVrxxNz11b245f/41303OLMDe3HtvbtdTMvXsVgAAAAJBh1wvA6WkLQDLtT57/d7mADcA/97OHC9ka+3vfPh/Ly5vpuUWo1+uxtJR7s3N83CZgAAAAyLCrBeD+meHo7e3czQ/5iYqcR1cW2YXrhQvzqXmDg93xpS8eSs2MiFhc2ohvfetcem6RsgvAIkpdAAAAaEe7WgAeOjS6mx/uU83NrbXNDa2PMjU5GAMDeYsUdnbqcS554/LXvnos+vq6UjMjIr71rXOxvrGdnlukheTZjgpAAAAAyLGrBWD2koYrBTxHLZPswvXmzeXY3NxJy5uaGozPfXZ/Wt49d+6sxe99+0J6btEWFnI3AY+N9qbmAQAAQLva1QJwZjp5AUibF4AHDuQuALmcvADk688dj87OXR9T+al+4zffi52d3IUYZbCwkHsDcGiop5B/vgAAANBudu2n766ujpiayt3qef5Cey8AmcleAJK4cfnYsT1x+vRkWt49164txXf/8FJ6bhnMz6+l5lWrlZictAkYAAAAGm3XCsBDh0ajoyPvNs/OTi19IUWZVKuV2Dc1mJp57nzewpWvP3c8KpW0uB/55q+9mx9aEnNzuQVgRMTEXgUgAAAANNquNXYHk5+j3rixkjqPrmwOHhiJrq6OtLyNje24fDnnCfBnPzuT/rw5IuLc+fl4+ZXr6bllcev2anrm+LhFIAAAANBou1YA7t9v/l+mgwdHU/OuXluOer3e8JzOzmp89SvHGp7zQfV6xDe++U56bpmsrm6lbz4eH+9PzQMAAIB2tHsF4ExuAXgpcR5dGWVvXM6a//dzP3u4kFthb751K95553Z6btksLuYuAhkbcwMQAAAAGm1XCsDBwe70H+TPn59PzSub7I3Lly41fuHK4GB3fOmLhxue80G1Wj2+8c2303PLKLsAHB3tTc0DAACAdrQrBeCRw2OpCxvWN7bjypWceXRl1NvbGXv35j6dPJdQuH71K0ejv7+r4Tkf9PIr1+PSpfa+UXrP4sJ6at6YAhAAAAAablcKwOyFDdeuLqXMoyurI4fHolrNa1wXlzbidoMXRExODsTnPz/b0IyPsr1di2+2+ey/91tILgC7ujo8AwYAAIAG25UCMH8BSPve/ovIL1wzblt+/bkT0dm5ayMp79v3vn8lbtxcSc8tq/nkJ8ARERMTA+mZAAAA0E52pXGZ3je0Gx/mvl1MmEdXZtkLVxq9AOTo0fF4/PHJhmZ8lI2N7fi1X3s3PbfM5ufW0jP37rEJGAAAABrpkQvAycmBGBzs3o2z3Ldz5+ZS88pmZia3cG30ApCvP3c8dYbkPX/wnYuxsJj75LXs7tzJLwCL2PoMAAAA7eSRC8DDh8Z24xz3bXFxo5CSoixGR3tjZCRvcUK9Xo+zDSxcP/OZmTh4cLRhH//jrKxsxm/+1tn03LK7fWc1arXc+ZpmAAIAAEBjPXIBODub+xz1ytX23tZ65HBu4Xrr9mqsrm415GN3dlbjq1852pCP/Wl+9/fON+zzambb27VYWdlMzRwbVQACAABAIz1yATjTYvPoyq6VFoB86UuHY08B89/mF9bjW79zPj23WSwmLwIZG8u70QoAAADt6JEKwGq1EtP7BnfrLPfl4qX2LgBbpXAdGOiOn/vS4YZ87E/zW791Nra2dgrJbgbZBWB/f3f09namZgIAAEA7eaQC8MCBkejq6tits3yqWq3e9gtAsjcuX7gw35CP+9WvHI3+/q6GfOxPcvPmSvzBdy6m5zaT7MUolUrE1GTuHyQAAABAO3mkAvBQ8vKG2w2cR9cMZmaGoq8v76bU9nYtLlzc/Q3AkxMD8YUvzO76x70fv/Yb76YvuWg2Cwu5NwAjIvbuzX8KDgAAAO3ikQrA/AUgjZtH1wyyC9dr15Zje7u26x/3+eeOR2fnI4+ffGCXLi3GD35wNT232cwv5G/ZHh9XAAIAAECjPFILMzOdWwBeavP5f7OzyQtAGrBx+bEjY/HEE5O7/nHvxze++U4huc1mfi73CXBExPiYTcAAAADQKA9dAPb2dqY/27twcT41r2xmpnPn/zWicP368yeiUqns+sf9NO+8eyfeePNmem4zun17NT3TJmAAAABonMpf+It/z0A0AAAAAGhR+YPYAAAAAIA0CkAAAAAAaGEKQAAAAABoYQpAAAAAAGhhCkAAAAAAaGEKQAAAAABoYQpAAAAAAGhhCkAAAAAAaGEKQAAAAABoYQpAAAAAAGhhCkAAAAAAaGEKQAAAAABoYQpAAAAAAGhhCkAAAAAAaGEKQAAAAABoYQpAAAAAAGhhCkAAAAAAaGEKQAAAAABoYQpAAAAAAGhhCkAAAAAAaGEKQAAAAABoYQpAAAAAAGhhCkAAAAAAaGEKQAAAAABoYQpAAAAAAGhhCkAAAAAAaGEKQAAAAABoYQpAAAAAAGhhCkAAAAAAaGEKQAAAAABoYQpAAAAAAGhhCkAAAAAAaGEKQAAAAABoYQpAAAAAAGhhCkAAAAAAaGEKQAAAAABoYQpAAAAAAGhhCkAAAAAAaGEKQAAAAABoYQpAAAAAAGhhCkAAAAAAaGGdJ0+MFn0GAAAAAKBBOg8eGCz6DAAAAABAg3gCDAAAAAAtTAEIAAAAAC1MAQgAAAAALUwBCAAAAAAtTAEIAAAAAC1MAQgAAAAALUwBCAAAAAAtTAEIAAAAAC1MAQgAAAAALUwBCAAAAAAtTAEIAAAAAC1MAQgAAAAALUwBCAAAAAAtTAEIAAAAAC1MAQgAAAAALUwBCAAAAAAtTAEIAAAAAC1MAQgAAAAALUwBCAAAAAAtTAEIAAAAAC1MAQgAAAAALUwBCAAAAAAtTAEIAAAAAC1MAQgAAAAALUwBCAAAAAAtTAEIAAAAAC1MAQgAAAAALUwBCAAAAAAtTAEIAAAAAC1MAQgAAAAALUwBCAAAAAAtTAEIAAAAAC1MAQgAAAAALUwBCAAAAAAtTAEIAAAAAC1MAQgAAAAALUwBCAAAAAAtTAEIAAAAAC1MAQgAAAAALUwBCAAAAAAtTAEIAAAAAC1MAQgAAAAALUwBCAAAAAAtTAEIAAAAAC1MAQgAAAAALUwBCAAAAAAtTAEIAAAAAC1MAQgAAAAALUwBCAAAAAAtTAEIAAAAAC2ss+gDlElPT1f09XVFd3dHdHV1RldXR3R3d0RnZ0d0dFSjWq1EpVL50L/X6/Uf/iuiVqvFzk4ttrfv/WsnNja2Y2NjKzY2tmN1dTN2dmpFf6oAAAAAtIm2KwCr1UqMjPTF8HBf9PV1R29v14/+vbOz8Rci6/WIjY2tWF/firW1zVha2oilpbVYWFhTDAIAAACw61q+AOzv7449ewZjaKg3hob6YnCwJ6rVSmHnqVQienu7ore3K0ZH+2N6+u5/X6/XY2VlI+bnV2NubjXu3FmJzc3tws6Z6fjxqRge7kvLu3FjMS5evJOWVzYzM6MxPT2alrewsBrvvHMjLe/TVCoRzz57KCqVnN8Hyvb5Zzh1ajoGBnpSsra3d+LFFy+mZAEAADSrlisAq9VKjI8PxN69QzE+PpD2Q+ijqlQqMTjYG4ODvTE7Ox71ej3m59fi1q2luHFjMVZXN4s+YsPs2zcSvb1daXnXry+kZZXRxMTdXxtZFhfX0rLux9BQX+zZM5iWV7bPP8O+fSPR1dWRkjU3t5KSAwAA0MxapgAcHe2P/fvHYmJiKO0Hz0aqVCoxNtYfY2P9cezYZMzPr8a1awtx9epCSz0VvncbMtP8/GpqXtkMDfWm5pWtABsZybttGhGxsFCuz7/RBgd7Un8PXlxcT8sCAABoVk1dAHZ1dcT+/WMxPT0Sg4O5pUamu2XgQIyNDcSxY1Nx5cp8XLhwO9bXt4o+2iMbHe1Pzdva2onl5Y3UzDLp7u6Mvr7u1My5uXIVrpnPzSPar3DO/jVdtoIZAACgjJqyAOzq6ojDh/fG7OxYdHY2/22/B9HV1RGHDu2JAwfG4+rV+XjvvZtNXQRm38ZaWmrv20JjY7nlzNraZulmWQ4P5/1hQRk//0bLLljLVjADAACUUVMVgO1c/H1QtVqJ/fvHYt++kbh48U68997NpnwaPDSUXQC2922hdi9cOzqqqXNBy/b5Z8h8Yr6+vhUbG837ByAAAABZmqYAnJoajhMn9qXPiyu7jo5qHD68N6amhuPNN6/FzZtLRR/pgQwN5S5pabd5bB+UXbiWbT7b6Gh/2vbfiPZ7nlqtVlLHMbRjwQoAAPAwSl8A9vZ2xcmT+2Jycrjoo5RaX193nDlzMK5enY833rga29vlvw04NNSbfpOz3eaxfVD2ApCFhXJ9vS0AaayRkf6oVhWsAAAAZVPqAnBiYiieeGJ/S2z1zTI9PRrDw33x6quXS18+ZC8LWFvbjI2N9prH9n7Z21lrtXrpvgcz59PVavWYny/X599oClYAAIByqhZ9gI9z9OhkPPPMAeXfQxgY6InPfvZw7Ns3UvRRPlH2soB2fy6YXbiurGyUbi5l5g3IlZWNqNXK9fk3WuaClXq93vY3egEAAO5X6W4AdnZW48knZ2NiYqjoozS1jo5qPPnk/ujr64qzZ28VfZyPlP0ctd0LwHYvXHt7u1JniJbt88+QOWOyjAUzAABAWZWqAOzq6ohnnz0YIyO5N5VaVaVSiWPHpqKjoxrvvHOj6OP8mGo1dxtrhPl/2YVr2eazZd+AbLfnqV1dHdHX152WV7YFMwAAAGVWmgKwp6cznn32UHpJ0Q6OHJmISqUSb799veij/MjoaF/qsoAyzqPLlL2dNcICkLJ9/o02NjYQiQuWS1cwAwAAlFkpZgD29HTG5z53RPnXQIcP741Dh/YUfYwfyS5j2v254MhIbuG6vV0r3Q2tzOep29s7bfcEOPuJeTsX+gAAAA+q8AKwo6MaZ84cjP7+vKdj7er48anSLAZp93l02bKf1S8vl+/rPTSU9+S8Hb/fMheAbG/XYmlJAQgAAHC/Ci0AK5VKPP30gfQyqF1VKpU4fXqmFDct230eXbbMciaifF/voaHe6OzM2yhettuPGTJ/TS8vr0e9nhYHAADQ9AotAE+d2hd79w4WeYS209lZjaeemo3OzuL+0Xd3d0Zvb+6Nz3abx/ZBmc9fI8pXgGUvAClbAdpo/f3d0d2dN1K23b6+AAAAj6qwFmjfvpGYnR0vKr6t9fV1F3oLcHS0P3VZwPb2TukKqUx3t7N2pWbOz6+k5n2a7FvG7bZxOr9gbd9fzwAAAA+jkAKwr687Tp2aLiK67dVq9Xj55UsxN1dcQZG9AGRpaSM1r2zGxvqjkti4bmxsx9raVlre/ch8Ar2+vhXr6+X6/Bst+9d02QpmAACAsst7s/U+Tz65P7q68uZxcVetVouXXroUN28uFXqO7NuH7b4sIH/hSrm+3h0d1ejvtwCkkTKfmG9sbJWuYAYAACi79BuAs7Nj6c/FKE/5F2EBSLbsArBszzNHR/ujWs27Adlu32+VSiUGB/MK1rJ9fwEAADSD1AKwq6sjHntsMjOSKFf5NzDQk7osICIKfe5cBu1euGY/T11YKNfn32jDw33R0ZH3/0ra8YYlAADAo0ptYo4enYyenkJeHd+3er0e6+vbsbGxFRsbW7G1VYvt7Z3Y3q5FvV6PWq0elcrdZ4XVauWH/16Nnp7O6O3tit7erlI9b97ZqcXLL5ej/IvIXxbQjvPY3i97O2u9Xi/dAozMG5D1er3tNk6PjmYXrO319QUAANgNac1Ab29X7N8/lhV339bXt2JhYS3m51djcXEtlpbWY2en9kgfs6urIwYHe2JsbCBGRvpjZKSvkFJwZ+fuzb9bt8pR/kXkLmOIcFsou3BdXd2Mra2d1MxPMziY9z23srIZ29uP9vtHs8kuWOfn2+uGJQAAwG5IKwAPH96bOofrk6yvb8X164tx48ZiQ24rbW3txNzc6o89PR0Z6Yvp6dGYnBxOuQV5t/y7GLduLTc860FkLguIUADmLwAp19e7p6cr+vq60vLKtgAlQ+YT89XVzdjeLlfBDAAA0AxSCsCuro6Ynh7NiPpEi4trcf787bh+fSHq9dzshYW1WFhYizffvBYTE0MxOzsWe/YMNiSrrOVf9rKACM8Fs29clm1Bw9hY7g3Isn3+jdbZ2RH9/d1pee329QUAANgtKQXgwYN7orMzfeHwj6yvb8Xbb1+Pa9cWCjvDPfV6PW7cuHv7cHx8IB57bHJXS4qdnVq8+OLFuH27XOVfRP6ygHZ/Llip5D5/jShf4Zp9A7Jsn3+jjY72RaViwzIAAEDZpRSAU1PDGTEf6cqV+XjjjauPPNevEe7cWYk7d87G5ORQnDw5Hb29j/ZUsczlX0T+soB2fy6YXbjWarXSFTSZNyC3t8v3+TfayEjuDct2K1gBAAB2S8MLwJGR/hgYyH32GRFRq9XjjTeuxuXLc+nZD+rGjaWYm1uN06enY2pq5KE+RtnLv4j821jt/lwwu5xZXt6IWi35bf2nyLwBuby8nj5aoGiZ8/92dmpt/2saAADgYTX8etDMzMMVWo+iVqvHSy9dbIry756trZ146aVL8eqrlx/4tuL2dvnLv4jcsiCiPRcyvF+7F65DQ72p27fLtgAlQ+YNy6Wl9ai3W8MKAACwSxpeAO7dO9ToiB9Tr0e89trluHlzKTV3t1y5Mh8vvHAhtrbu7+nq3fLvQunLv+xlARHRkA3PzSS7cC3b89fR0eznqeX6/Butt7crenoyNyy3X8EKAACwWxpaAA4O9jzyXLsHdenSnbh6tfhlH4/izp2V+P73z8fGxvYn/nX3yr87d1aSTvbwspcFtPtzwc7OagwMtHfhmn0Dsmyff6ONjQ2k5pWtYAYAAGgmDS0A9+zJvf23sbEdb799PTWzURYX1+L73z/3sTcBm6n8iyhiHl17PxccHe1PLVy3tnZiZWUjLe9+ZN6A3NjYjrW1zbS8Msh8/hvRfgUrAADAbmpoATg2llv6nD9/q5Tbfh/W8vJGvPzypQ8tVmi28i+iiOeo7Xv7LyK/cC3b88xqtZq6fKhsn3+GzBuWGxvbsbraXgUrAADAbmpoATgykvcD4vZ2LS5fnk/Ly3L79nK88cbVH/3nZiz/Isyjy9buX+/R0b6oVvNuQJbt82+0SiV3w3I7FqwAAAC7qbNRH7i3tyu6uxv24T9kbm4ltrfvb3FGs7l8eS5u3FiMiLsbjpvtlmNvb1f6LMh2fy7Y7gVg9g3Isn3+jTY01BednQ3fIfUj7b7RGwAA4FE1rKHLvP0X0fqFz/1uBS6j7G2sm5vt/VxQ4Zo7n65er5fu82+07N/f223DMgAAwG5r2BWOzPlbEZ6IlVl2WdDu3wvZheva2uanbqzONjSU9z23urrZ1AX9w8ic/9eOBSsAAMBua1gB2NfX3agP/ZHavfQps8wyJsICkHYvXHt6OqOvL+8GZNk+/wyZNyzbsWAFAADYbQ0rAHt68ub/1ev12Nws1w0k/tjQUO5t0MXF9r4tlF24lq0AGx0dSM1rt8K5o6Ma/f02LAMAADSThhWAXV0djfrQH1Kr1dOyeDBDQ73R2Zn3vVCvR8zNtXsBmFu4lm0+W/58uvb6fhsd7U/esKwABAAAeFQtUQB2dFSjoyNvIyX3L3sb69paez8XzC9cyzefLXMDcq1Wa7sNwApWAACA5tOw1qxazS3kMmd+cf/y59G1VxnzQdkLQFZWNmJnp5aa+WkyC8Dl5Y22u4Gc+cS8HQtWAACARmhYS1fJeyEWEflzv7g/mWVMhOeCmdtZI8r39R4a6k29fVy2zz9D5q/ppaX2K1gBAAAaoWEFYPYPbXv3Dqbm8emq1WoMDGTPo2vv54L5hWu5bmdlPzkv2+ffaPkbltvr6wsAANAoLVMA7tkzEH193amZfLLR0b7UZQG1Wr10CykyFVO4luvrPTycW4CWbf5ho9mwDAAA0JwaVgBmzwWrVqtx7NhkaiafLHv+3/Lyels/F8wuXLe3a6W7oZX5BHpraydWVjbS8sog+9d0uxWsAAAAjdKwAnBzc7tRH/pjTU2NxOTkcHouHy1zWUBExNJSe98Wyn7+ury8HvUS9a3ZNyDb8fst84n55uZ22xWsAAAAjdKwAnB9fatRH/pjVSoRTz65P8bGcosQPlr2c8x2m8f2Qdlf77IVYNk3INvx+y13AUi5vr8AAACaWcMKwLW1/AIwIqKjoxrPPHMwJiaGCsnnru7uzujtzZ3J2O7PBbMXgJRt/p8FII01ONiTumFZAQgAALB7GlYAFvnDW1dXRzzzzIE4fnwqKpW8G0H8sdHR/sj80m9t7cTycvs+F+zu7kxfglO2wjX7BuTcXLk+/0YbHc0tWMtWMAMAADSzhhWA8/MrUS9wQFilUonDh/fGT/3U0ZiaMhcwW/aygHa/LZT97H1jYzvW1jZTMz9N5g3ItbXNQuacFilzwUq9Xr6CGQAAoJk1rADc3q6V4kbWwEBPPP30gfj854/Evn0jbgQmyX6OWrZttNkyy5mI8hWu2Tcgy/b5Z1CwAgAANK/ORn7wO3dW0ougjzM62h+jo/1x/PhWXLu2ENeuLbTlD/FZsv+5Ly6upy6AKJvsArBs8++yb0AuLrbX7x3VaiUGBy0AAQAAaFYNLQCvX1+IQ4f2NDLigfX2dsXhw3vj8OG9sbq6GbdvL8fNm0sxN7cStVpxT5ZbSX9/d3R3N/Rb60Oeemo2Na/dla0AzH5yvrDQXs9TR0ZsWAYAAGhmDW1pFhbWYnV1M/r7c5cT3K/+/u7o7x+PAwfGY3u7FgsLqzE3txK3bi27gfIIxsYGij4CDVSv10s3n21oKK8ArNXqMT/fXgVV9oZlC0AAAAB2V8OvaV25Mh/Hjk02OuaRdXZWY8+ewdizZzCOHZuKjY2tmJv740JwfX2r6CM2jextrORaXd2Mra2doo/xYzKfnK+sbEStVkvLK4PMX9O1Wr3tblgCAAA0WsMLwEuX7sThw3ujs7Nh+0YaoqenK/btG4l9+0YiImJ5eSPm51fi9u2VuHNnOba326sAeBCZt7HIV7bbsYODPdHV1ZGWV7bPP0Pmr+nl5XXjGAAAAHZZwwvAra2duHp1Pg4cGG90VEMNDvbE4GBPzM6OR61Wj8XFtZibu1sIzs+vRN3PqxERUalUYnCwp+hj0EBlK8BGRz1PbaSurg4blgEAAJpcyqaG9967Gfv2jaTe0mmkarXyo63CR45MxNbWTty5sxy3bt1dKFK255GZhof7oqOjuW578mDK9jwzewNy2T7/RhsbG4hK4oJtC0AAAAB2X0oBuLm5HefO3Yrjx6cy4tJ1dXXE1NRITE2NRL1ej7m51bh+fTGuX19ouzJwdNTz31ZWq9VKdwMuc/7f9vZO291Qyy5Yy7ZgBgAAoBWkFIAREefP346pqZGWXxBRqVRifHwgxscH4uTJqbh9eyWuXJmLGzeWij5aCvP/Wtvy8kap5rNVq5UYHMz7PaXdyr+I3AUgW1s7sby8kZYHAADQLtIKwHq9Hq+9djk+//kjbfNEtFqtxsTEUExMDMXa2mZcuTIfly7NxebmdtFHa5hWL3jbXdkKsNHR/qhW896nlu3zz5B5w7Idv74AAAAZUpu4paX1ePvt65mRpdHX1x1Hj07Gz/zM8Th5cl/09nYVfaRd19lZjf7+vGUB5CvbfLaRkez5f+X6/Butv787urvT/pwolpba6+sLAACQJf0q3sWLd+LSpbns2NLo7KzGwYN74md+5licPj2d+sN1o42O9kclc1sA6co2ny37yXnZPv9Gs2EZAACgNRTyFveNN67E7dvLRUSXRrVajdnZ8fjpnz4Whw/vTX3G2CgjI7llAbnKOJ8t88n5+vpWrK9vpeWVgQUgAAAAraGQArBej3jppYt+2Iu7G4SPH5+Kn/zJozE21twFWuasMPKVbT5bd3dn9PXlPTkv2+efIbMAXFvbjI2N1p2PCgAAUKTCtnFsb9fi+98/H3furBR1hFIZGOiJz372cJw8uS+q1eZckqIAbG1lm8+WXZiXbf5ho1UqlRgc7EnLa8eCFQAAIEuhTdPOTi1eeOFC3Ly5VOQxSqNSqcTBg3vi858/0nTLNHp7u1pysQl/bGGhXAVN9vPUdptPNzzcl7qxfXGxXN9fAAAAraTwq2b3SsDz528XfZTSGB7ujS984bGYnBwq+ij3LXtZAPnm58t1WzezAKzX67Gw0F4jC0ZHswvW9vr6AgAAZCq8ALznrbeuxWuvXYnt7VrRRymFrq6OePrpAzE7O170Ue7LyEhuWUCutbWt0s1ny3xyvrKy2Xa/N2UWrLVaPebn2+uGJQAAQKbSFIAREZcvz8V3v/te283a+jiVSiVOn56Oxx6bKPoon8r8v9ZWtvlsg4M90dXVkZZXtvmHGXIL1o2o1dqrYAUAAMhUqgIw4u4Pgt/97tl4772bfiD8oaNHJ+PQob1FH+MTKQBbW9kKsJGR7AUg5SpAG62zsyN1DmnZCmYAAIBWU7oCMOLuvK13370Rf/AH78Xt28tFH6cUjh+fjJmZ0aKP8ZGGhnqjszPvNhb5yrYAI/vJebvNpxsd7YtKpZKW59Y3AABAY5WyALxnZWUjvv/98/Hiixfb/obI3efAM6WctZd9G4tc9Xo95ufLVYBl3jjd3q61XUGV/Wu6bN9fAAAArabUBeA9N24sxh/8wbvxyiuXY2Vlo+jjFKZarcSTT86W7rbd8LDnv61sZWUjdnbK8xy/Wq3E4GDe99zy8nrU62lxpZBbsO60/R/wAAAANFpTFID3XL06H9/+9jvx4osX486dlaKPU4j+/u44eXJf0cf4MZnbQslXtnJmZKQvqtW856ll+/wzZBaA7fj1BQAAyNZZ9AEexo0bi3HjxmIMD/fG/v1jMTk5HN3dTfmpPJTp6ZG4fHmuFM/mqtVKDAz0pGbW2+061gdkzmaLKN8CjPwFIO31/Le3tyt6e7vS8sr2/QUAANCKmro1W1xcj8XFq/HGG9dicnI49u0bjvHxwejsbKqLjQ+sUqnEiRP74rvffa/oo8ToaH/qbaxarR6/+ZuvR63WniVgtVqJX/iF06lf87ItwMi+cTo3V67Pv9HGxhSsAAAAraapC8B76vV6XL++ENevL0S1Wom9e4diYmIoxscHUm+yZBoZ6YvJyeG4cWOx8HNkWl7eaNvyLyK/cC3jAozM56kbG9uxtraZllcG2QVrGW4yAwAAtLqWKADfr1ar/+iJcMTdBRV79w7F2NhAjI72RbXaOrcDDxwYL7wAHBrKLQuWlspVRmXLL1zLtQCju7sz+vq60/LacT5d5q/p9fWtWF/fSssDAABoVy1XAH7Q3WfC6xFxMzo6qrF372CMjw/G+PhA9PfnFQmNMD4+EMPDvYXO0Mq8jRVhXlh+4Vqur/foaH9kjkBsx8J5aChvpmfZvr8AAABaVcsXgO+3s1OL69cX4/r1u7fm+vu7f/hUeDBGR/ubcnbgvn2jsbh4rZDs7NtYEeWbR5ctu3BdWChXAZZ9A7Jsn3+jDQ/3RmdnR1pe2Z6XAwAAtKq2KgA/aHV1M86fvx3nz9+OarUSY2MDP7whOBCDg7lFy8OamBiKt94qpgDMvo21vb3T1jeGiihcyzafLXM+Xb1eL93n32jZG5bbrWAFAAAoSlsXgO9Xq9Xj9u3luH17OSLu3g6cmhqJycmh9KH4D6K/vzuGhnoLKcayb2O1c/kXkV+4lnEBxuBg3vPU1dXN2NraScsrAwUrAABAa1IAfozV1c04e/ZmnD17M4aGemP//rHYt28kurrynsfdr9HR/kLKseznqO1eAGYX0cvL5fp6Dwz0RHd33m9Z7fj9Njyc92t6ZWUjdnZqaXkAAADtrPmG3hVgaWk93njjavzu774d77xzIzY3t4s+0o/Jvol3T7vPo8uWWc5ElG8+W/b3ebstnOnoqEZ/vwUgAAAArUgB+AC2t3fi7Nmb8Xu/905cvHgn6vV60UeKiPzNsBF3nx5n3saKKN88umztXrjmf/7t9f02Otof1WreG/OyfX8BAAC0MgXgQ9je3ok33rga3/veuVLMSOvt7UrPHB3NXRawvr4V6+tbqZllkl241uvlK1wzF/PUarXS3YBsNBuWAQAAWpcC8BHMza3Gd797tvAfZDs7q+m38SwAyZVduK6tlW8BxsBA3vPU5eWNqNXKccM3S+aMye3tWiwtKQABAACyKAAf0ebmdrzwwoVYXS32JmB/f3dqXvaz43YvALMXgJStnOnq6oienrySe3l5Iy2rLDK/x5aW1qIkExQAAADaggJwF9wrAbe3i9tombmduFKpxOBg3m2siPabx/ZB2fPvyrYAI/P2X0T7Fc6Dgz2pBWvRt6YBAADajQJwl6ysbMSFC7cLy+/oyPtHOTzcm5pXr9djfr59C4NKJXf+XUT5CtfsAnB5ub0KwPHxwdQ8BSAAAEAuBeAuOnfuVmxsbBeSnVnIZc+jW13djO3tcs2jyzQ83BednXn/fGu1eukKmr6+3EU37fYEeGws79d0vV6PubmVtDwAAAAUgLtqZ6cWt24tFX2MhjP/L9fISG7hury8XroFGD09eQXg9vZObG4WU+QXoVqtxPj4QFreyspG6RbMAAAAtDoF4C67fXu5kNxaLW/+YP48unLdRss2PJz79S5j4drdnTfjcnOzvcqpvXsHo7Mz7+s7N1eu5+UAAADtQAG4y+7cKeZp285Ozo2tzs5qDAzkbhwu23PUbArXiK6uvAUV7XT7LyJi796h1Lyifo8EAABoZwrAXba1tVPI88ms0mJ0tD8qlUpKVsTdZ9XtXAB2dFTTF2DMz5fvhlbmluudneK2eWerVisxOTmcller1Qu7JQ0AANDOFIANsLWVf4Moa/lI/jy6jajXyzWPLlN24bq1tVPKBRjZS1Daxb59I6nl6sLCWlsVrAAAAGWx6+/qhoZ6fziw/+5Nj3bsbjILm4i7WzU3NrZSsrKfoy4tte/tv4iIkRELVyLu3lTL0k6F8/T0aGrenTtu/wEAABRhVwvA6enRePzxmR/9sP7aa1fi8uW53YxoCpm3lSIi1te30m4t5c+jK2chlcXG5bsyC8BqtT0uRg8O9sTYWO6N3hs3FlPzAAAAuGvXftI9eHBPPPHEzI/9oH748N5IvgxXuO7uzvQCYW0t5/Zfb29X9PZ2pWTdU8Z5dJksALkr81ZtR0d7/KZ1+PBE6td1ZWWjlM/LAQAA2sGuNFVHj07GyZP7PvTDZH9/dxw4sGc3IprG8HDuja2Iuz9YZxgdzb0ttLW1k/a5lVFPT2f09eUWrnNzZS1c84qqzI3DRenv746pqbzlHxFh+QcAAECBHrkAPH16Oh57bOJj//fHHpuI7u7W/4H6nuwbWxF5zzbNo8s1OjqQmre+vpU2S/JBZc7l6+1t/d+vjhyZSH1WHRFx/brnvwAAAEV56AKwWq3E00/Pxuzs+Cf+dV1dHXH8+NTDxjSd7JIsImJhIefWlueouUZGsheulLdwzdzM29nZkf7UPdPISH9MT4+kZq6sbLT9c34AAIAiPVQB2NlZjTNnDsbU1P39EDkzMxqTk7nPzYpQrVbSn8lubm6nzdUaHFQAZspeAFLmr3etVkvNy/51nOnkyan0TeWWfwAAABTrgQvA7u7O+MxnDseePYMP9PedOjXd0rdqIiImJ4ejq6sjNTPrVs3QUG/651beeXQ5sm9cLiyUtwDc3lYA7oZDh/bEyEj+53b16kJ6JgAAAH/sgQrAvr7u+NznDj/UM9eens546qnZ9LlTmaanR9MzswrA7NJgbW0zNje3UzPLZGCgJ7VwrdfrpX6iubWV+72wd++D/QFHMxge7o2jRyfTc+fnV9t6mQ8AAEAZ3HcBODjYG5/73OEYGOh56LDR0f44fXrmof/+Mhse7n3gW5G7IWuz5vCweXSZsm+graxsxs5O7i27B7G5uZOa19fXHWNjuUtYGqmjoxpPPLE/Ojp2ZfH7A7lyZT49EwAAgB93Xz8Njo72x2c/e2hXnvDOzIzGiRP7HvnjlM2xY1ORPFYr1te30ub/5c+ja+8CcHg4e+NyeZ//Rtz9Xs928OAnLzhqFpVKxFNPzabP8Iy4O6P06tX59FwAAAB+3KcWgHv3Dsazzx6K7u7OXQs9dGhPHDuW/xStUaanRwu5/XfrVs7tv2q1EoODD3/z82FkbTYuq+wbl2UvXFdXN9MzJyaG0ucwNsKpUzMxMTFUSPa1awupG5wBAAD4aJ9YAE5Pj8QzzxyMzs7dfzZ25MhEnDo1vesfN9vAQE+cPFnMjcbr13MG64+O9qfObqzV6qVeSNFolUrlkZ7aP4yyF65FzJCrVCqF/dreLadOTcfs7Fgh2bVaPS5evFNINgAAAD/uY5u9AwfG44kn9je0+DlwYDzOnDkYnZ2522V3S3d3Zzz99Gz6dtyIiLW1rbhzZyUlK/s56urqRqnn0TXayEhf6qy27e1aLC6Wu3BdXFyLej3/JtnY2EAcOrQnPfdRVSqVeOqp2ThwoLhnzDduLBZycxMAAIAP+8iW4ejRyTh1ajoqCUPtJiaG4gtfONJ0T+26ujrizJmDhczVioi4eXMxLSu7ACz7c9RGe5gt249ieXk9CujWHsjW1k5hZdKxY1OFPPF/WPe2te/bN1LYGer1iPPnbxWWDwAAwI/7UAF46tR0PPbYROohBgZ64gtfOBKHD+9NzX1Yd3/APpJe1NxTr+du1swuZ8t+G63R8heANEfhWtQ5q9VKPP30gaYoAaemRuInfuKx9C3SH3T79lLbF/kAAABl8qMCsFot9slYtVqN48en4gtfeCxGRor94fWTTE0Nx0/8xGPpSzHe786d5bQypLu7M/r6ulOy7mnn+X8RCtePk/Xk/aN0dlbjmWcOxP79xczT+zT9/d1x5szBwkYSvF+9Xo93371Z6BkAAAD4cZ0RER0dd3+4LcMNl5GRvvj85w/HtWsLce7crVhezh/+/1F6errixImpQp/V3XPhQt5g/dHR/kh4Cf4j29u1WFpqjkKqETo7O6K/P7dwnZ8v9wKQe27eXIp6vZ4ymuCjdHRU4/HHZ2JsrD/eeut6bG5uF3KO9+vt7YrDh/fGzMxo6tzIT3L9+mLTlMoAAADtojPibslThvLvnkqlEtPTo7Fv30jcvLkUly7Nxe3by4Wcpbu7Mw4d2hOzs2OlWFayvLwet24tpeWZR5frbuGaV3Btbm43zaKGzc3tWFxcL+zp/T3T06Oxd+9QnDt3Ky5duhPb2/kLa0ZH+2P//rHYt28kdUP3p6nV6vHuuzeKPgYAAAAf0BkRcfv2ciwurqXPHvs0lUolJieHY3JyONbWNuP69cW4eXOp4TeWKpWI8fHBmJkZjYmJodLcrImIOH/+dmpe9nPUZplH1yjZ5Vazfb1v3FgsvACMuLsE6PjxqTh8eG9cu7YQV68uxMJCY39fGhnpi4mJoZicHI6BgeJGEHySixfvNE2hDAAA0E467/0f58/fjqeemi3yLJ+or687Dh/eG4cP742Nje1YWFiNxcX1H/379vbOI3384eG+GBnpi7Gx/hgbG4ju7s5P/5uSLS6upS7/iMgvAM3/y57/11wF4NWr83H06GRpbr11dXXEgQPjceDAeKytbcbc3GrMz6/GwsJqrKxsPPRt1p6erhge7o3Bwd4YHu6L0dG+Uv6e9H5ra1tu/wEAAJTUj36ivHZtIR57bKK0N0ver6en80c3A+/Z2NiOtbXN2Nzcia2t7djc3IlarRa1Wj1qtbs/hVerlahWK9HZ2RFdXR0/XHDRFb29XaW65fdx3n77empef393eunQLPPoGiW/AGyur/fGxnbcvr0cExNDRR/lQ/r6uqOvrztmZkYj4u5z2LW1zdjY2I6tre3Y2tr50e9H9Xr9h78fVaNarURHRzW6uzujp6czurs7C1/k8TDefvta7OzkP4cGAADg0/1Yu/P229fjzJmDRZ3lkfT03P3huVVdv76YvgV1dDR3G/O9Erdd9fbeLaOz1OsRc3PNVQBGRFy4cLuUBeAHVauVGBjoaYo/VHlU168vxvXri0UfAwAAgI/xY9febt5ciuvXF4o6Cx9je3sn3nkn9/ZfRKTPhGy2eXS7bWwst3BdW9uMra1HezpfhDt3Vho+b4/7t76+Fa+/fqXoYwAAAPAJPvTu9c03rzdlKdDK3nrreiGD9bMLwMXF9p7/p3C9f++9d7PoIxAR9Xo9Xnvtiv+fAQAAUHIfKgA3NrbSZ83x8a5fX4jLl+fScyuVSgwO5j5dbPcCcGhI4Xq/bt1ajtu3l4s+Rts7e/aWfw4AAABN4CM3X1y+PBeXLuWXTvy4tbWteP31q4VkDw/3pi5GqdfrFoAM5Rauzb5x+e23r/9owQ/5btxYtPUXAACgSXxsw/Pmm1fbvpAp0vZ2LV5++VJhT+tGRrLn0W219TPCoaHe6OzM2/xaq9Wbfo7e0tJ6nDt3q+hjtKWlpfV45ZXLRR8DAACA+/SxBWCtVo+XX74UGxtbmech7n7tX3nlUqEFTf48uua+jfaosgvX5eX1lrg9d/bszaaeZdiMVlc34wc/uBA7O7WijwIAAMB9+sQ3nuvrW/GDH1yIzc3trPMQEW++eS1u3lwq9AxDQ72peYuL7V3iDA/nfr1bpTS79wcV29vte3s00/r6Vnz/++f9wRAAAECT+dQhb0tL6/GDH1xo6+eZmd5550ZcunSn0DN0dlZjYKA7NbPZn6M+qvyNy61RAEZErKxsxGuvXY16vflvNJbZ3T8QOh9ra/kbyQEAAHg097XlYXFxLX7wg/NKwAaq1+vxxhtX4+zZm0UfJUZH+6NSqaTl3Z1H175PgKvVSgwMZC8Aaa3C9fr1hXjnHQspGmV5eSP+6I/OxvLyRtFHAQAA4CHc95rXhYW1+N73zrn90QB3Z/5djosXi735d495dLlGR/ujWs0rXLe2dlrmCfD7nTt3y1KQBpifX/3h7/2e/QIAADSr+y4AI+4+B/7ud8/G3Fxr3R4q0sbGdrzwwoW4dm2h6KP8SPb8v1Ysox5E9vPf5eXW/Xq//fZ1JeAuunx5Lr73vXPmwAIAADS5ByoAIyI2N7fj+98/F5cvzzXiPG3lzp2V+M533ovbt5eLPsqPyV8A0r7PfyPM/9ttb799Pd5++7qZgI9gZ6cWr79+JV577Upb384FAABoFZ0P8zfVavV47bUrMTe3GidOTEV390N9mLZVr9fj7Nlb8e675ZtZ1tvbFb29XamZ8/PtfaNU4br7zp27FWtrm/H44zPR2dlR9HGaysLCWrz22pWWvikKAADQbh6pubt6dT7u3FmOkyenY2pqeLfO1NIWFtbizTevlXYJw+ho7vy/ra2dtl4s0NXVEX19uRuX26VwvX59MVZWNuOpp/bH4GBuydqMarVanD17K86evRkuTwIAALSWR766t7GxHS+9dDH27RuJY8emoq8v9/ZYs9jc3I733rtZmkUfHyf7OWq7z/8bGxuIxIXLsb6+Fevr7bPMYXl5Pb7znffi2LGpOHhwPHW7dTO5cWMp3n77WqyuWvIEAADQinbt7e61awtx48ZiHDy4Jw4d2uNZ8A9tb9fi6tX5eO+9m00xSH942AKQTArXxqvV6vHWW9fixo3FOHFiX4yM5H7Ny2xhYS3effdG6eaQAgAAsLt2taWr1epx7tytuHTpThw6tDcOHBiPrq72nL+1tbUTly/Pxfnzt5ui+Lsn+6lkO8yj+yQK1zzz86vx3e++F/v3j8Vjj02kz7osk/n51Th37lbcvLlU9FEAAABI0JBretvbtXj33Rtx4cLt2L9/LGZmRmNgoKcRUaWzsrIRV68uxKVLd2Jra6fo4zyQoaHe9MJ2bq495tF9nOwFIO0y/++TXL48F1evzsf+/WNx6NCe9BmMRdnZqcXNm0tx6dJczM2tFH0cAAAAEjX0ne7W1k6cO3crzp27FXv3DsXs7Fjs3TvYcnO4trZ24saNxbhyZb6pC5aRkdwFIOvrW7Gx0T7z6D6or6879al8vV4v7fKZbLVaPS5evBOXLs3F1NRw7N8/lj6PMUO9HrG0tBbXr9/9/amZbiMDAACwe9Lah1u3luLWraXo7e2KfftGYu/ewRgZ6Y9qtTl/4l5b24w7d1bi9u3luHlzKWq15l+b6TlqrrGx3MJ1ZWUztrdrqZllV6/X49q1hbh2bSEGBnpienokJiaGY3CweW8s12r1WFpai1u3luPatQWLPQAAAMgrAO9ZX9/60a3Arq6OmJwcjomJoRgd7S/1vMD19a1YWlqPhYW1uHlzMZaXN4o+0q4bGspdjmD+nwUgZbKyshHvvHMj3nnnRgwN9cbExFCMjQ3EyEhfdHRUiz7ex6rV6rGyshELC6s//EOJldjebq7xAwAAADRW5RvfeKU0V9cGB3tiZKQ/hof7YmioNwYHe9J/8K7V6rG+vhVra5uxvLwRi4trMT+/Guvr7ftUFdpZtVqN0dG+H/7e1BuDg73R19dVyCiDzc3tWFvbjNXVu78/LSysxcLCakvcQAYAAKBxSlUAflClUon+/u7o7++O3t6u6O3tip6erujt7Yzu7s6oVqtRrVaiWq1ER0c1KpXKj83wqtfvPvGr1eo//PdabG3VYmtr54f/2o6trZ3Y3NyO1dXNWFnZiLW1zaiX9isClEG1WonBwd4YGOiJvr6u6OnpjJ6eruju7ojOzo7o6Kj+8N8rH1sU1uv1qNfv/qHDzs5ObG/XYmenFtvbtdja2o6NjT/+1/r63cKv2RYLAQAAUA7pT4AfRL1+92nbysr9P7e9VwTu7NSirskDGqBWq8fi4tp9P2O/+wcV1ahU7v69tVrNHzQAAACQptQF4MPY2bHkACiXu6Wf23sAAAAUo7yT7QEAAACAR6YABAAAAIAWpgAEAAAAgBamAAQAAACAFqYABAAAAIAWpgAEAAAAgBamAAQAAACAFqYABAAAAIAWpgAEAAAAgBamAAQAAACAFqYABAAAAIAWpgAEAAAAgBamAAQAAACAFqYABAAAAIAWpgAEAAAAgBamAAQAAACAFqYABAAAAIAWpgAEAAAAgBamAAQAAACAFqYABAAAAIAWpgAEAAAAgBamAAQAAACAFqYABAAAAIAWpgAEAAAAgBamAAQAAACAFqYABAAAAIAWpgAEAAAAgBamAAQAAACAFqYABAAAAIAWpgAEAAAAgBamAAQAAACAFqYABAAAAIAWpgAEAAAAgBamAAQAAACAFqYABAAAAIAWpgAEAAAAgBamAAQAAACAFqYABAAAAIAWpgAEAAAAgBb2/wdXx0K4Q91FSwAAAABJRU5ErkJggg==",
          "x": -0.5,
          "xref": "x",
          "y": 3,
          "yref": "y"
         }
        ],
        "margin": {
         "b": 100,
         "l": 50,
         "r": 50,
         "t": 100
        },
        "template": {
         "data": {
          "bar": [
           {
            "error_x": {
             "color": "#2a3f5f"
            },
            "error_y": {
             "color": "#2a3f5f"
            },
            "marker": {
             "line": {
              "color": "#E5ECF6",
              "width": 0.5
             },
             "pattern": {
              "fillmode": "overlay",
              "size": 10,
              "solidity": 0.2
             }
            },
            "type": "bar"
           }
          ],
          "barpolar": [
           {
            "marker": {
             "line": {
              "color": "#E5ECF6",
              "width": 0.5
             },
             "pattern": {
              "fillmode": "overlay",
              "size": 10,
              "solidity": 0.2
             }
            },
            "type": "barpolar"
           }
          ],
          "carpet": [
           {
            "aaxis": {
             "endlinecolor": "#2a3f5f",
             "gridcolor": "white",
             "linecolor": "white",
             "minorgridcolor": "white",
             "startlinecolor": "#2a3f5f"
            },
            "baxis": {
             "endlinecolor": "#2a3f5f",
             "gridcolor": "white",
             "linecolor": "white",
             "minorgridcolor": "white",
             "startlinecolor": "#2a3f5f"
            },
            "type": "carpet"
           }
          ],
          "choropleth": [
           {
            "colorbar": {
             "outlinewidth": 0,
             "ticks": ""
            },
            "type": "choropleth"
           }
          ],
          "contour": [
           {
            "colorbar": {
             "outlinewidth": 0,
             "ticks": ""
            },
            "colorscale": [
             [
              0,
              "#0d0887"
             ],
             [
              0.1111111111111111,
              "#46039f"
             ],
             [
              0.2222222222222222,
              "#7201a8"
             ],
             [
              0.3333333333333333,
              "#9c179e"
             ],
             [
              0.4444444444444444,
              "#bd3786"
             ],
             [
              0.5555555555555556,
              "#d8576b"
             ],
             [
              0.6666666666666666,
              "#ed7953"
             ],
             [
              0.7777777777777778,
              "#fb9f3a"
             ],
             [
              0.8888888888888888,
              "#fdca26"
             ],
             [
              1,
              "#f0f921"
             ]
            ],
            "type": "contour"
           }
          ],
          "contourcarpet": [
           {
            "colorbar": {
             "outlinewidth": 0,
             "ticks": ""
            },
            "type": "contourcarpet"
           }
          ],
          "heatmap": [
           {
            "colorbar": {
             "outlinewidth": 0,
             "ticks": ""
            },
            "colorscale": [
             [
              0,
              "#0d0887"
             ],
             [
              0.1111111111111111,
              "#46039f"
             ],
             [
              0.2222222222222222,
              "#7201a8"
             ],
             [
              0.3333333333333333,
              "#9c179e"
             ],
             [
              0.4444444444444444,
              "#bd3786"
             ],
             [
              0.5555555555555556,
              "#d8576b"
             ],
             [
              0.6666666666666666,
              "#ed7953"
             ],
             [
              0.7777777777777778,
              "#fb9f3a"
             ],
             [
              0.8888888888888888,
              "#fdca26"
             ],
             [
              1,
              "#f0f921"
             ]
            ],
            "type": "heatmap"
           }
          ],
          "heatmapgl": [
           {
            "colorbar": {
             "outlinewidth": 0,
             "ticks": ""
            },
            "colorscale": [
             [
              0,
              "#0d0887"
             ],
             [
              0.1111111111111111,
              "#46039f"
             ],
             [
              0.2222222222222222,
              "#7201a8"
             ],
             [
              0.3333333333333333,
              "#9c179e"
             ],
             [
              0.4444444444444444,
              "#bd3786"
             ],
             [
              0.5555555555555556,
              "#d8576b"
             ],
             [
              0.6666666666666666,
              "#ed7953"
             ],
             [
              0.7777777777777778,
              "#fb9f3a"
             ],
             [
              0.8888888888888888,
              "#fdca26"
             ],
             [
              1,
              "#f0f921"
             ]
            ],
            "type": "heatmapgl"
           }
          ],
          "histogram": [
           {
            "marker": {
             "pattern": {
              "fillmode": "overlay",
              "size": 10,
              "solidity": 0.2
             }
            },
            "type": "histogram"
           }
          ],
          "histogram2d": [
           {
            "colorbar": {
             "outlinewidth": 0,
             "ticks": ""
            },
            "colorscale": [
             [
              0,
              "#0d0887"
             ],
             [
              0.1111111111111111,
              "#46039f"
             ],
             [
              0.2222222222222222,
              "#7201a8"
             ],
             [
              0.3333333333333333,
              "#9c179e"
             ],
             [
              0.4444444444444444,
              "#bd3786"
             ],
             [
              0.5555555555555556,
              "#d8576b"
             ],
             [
              0.6666666666666666,
              "#ed7953"
             ],
             [
              0.7777777777777778,
              "#fb9f3a"
             ],
             [
              0.8888888888888888,
              "#fdca26"
             ],
             [
              1,
              "#f0f921"
             ]
            ],
            "type": "histogram2d"
           }
          ],
          "histogram2dcontour": [
           {
            "colorbar": {
             "outlinewidth": 0,
             "ticks": ""
            },
            "colorscale": [
             [
              0,
              "#0d0887"
             ],
             [
              0.1111111111111111,
              "#46039f"
             ],
             [
              0.2222222222222222,
              "#7201a8"
             ],
             [
              0.3333333333333333,
              "#9c179e"
             ],
             [
              0.4444444444444444,
              "#bd3786"
             ],
             [
              0.5555555555555556,
              "#d8576b"
             ],
             [
              0.6666666666666666,
              "#ed7953"
             ],
             [
              0.7777777777777778,
              "#fb9f3a"
             ],
             [
              0.8888888888888888,
              "#fdca26"
             ],
             [
              1,
              "#f0f921"
             ]
            ],
            "type": "histogram2dcontour"
           }
          ],
          "mesh3d": [
           {
            "colorbar": {
             "outlinewidth": 0,
             "ticks": ""
            },
            "type": "mesh3d"
           }
          ],
          "parcoords": [
           {
            "line": {
             "colorbar": {
              "outlinewidth": 0,
              "ticks": ""
             }
            },
            "type": "parcoords"
           }
          ],
          "pie": [
           {
            "automargin": true,
            "type": "pie"
           }
          ],
          "scatter": [
           {
            "fillpattern": {
             "fillmode": "overlay",
             "size": 10,
             "solidity": 0.2
            },
            "type": "scatter"
           }
          ],
          "scatter3d": [
           {
            "line": {
             "colorbar": {
              "outlinewidth": 0,
              "ticks": ""
             }
            },
            "marker": {
             "colorbar": {
              "outlinewidth": 0,
              "ticks": ""
             }
            },
            "type": "scatter3d"
           }
          ],
          "scattercarpet": [
           {
            "marker": {
             "colorbar": {
              "outlinewidth": 0,
              "ticks": ""
             }
            },
            "type": "scattercarpet"
           }
          ],
          "scattergeo": [
           {
            "marker": {
             "colorbar": {
              "outlinewidth": 0,
              "ticks": ""
             }
            },
            "type": "scattergeo"
           }
          ],
          "scattergl": [
           {
            "marker": {
             "colorbar": {
              "outlinewidth": 0,
              "ticks": ""
             }
            },
            "type": "scattergl"
           }
          ],
          "scattermapbox": [
           {
            "marker": {
             "colorbar": {
              "outlinewidth": 0,
              "ticks": ""
             }
            },
            "type": "scattermapbox"
           }
          ],
          "scatterpolar": [
           {
            "marker": {
             "colorbar": {
              "outlinewidth": 0,
              "ticks": ""
             }
            },
            "type": "scatterpolar"
           }
          ],
          "scatterpolargl": [
           {
            "marker": {
             "colorbar": {
              "outlinewidth": 0,
              "ticks": ""
             }
            },
            "type": "scatterpolargl"
           }
          ],
          "scatterternary": [
           {
            "marker": {
             "colorbar": {
              "outlinewidth": 0,
              "ticks": ""
             }
            },
            "type": "scatterternary"
           }
          ],
          "surface": [
           {
            "colorbar": {
             "outlinewidth": 0,
             "ticks": ""
            },
            "colorscale": [
             [
              0,
              "#0d0887"
             ],
             [
              0.1111111111111111,
              "#46039f"
             ],
             [
              0.2222222222222222,
              "#7201a8"
             ],
             [
              0.3333333333333333,
              "#9c179e"
             ],
             [
              0.4444444444444444,
              "#bd3786"
             ],
             [
              0.5555555555555556,
              "#d8576b"
             ],
             [
              0.6666666666666666,
              "#ed7953"
             ],
             [
              0.7777777777777778,
              "#fb9f3a"
             ],
             [
              0.8888888888888888,
              "#fdca26"
             ],
             [
              1,
              "#f0f921"
             ]
            ],
            "type": "surface"
           }
          ],
          "table": [
           {
            "cells": {
             "fill": {
              "color": "#EBF0F8"
             },
             "line": {
              "color": "white"
             }
            },
            "header": {
             "fill": {
              "color": "#C8D4E3"
             },
             "line": {
              "color": "white"
             }
            },
            "type": "table"
           }
          ]
         },
         "layout": {
          "annotationdefaults": {
           "arrowcolor": "#2a3f5f",
           "arrowhead": 0,
           "arrowwidth": 1
          },
          "autotypenumbers": "strict",
          "coloraxis": {
           "colorbar": {
            "outlinewidth": 0,
            "ticks": ""
           }
          },
          "colorscale": {
           "diverging": [
            [
             0,
             "#8e0152"
            ],
            [
             0.1,
             "#c51b7d"
            ],
            [
             0.2,
             "#de77ae"
            ],
            [
             0.3,
             "#f1b6da"
            ],
            [
             0.4,
             "#fde0ef"
            ],
            [
             0.5,
             "#f7f7f7"
            ],
            [
             0.6,
             "#e6f5d0"
            ],
            [
             0.7,
             "#b8e186"
            ],
            [
             0.8,
             "#7fbc41"
            ],
            [
             0.9,
             "#4d9221"
            ],
            [
             1,
             "#276419"
            ]
           ],
           "sequential": [
            [
             0,
             "#0d0887"
            ],
            [
             0.1111111111111111,
             "#46039f"
            ],
            [
             0.2222222222222222,
             "#7201a8"
            ],
            [
             0.3333333333333333,
             "#9c179e"
            ],
            [
             0.4444444444444444,
             "#bd3786"
            ],
            [
             0.5555555555555556,
             "#d8576b"
            ],
            [
             0.6666666666666666,
             "#ed7953"
            ],
            [
             0.7777777777777778,
             "#fb9f3a"
            ],
            [
             0.8888888888888888,
             "#fdca26"
            ],
            [
             1,
             "#f0f921"
            ]
           ],
           "sequentialminus": [
            [
             0,
             "#0d0887"
            ],
            [
             0.1111111111111111,
             "#46039f"
            ],
            [
             0.2222222222222222,
             "#7201a8"
            ],
            [
             0.3333333333333333,
             "#9c179e"
            ],
            [
             0.4444444444444444,
             "#bd3786"
            ],
            [
             0.5555555555555556,
             "#d8576b"
            ],
            [
             0.6666666666666666,
             "#ed7953"
            ],
            [
             0.7777777777777778,
             "#fb9f3a"
            ],
            [
             0.8888888888888888,
             "#fdca26"
            ],
            [
             1,
             "#f0f921"
            ]
           ]
          },
          "colorway": [
           "#636efa",
           "#EF553B",
           "#00cc96",
           "#ab63fa",
           "#FFA15A",
           "#19d3f3",
           "#FF6692",
           "#B6E880",
           "#FF97FF",
           "#FECB52"
          ],
          "font": {
           "color": "#2a3f5f"
          },
          "geo": {
           "bgcolor": "white",
           "lakecolor": "white",
           "landcolor": "#E5ECF6",
           "showlakes": true,
           "showland": true,
           "subunitcolor": "white"
          },
          "hoverlabel": {
           "align": "left"
          },
          "hovermode": "closest",
          "mapbox": {
           "style": "light"
          },
          "paper_bgcolor": "white",
          "plot_bgcolor": "#E5ECF6",
          "polar": {
           "angularaxis": {
            "gridcolor": "white",
            "linecolor": "white",
            "ticks": ""
           },
           "bgcolor": "#E5ECF6",
           "radialaxis": {
            "gridcolor": "white",
            "linecolor": "white",
            "ticks": ""
           }
          },
          "scene": {
           "xaxis": {
            "backgroundcolor": "#E5ECF6",
            "gridcolor": "white",
            "gridwidth": 2,
            "linecolor": "white",
            "showbackground": true,
            "ticks": "",
            "zerolinecolor": "white"
           },
           "yaxis": {
            "backgroundcolor": "#E5ECF6",
            "gridcolor": "white",
            "gridwidth": 2,
            "linecolor": "white",
            "showbackground": true,
            "ticks": "",
            "zerolinecolor": "white"
           },
           "zaxis": {
            "backgroundcolor": "#E5ECF6",
            "gridcolor": "white",
            "gridwidth": 2,
            "linecolor": "white",
            "showbackground": true,
            "ticks": "",
            "zerolinecolor": "white"
           }
          },
          "shapedefaults": {
           "line": {
            "color": "#2a3f5f"
           }
          },
          "ternary": {
           "aaxis": {
            "gridcolor": "white",
            "linecolor": "white",
            "ticks": ""
           },
           "baxis": {
            "gridcolor": "white",
            "linecolor": "white",
            "ticks": ""
           },
           "bgcolor": "#E5ECF6",
           "caxis": {
            "gridcolor": "white",
            "linecolor": "white",
            "ticks": ""
           }
          },
          "title": {
           "x": 0.05
          },
          "xaxis": {
           "automargin": true,
           "gridcolor": "white",
           "linecolor": "white",
           "ticks": "",
           "title": {
            "standoff": 15
           },
           "zerolinecolor": "white",
           "zerolinewidth": 2
          },
          "yaxis": {
           "automargin": true,
           "gridcolor": "white",
           "linecolor": "white",
           "ticks": "",
           "title": {
            "standoff": 15
           },
           "zerolinecolor": "white",
           "zerolinewidth": 2
          }
         }
        },
        "title": {
         "font": {
          "size": 30
         },
         "text": "Team Metrics",
         "x": 0.5,
         "xanchor": "center",
         "y": 0.93,
         "yanchor": "top"
        },
        "width": 1028,
        "xaxis": {
         "autorange": true,
         "range": [
          -0.5,
          11.5
         ],
         "type": "category"
        },
        "yaxis": {
         "range": [
          0,
          3
         ],
         "type": "linear"
        }
       }
      },
      "image/png": "[encoded data removed]",
      "text/html": [
       "<div>                            <div id=\"75548a3b-1a6a-4ab0-a553-b72e93fd8a1e\" class=\"plotly-graph-div\" style=\"height:800px; width:1028px;\"></div>            <script type=\"text/javascript\">                require([\"plotly\"], function(Plotly) {                    window.PLOTLYENV=window.PLOTLYENV || {};                                    if (document.getElementById(\"75548a3b-1a6a-4ab0-a553-b72e93fd8a1e\")) {                    Plotly.newPlot(                        \"75548a3b-1a6a-4ab0-a553-b72e93fd8a1e\",                        [{\"marker\":{\"color\":\"white\",\"line\":{\"color\":\"DarkSlateGrey\",\"width\":5}},\"text\":[2.5,2.33,1.83,1.33,1.83,1.83,1.17,1.17,1.33,1.5,2.33,1.83],\"textfont\":{\"size\":18,\"style\":\"italic\",\"weight\":\"bold\"},\"x\":[\"Role Sentiment\",\"Team Perform Role\",\"Team Composition\",\"Team Set Goals\",\"Team Backlog\",\"Team Ceremonies\",\"Team Performance\",\"Customer Feedback\",\"Team Deployment\",\"Team Retrospectives\",\"Team Experience\",\"Work Life Balance\"],\"y\":[2.5,2.33,1.83,1.33,1.83,1.83,1.17,1.17,1.33,1.5,2.33,1.83],\"type\":\"bar\"}],                        {\"template\":{\"data\":{\"histogram2dcontour\":[{\"type\":\"histogram2dcontour\",\"colorbar\":{\"outlinewidth\":0,\"ticks\":\"\"},\"colorscale\":[[0.0,\"#0d0887\"],[0.1111111111111111,\"#46039f\"],[0.2222222222222222,\"#7201a8\"],[0.3333333333333333,\"#9c179e\"],[0.4444444444444444,\"#bd3786\"],[0.5555555555555556,\"#d8576b\"],[0.6666666666666666,\"#ed7953\"],[0.7777777777777778,\"#fb9f3a\"],[0.8888888888888888,\"#fdca26\"],[1.0,\"#f0f921\"]]}],\"choropleth\":[{\"type\":\"choropleth\",\"colorbar\":{\"outlinewidth\":0,\"ticks\":\"\"}}],\"histogram2d\":[{\"type\":\"histogram2d\",\"colorbar\":{\"outlinewidth\":0,\"ticks\":\"\"},\"colorscale\":[[0.0,\"#0d0887\"],[0.1111111111111111,\"#46039f\"],[0.2222222222222222,\"#7201a8\"],[0.3333333333333333,\"#9c179e\"],[0.4444444444444444,\"#bd3786\"],[0.5555555555555556,\"#d8576b\"],[0.6666666666666666,\"#ed7953\"],[0.7777777777777778,\"#fb9f3a\"],[0.8888888888888888,\"#fdca26\"],[1.0,\"#f0f921\"]]}],\"heatmap\":[{\"type\":\"heatmap\",\"colorbar\":{\"outlinewidth\":0,\"ticks\":\"\"},\"colorscale\":[[0.0,\"#0d0887\"],[0.1111111111111111,\"#46039f\"],[0.2222222222222222,\"#7201a8\"],[0.3333333333333333,\"#9c179e\"],[0.4444444444444444,\"#bd3786\"],[0.5555555555555556,\"#d8576b\"],[0.6666666666666666,\"#ed7953\"],[0.7777777777777778,\"#fb9f3a\"],[0.8888888888888888,\"#fdca26\"],[1.0,\"#f0f921\"]]}],\"heatmapgl\":[{\"type\":\"heatmapgl\",\"colorbar\":{\"outlinewidth\":0,\"ticks\":\"\"},\"colorscale\":[[0.0,\"#0d0887\"],[0.1111111111111111,\"#46039f\"],[0.2222222222222222,\"#7201a8\"],[0.3333333333333333,\"#9c179e\"],[0.4444444444444444,\"#bd3786\"],[0.5555555555555556,\"#d8576b\"],[0.6666666666666666,\"#ed7953\"],[0.7777777777777778,\"#fb9f3a\"],[0.8888888888888888,\"#fdca26\"],[1.0,\"#f0f921\"]]}],\"contourcarpet\":[{\"type\":\"contourcarpet\",\"colorbar\":{\"outlinewidth\":0,\"ticks\":\"\"}}],\"contour\":[{\"type\":\"contour\",\"colorbar\":{\"outlinewidth\":0,\"ticks\":\"\"},\"colorscale\":[[0.0,\"#0d0887\"],[0.1111111111111111,\"#46039f\"],[0.2222222222222222,\"#7201a8\"],[0.3333333333333333,\"#9c179e\"],[0.4444444444444444,\"#bd3786\"],[0.5555555555555556,\"#d8576b\"],[0.6666666666666666,\"#ed7953\"],[0.7777777777777778,\"#fb9f3a\"],[0.8888888888888888,\"#fdca26\"],[1.0,\"#f0f921\"]]}],\"surface\":[{\"type\":\"surface\",\"colorbar\":{\"outlinewidth\":0,\"ticks\":\"\"},\"colorscale\":[[0.0,\"#0d0887\"],[0.1111111111111111,\"#46039f\"],[0.2222222222222222,\"#7201a8\"],[0.3333333333333333,\"#9c179e\"],[0.4444444444444444,\"#bd3786\"],[0.5555555555555556,\"#d8576b\"],[0.6666666666666666,\"#ed7953\"],[0.7777777777777778,\"#fb9f3a\"],[0.8888888888888888,\"#fdca26\"],[1.0,\"#f0f921\"]]}],\"mesh3d\":[{\"type\":\"mesh3d\",\"colorbar\":{\"outlinewidth\":0,\"ticks\":\"\"}}],\"scatter\":[{\"fillpattern\":{\"fillmode\":\"overlay\",\"size\":10,\"solidity\":0.2},\"type\":\"scatter\"}],\"parcoords\":[{\"type\":\"parcoords\",\"line\":{\"colorbar\":{\"outlinewidth\":0,\"ticks\":\"\"}}}],\"scatterpolargl\":[{\"type\":\"scatterpolargl\",\"marker\":{\"colorbar\":{\"outlinewidth\":0,\"ticks\":\"\"}}}],\"bar\":[{\"error_x\":{\"color\":\"#2a3f5f\"},\"error_y\":{\"color\":\"#2a3f5f\"},\"marker\":{\"line\":{\"color\":\"#E5ECF6\",\"width\":0.5},\"pattern\":{\"fillmode\":\"overlay\",\"size\":10,\"solidity\":0.2}},\"type\":\"bar\"}],\"scattergeo\":[{\"type\":\"scattergeo\",\"marker\":{\"colorbar\":{\"outlinewidth\":0,\"ticks\":\"\"}}}],\"scatterpolar\":[{\"type\":\"scatterpolar\",\"marker\":{\"colorbar\":{\"outlinewidth\":0,\"ticks\":\"\"}}}],\"histogram\":[{\"marker\":{\"pattern\":{\"fillmode\":\"overlay\",\"size\":10,\"solidity\":0.2}},\"type\":\"histogram\"}],\"scattergl\":[{\"type\":\"scattergl\",\"marker\":{\"colorbar\":{\"outlinewidth\":0,\"ticks\":\"\"}}}],\"scatter3d\":[{\"type\":\"scatter3d\",\"line\":{\"colorbar\":{\"outlinewidth\":0,\"ticks\":\"\"}},\"marker\":{\"colorbar\":{\"outlinewidth\":0,\"ticks\":\"\"}}}],\"scattermapbox\":[{\"type\":\"scattermapbox\",\"marker\":{\"colorbar\":{\"outlinewidth\":0,\"ticks\":\"\"}}}],\"scatterternary\":[{\"type\":\"scatterternary\",\"marker\":{\"colorbar\":{\"outlinewidth\":0,\"ticks\":\"\"}}}],\"scattercarpet\":[{\"type\":\"scattercarpet\",\"marker\":{\"colorbar\":{\"outlinewidth\":0,\"ticks\":\"\"}}}],\"carpet\":[{\"aaxis\":{\"endlinecolor\":\"#2a3f5f\",\"gridcolor\":\"white\",\"linecolor\":\"white\",\"minorgridcolor\":\"white\",\"startlinecolor\":\"#2a3f5f\"},\"baxis\":{\"endlinecolor\":\"#2a3f5f\",\"gridcolor\":\"white\",\"linecolor\":\"white\",\"minorgridcolor\":\"white\",\"startlinecolor\":\"#2a3f5f\"},\"type\":\"carpet\"}],\"table\":[{\"cells\":{\"fill\":{\"color\":\"#EBF0F8\"},\"line\":{\"color\":\"white\"}},\"header\":{\"fill\":{\"color\":\"#C8D4E3\"},\"line\":{\"color\":\"white\"}},\"type\":\"table\"}],\"barpolar\":[{\"marker\":{\"line\":{\"color\":\"#E5ECF6\",\"width\":0.5},\"pattern\":{\"fillmode\":\"overlay\",\"size\":10,\"solidity\":0.2}},\"type\":\"barpolar\"}],\"pie\":[{\"automargin\":true,\"type\":\"pie\"}]},\"layout\":{\"autotypenumbers\":\"strict\",\"colorway\":[\"#636efa\",\"#EF553B\",\"#00cc96\",\"#ab63fa\",\"#FFA15A\",\"#19d3f3\",\"#FF6692\",\"#B6E880\",\"#FF97FF\",\"#FECB52\"],\"font\":{\"color\":\"#2a3f5f\"},\"hovermode\":\"closest\",\"hoverlabel\":{\"align\":\"left\"},\"paper_bgcolor\":\"white\",\"plot_bgcolor\":\"#E5ECF6\",\"polar\":{\"bgcolor\":\"#E5ECF6\",\"angularaxis\":{\"gridcolor\":\"white\",\"linecolor\":\"white\",\"ticks\":\"\"},\"radialaxis\":{\"gridcolor\":\"white\",\"linecolor\":\"white\",\"ticks\":\"\"}},\"ternary\":{\"bgcolor\":\"#E5ECF6\",\"aaxis\":{\"gridcolor\":\"white\",\"linecolor\":\"white\",\"ticks\":\"\"},\"baxis\":{\"gridcolor\":\"white\",\"linecolor\":\"white\",\"ticks\":\"\"},\"caxis\":{\"gridcolor\":\"white\",\"linecolor\":\"white\",\"ticks\":\"\"}},\"coloraxis\":{\"colorbar\":{\"outlinewidth\":0,\"ticks\":\"\"}},\"colorscale\":{\"sequential\":[[0.0,\"#0d0887\"],[0.1111111111111111,\"#46039f\"],[0.2222222222222222,\"#7201a8\"],[0.3333333333333333,\"#9c179e\"],[0.4444444444444444,\"#bd3786\"],[0.5555555555555556,\"#d8576b\"],[0.6666666666666666,\"#ed7953\"],[0.7777777777777778,\"#fb9f3a\"],[0.8888888888888888,\"#fdca26\"],[1.0,\"#f0f921\"]],\"sequentialminus\":[[0.0,\"#0d0887\"],[0.1111111111111111,\"#46039f\"],[0.2222222222222222,\"#7201a8\"],[0.3333333333333333,\"#9c179e\"],[0.4444444444444444,\"#bd3786\"],[0.5555555555555556,\"#d8576b\"],[0.6666666666666666,\"#ed7953\"],[0.7777777777777778,\"#fb9f3a\"],[0.8888888888888888,\"#fdca26\"],[1.0,\"#f0f921\"]],\"diverging\":[[0,\"#8e0152\"],[0.1,\"#c51b7d\"],[0.2,\"#de77ae\"],[0.3,\"#f1b6da\"],[0.4,\"#fde0ef\"],[0.5,\"#f7f7f7\"],[0.6,\"#e6f5d0\"],[0.7,\"#b8e186\"],[0.8,\"#7fbc41\"],[0.9,\"#4d9221\"],[1,\"#276419\"]]},\"xaxis\":{\"gridcolor\":\"white\",\"linecolor\":\"white\",\"ticks\":\"\",\"title\":{\"standoff\":15},\"zerolinecolor\":\"white\",\"automargin\":true,\"zerolinewidth\":2},\"yaxis\":{\"gridcolor\":\"white\",\"linecolor\":\"white\",\"ticks\":\"\",\"title\":{\"standoff\":15},\"zerolinecolor\":\"white\",\"automargin\":true,\"zerolinewidth\":2},\"scene\":{\"xaxis\":{\"backgroundcolor\":\"#E5ECF6\",\"gridcolor\":\"white\",\"linecolor\":\"white\",\"showbackground\":true,\"ticks\":\"\",\"zerolinecolor\":\"white\",\"gridwidth\":2},\"yaxis\":{\"backgroundcolor\":\"#E5ECF6\",\"gridcolor\":\"white\",\"linecolor\":\"white\",\"showbackground\":true,\"ticks\":\"\",\"zerolinecolor\":\"white\",\"gridwidth\":2},\"zaxis\":{\"backgroundcolor\":\"#E5ECF6\",\"gridcolor\":\"white\",\"linecolor\":\"white\",\"showbackground\":true,\"ticks\":\"\",\"zerolinecolor\":\"white\",\"gridwidth\":2}},\"shapedefaults\":{\"line\":{\"color\":\"#2a3f5f\"}},\"annotationdefaults\":{\"arrowcolor\":\"#2a3f5f\",\"arrowhead\":0,\"arrowwidth\":1},\"geo\":{\"bgcolor\":\"white\",\"landcolor\":\"#E5ECF6\",\"subunitcolor\":\"white\",\"showland\":true,\"showlakes\":true,\"lakecolor\":\"white\"},\"title\":{\"x\":0.05},\"mapbox\":{\"style\":\"light\"}}},\"yaxis\":{\"range\":[0,3]},\"margin\":{\"l\":50,\"r\":50,\"b\":100,\"t\":100},\"autosize\":false,\"width\":1028,\"height\":800,\"images\":[{\"layer\":\"below\",\"opacity\":1,\"sizex\":12,\"sizey\":3,\"sizing\":\"stretch\",\"source\":\"data:image\\u002fpng;base64,iVBORw0KGgoAAAANSUhEUgAABQAAAALPCAYAAAA9\\u002fW0YAAByx0lEQVR4nO39d5Tl6Zkf9j33Vs6hu6q6qqvTdJ7Yg7QJ2AAsMAMuRdGWLMm0ZZGmdOwj60hHsimSlkTLkngkixLtPUq2ZcmKtESuqJVIHVHARuwudoFdAJPzTOccKueqe\\u002f1Ho7GDiR3qPr\\u002ffvffzOQcHC2Cmvm\\u002fVVPee+vb7Pk\\u002flc2d+uR4AAAAAQEuqFn0AAAAAAKBxFIAAAAAA0MIUgAAAAADQwhSAAAAAANDCFIAAAAAA0MIUgAAAAADQwhSAAAAAANDCFIAAAAAA0MIUgAAAAADQwhSAAAAAANDCFIAAAAAA0MIUgAAAAADQwhSAAAAAANDCFIAAAAAA0MIUgAAAAADQwhSAAAAAANDCFIAAAAAA0MIUgAAAAADQwhSAAAAAANDCFIAAAAAA0MIUgAAAAADQwhSAAAAAANDCFIAAAAAA0MIUgAAAAADQwhSAAAAAANDCFIAAAAAA0MIUgAAAAADQwhSAAAAAANDCFIAAAAAA0MIUgAAAAADQwhSAAAAAANDCFIAAAAAA0MIUgAAAAADQwhSAAAAAANDCFIAAAAAA0MIUgAAAAADQwhSAAAAAANDCFIAAAAAA0MIUgAAAAADQwhSAAAAAANDCFIAAAAAA0MIUgAAAAADQwhSAAAAAANDCFIAAAAAA0MIUgAAAAADQwhSAAAAAANDCFIAAAAAA0MIUgAAAAADQwhSAAAAAANDCFIAAAAAA0MIUgAAAAADQwhSAAAAAANDCFIAAAAAA0MI6iz7Aw\\u002fqlP3k6\\u002fuSfOl30MRpie7sWGxvbd\\u002f+1vh3r63f\\u002f7\\u002fn5tbh8eTEuXVyI8+fmYm1tq+ijlsrx43vjn\\u002fsLP5uWV6\\u002fX45\\u002f9p\\u002f9ObGxsp2UCAAAAPKimLQC\\u002f+LOH43Ofny36GIWp1eoxP7cW164txZtv3IyXXroa3\\u002fvDS3H16lLRRyvMZz+3P\\u002fV74tKlBeUfAAAAUHpNWwCePDlR9BEKVa1WYnxPf4zv6Y\\u002fHn5iK\\u002f9k\\u002f8GRERFy9shivvnI9fvu334vf\\u002fPV326qgOvX4ZGreW2\\u002feTM0DAAAAeBhNWQCOjPTG\\u002ftmRoo9RStMzwzE9Mxy\\u002f+LXjsfgXN+L3fuds\\u002fE9\\u002f7634\\u002fW+fj1qtXvTxGurkydwC8PXXbqTmAQAAADyMpiwAn\\u002f3s\\u002fqhWK0Ufo\\u002fSGh3vi6790Kr7+S6fi2rWl+Nu\\u002f8kr8rf\\u002f6xVhe3iz6aLuuv78rDh8ZS8189ZVrqXkAAAAAD6MptwA\\u002f8cRU0UdoOvv2DcU\\u002f+U\\u002f9VPzq3\\u002f2z8ef\\u002fic9HT09Tdr8f6+lnpqOzM+\\u002fbeXNzJ156UQEIAAAAlF9TFoAnT7X3\\u002fL9HMTLSG\\u002f\\u002f7f\\u002fKn4m\\u002f9t\\u002f9ofOUXjxV9nF3z5JP7UvPOnb3TVvMVAQAAgObVlAXgiTZfALIbpqeH4t\\u002f4a38i\\u002fo2\\u002f9idiZKS36OM8spOnc78n3nzDAhAAAACgOTRdAXjgwGjs2dNf9DFaxld+8Vj853\\u002fjH4kzz84UfZRHkr0V+jULQAAAAIAm0XQF4DPPThd9hJYzPTMc\\u002f86\\u002f\\u002f6fjuedPFH2Uh7J370Dsmx5OzXz5paupeQAAAAAPq+kKwMcftwCkEXp7O+Nf+avPxT\\u002f4v3iq6KM8sDOfmYlK4lLopaUNT4ABAACAptF0BeCp5Flv7aRarcRf+Es\\u002fH3\\u002f6f\\u002f5k0Ud5IE88mVsKv\\u002fP2rdQ8AAAAgEfRVAVgtVqJo8f2Fn2MllatVuKf\\u002f0s\\u002fFz\\u002f104eKPsp9O3lyMjXP7T8AAACgmTRVAfj4E1PR399V9DFaXldXR\\u002fwrf\\u002fVrMTs7UvRR7svxE3tS81595XpqHgAAAMCjaKoC8Kmn9xV9hLYxOtoXf+X\\u002f+tWoVhOH6z2Eo8f2xOhoX2rmCz+4kpoHAAAA8CiaqgA8fTr3qWe7e\\u002fYzM\\u002fFn\\u002flfPFn2MT\\u002fT0M7lboW9cX45r15ZSMwEAAAAeRVMVgCdOWgCS7c\\u002f945+PiYmBoo\\u002fxsR5\\u002fPHn+35vm\\u002fwEAAADNpWkKwIGB7jh8ZKzoY7Sd4eGe+HN\\u002f\\u002fvNFH+NjnTyVWwC+8fqN1DwAAACAR9U0BeDTz0xHR0fTHLel\\u002fMk\\u002fdTomJgeLPsaHdHV1xNFjFoAAAAAAfJKmadSefMoCkKL09XXFP\\u002fAPPlX0MT7kyaemoru7Iy2vVqvHiy9YAAIAAAA0l6YpAE+dNv+vSH\\u002fil04WfYQPyS6Fz5+bi+XlzdRMAAAAgEfVNAWgBSDFmp4Zjs99frboY\\u002fyYxx+fSs2zAAQAAABoRp1FH+B+TEwOxr59Q6mZf\\u002fD7F2JjY7uhGdVqJQYGuqO\\u002fvyv6+7tjbLwvhoZ6Gpr5KH7+y0fjj\\u002f7wUtHH+JHsUtgCEAAAAKAZNUUB+OyzM6l5m5s78c\\u002f9M38ntrZ2UnMjIo4cGY\\u002fHn5iKU6cn4os\\u002feyRmZ0fSz\\u002fBxPvOZ\\u002fUUf4UeGR3pj9kDu1+bll66l5gEAAADshqYoAB9\\u002fIvep57vv3C6k\\u002fIuIOHv2Tpw9eyf+h7\\u002f7evzbf+1b8RM\\u002feTD+vr\\u002f\\u002f8fjq145HtVop5Ez3PHZ0PAYHu0sxB+\\u002fMmZnUr8f6+rYNwAAAAEBTaooZgNkLQN58ozxPPb\\u002fzBxfiX\\u002fzLfy\\u002f+d\\u002f\\u002f4fxNvFTyDrqOjGk89PV3oGe554sncUvidt2\\u002fFzk4tNRMAAABgNzRFAXj8+N7UvFdfLU8BeM8LP7gS\\u002f+if+a\\u002fi\\u002f\\u002fdfvlDoOY4e3VNo\\u002fj2nTk+m5lkAAgAAADSr0heAx4\\u002fvjeGR3tTMl168mpp3v2q1evz1f+tb8Z\\u002f8x39U2BlmD5ZjJuHxE7ml8Guvev4LAAAANKfSF4BPP5P75HR+fi3ee\\u002fd2auaD+vf+nW\\u002fH73zrbCHZe8b7C8l9v\\u002f2zIzExMZCa+dIL5SyFAQAAAD5N6QvA00\\u002fkPvV8+61bqXkP69\\u002f8138rVlfyl3GMjvWlZ37QmTO5W6Hn5tbi3Lm51EwAAACA3VL6AvDEydwFIG+83hyz3q5dW4q\\u002f83deT8\\u002ft6+tKz\\u002fyg7FK46OUrAAAAAI+i1AVgd3dH+tKJZpr19t\\u002f9t6+mZ3Z3d6RnftCpU7kFYLOUwgAAAAAfpdQF4FNPT6cWTvX63W27zeLtt27FhfPzqZnVaiU176Pyjx1XCgMAAADcr1IXgE8+NZWad\\u002fXKYty6tZKa+ajeeONGat7m1k5q3gedPDURAwPdaXl3S+HLaXkAAAAAu63UBWD2U88332i+p54XLyyk5m1tFlsAPv107lboy5cX4s6dtdRMAAAAgN1U6gLw5KnkBSDJt+l2w62by6l5i4sbqXkfZAEIAAAAwIMpbQE4MtIb+2dHUjNfeflaat5uWF3dSs2bnyv2NtzJkxaAAAAAADyI0haAz35mf+rCia2tnXj5peYrAKsduUs5ipyR2NfXFYePjKVmvvLy1dQ8AAAAgN1W2gLwiSdzF4CcOzsXa2u5t+l2w+BgT2re5Uu5Mwff75kz09HZmfctu7m5Ey+92HylMAAAAMD7lbYAzJ7\\u002f14wLQCIiBgfzNuJGRJw\\u002fP5+a935PPrkvNe\\u002fc2TuxsbGdmgkAAACw20pbAJ44mVsAvvba9dS83TIzM5yWVavV480CF6WcPJ37PfHWm7dS8wAAAAAaoZQF4IEDo7FnT39q5ksvNuest0OH82biXbmyWOgW4JPJpfCrrzZnKQwAAADwfqUsAJ95djo1b3l5s2mfAB88NJqW9e47t9OyPmjv3oHYN5132zEi4uWXmrMUBgAAAHi\\u002fUhaAjz+euwDk7beas\\u002fw7fnxvjI72peUVeUvyzGdmopK48LiZS2EAAACA9ytlAWgByP353BdmU\\u002fP+8LsXU\\u002fPe74knlMIAAAAAD6N0BWC1Woljx\\u002fakZr76SnPOevv8Fw6kZd25sxavv1bgApBTk6l5zVoKAwAAAHxQ6QrAx5+Yiv6B7tTMF35wJTVvN\\u002fT3d8XnPp93A\\u002fD3v30uLeujHD+RXApbAAIAAAC0iNIVgE8+tS8178b15bh2bSk1czd87bkT0dfXlZb3W7\\u002f5XlrWBz12dE\\u002fqrMOIiBebsBQGAAAA+CilKwAffzz5qeebzfnU80\\u002f96cfTsu7cXo3f+51zaXkf9MyZ3K3QN64vx9WrzVcKAwAAAHyU0hWAJ07mLgB54\\u002fXi5to9rM99fjaeejqvFPt7\\u002f+ObsbW1k5b3QUphAAAAgIdXqgKwv78rDh8ZS8185eVrqXm74c\\u002f\\u002fE19Iy6rV6vErf+vltLyPYgEIAAAAwMMrVQH4zJmZ6OjIO1KtVo+XXryalrcbnnv+ROryj9\\u002f8jXfj4oX5tLwP6urqiMeOjqdmNmMpDAAAAPBxSlUAZi8AOXf2Tiwvb6ZmPorx8b74Z\\u002f7ZL6bl1Wr1+I\\u002f+w++m5X2UJ5+aip6ezrS8Wq0eL75gAQgAAADQOkpVAJ46nTv\\u002f7603b6XmPap\\u002f+V\\u002f9WkxMDqblffMbb8fbbxX7Ncouhc+fn2uqUhgAAADg05SqADx+IrcAfO2166l5j+Iv\\u002fuWfj5\\u002f66UNpeUtLG\\u002fHv\\u002fvLvpeV9nNOnzf8DAAAAeBSlKQAnJgdjenooNfOVl5pj1ts\\u002f93\\u002f62fgH\\u002f6GnUzP\\u002f4\\u002f\\u002fwD+PataXUzI+SvQCkGbdCAwAAAHySvOFqn+LZZ2dS81ZXt+K118pd9gwMdMe\\u002f9C\\u002f\\u002fYnzlF4+l5r7wgyvxN\\u002f7LH6RmfpThkd6YPTCSmvlyk5TCAAAAAPerNAXg409Mpea9+86t2NmppWY+iJ\\u002f4yYPxl\\u002f6FX4jZ2dwCbH5+Lf7lv\\u002fLNqNXqqbkf5cyZmahWK2l56+vb8eorzfMsHAAAAOB+lKYAPHkqd\\u002f7fG6+Xc9bbU0\\u002ftiz\\u002f35z8fX\\u002fzZI1HJ674i4u4G3H\\u002f9X\\u002fvNuHxpITf4Y2SXwu+8Xe5SGAAAAOBhlKYAPHFib2pemRaATEwOxld+8Vj84lePxzNnpgs7x7\\u002f373w7fuPX3yks\\u002f4NOP568AOTNcpbCAAAAAI+iFAXg8eN7Y3ikNzXzxReupubdMzExEIePjMeRx8bjxMm98cQT++Kxo+OpT10\\u002fyq\\u002f8zZfiP\\u002ftPvlfoGT7oeHIp\\u002fPqr5Z4JCQAAAPAwSlEAPvXMvtS8ej3ir\\u002f3bv5SS1dlZja6ujujt7Yzhkd7o7CzN4uUf+e9\\u002f9bX4v\\u002f3rv1X0MX7M\\u002ftmRmJgYSM188YUrqXkAAAAAGUpRAGbPeqtUIo4e25OaWVa\\u002f+rdfib\\u002f6r\\u002f5G0cf4kDNncrdCz82txblzc6mZAAAAABlKUQCeOJm7AIS7Cz\\u002f+4\\u002f\\u002fPH8b\\u002f6z\\u002f4g6KP8pFOP5E7\\u002f+\\u002ftt26l5gEAAABkKbwA7O7uiKNH3cbLtL6+Hf\\u002fGX\\u002f3N+B\\u002f+7utFH+VjnTqVWwC+\\u002fpr5fwAAAEBrKrwAfOrp6eju7ij6GG3jvXdvx\\u002f\\u002flX\\u002fpmvPF6eQuvarUSx47nlsKvvVqerdAAAAAAu6nwAvDJp3Ln\\u002f7WrWq0ev\\u002fq3X43\\u002fx1\\u002f\\u002fnVhb2yr6OJ\\u002fo5KmJGBjoTsur1yNesAAEAAAAaFGFF4DZTz3b0Vtv3ox\\u002f69\\u002f87fjB95uj5Hr66enUvCuXF+LO7dXUTAAAAIAshReAFoA0ztUri\\u002fGf\\u002f2ffj\\u002f\\u002fmb70ctVq96OPct1OP55bCb755MzUPAAAAIFOhBeDISG\\u002fMHhgp8ggt6fy5ufhvfuXl+JW\\u002f+XJsbe0UfZwHln0r9I3XFYAAAABA6yq0AHz2M\\u002fujWq0UeYSWsb6+Hd\\u002f9zoX41b\\u002f9avzOt84WfZyH1tfXFYePjKVmvvLytdQ8AAAAgEyFFoCPP2H+36O4c2ctXnrxSvzOt87Gb\\u002fzaO7G8vFn0kR7Z089MR2dnNS1vc3MnXnrxaloeAAAAQLZCC8BTpxWA92ttbSvOvncn3nvvTrz79u343h9ditdfv1H0sXbdU0\\u002ftS807d\\u002fZObGxsp2YCAAAAZCq0ALQA5P79p\\u002f\\u002ffP4r\\u002f6D\\u002f8w6KP0XAnT+d+T7z15q3UPAAAAIBseW8tP2B2diT27OkvKr7pfP97V4o+QoqTyaXwa69dT80DAAAAyFZYAXjm2ZmiopvSX\\u002fhLPxc\\u002f\\u002fTOHij5GQ+3dOxD7podTM83\\u002fAwAAAFpdYQXg409MFRXdlI4f3xu\\u002f\\u002fO\\u002f+\\u002ffHXf\\u002fnvi9nZkaKP0xBnPjMTlcSl0MvLm\\u002fHmGzfzAgEAAAAKUFgBePKU+X8P40s\\u002feyT+o\\u002f\\u002f0H2rJ24BPJJfCb79l\\u002fh8AAADQ+gopAKvVShw7tqeI6JYwPt4Xf\\u002f2X\\u002f7743\\u002fzZzxZ9lF2VXQq\\u002f+UbrbVEGAAAA+KBCCsDHn5iK\\u002foHuIqJbRkdHNf6pf\\u002fpn4h\\u002f5M2eKPsquOX5ib2req69aAAIAAAC0vkIKwCef2ldEbMupVCL+2f\\u002fjl+Lrv3Sq6KM8sseO7onR0b7UzBd\\u002f0B6blQEAAID2VkgBePrxySJiW1K1Won\\u002f87\\u002f45Tjy2HjRR3kkTz8znZp34\\u002fpyXL26lJoJAAAAUIRCCsCTJy0A2U29vZ3xl\\u002f+FXyj6GI\\u002fkiSdyS+E337T9FwAAAGgPndmB\\u002ff1dcfjIWGrmr33z7Vhb3Xrov7+jsxrd3R3R090Zg0PdsWfPQOzZ2x8DJZpj+Oxn9sc\\u002f9I88E3\\u002fzv3qx6KM8lJOnkgvANxSAAAAAQHtILwCfOTMTHR15Fw83N3fir\\u002fwL34itrZ1d\\u002f9gHD43G089Mx5lnZ+KLXzoSe\\u002fb073rGg\\u002fjH\\u002fuxn41f\\u002f9iuxubn7n2sjdXV1xGNHc58wv\\u002frKtdQ8AAAAgKKkF4BPPDmVmvfuO7cbUv5FRFw4Px8Xzs\\u002fH3\\u002f3vX49qtRJf\\u002fsqx+N\\u002f+459P32Z7z+TUYPypP\\u002f1E\\u002fMrffKmQ\\u002fIf1xJNT0dOT961Yq9XjpRevpuUBAAAAFCl9BmD2ApA337iRklOr1ePXvvl2\\u002fJl\\u002f+G\\u002fEL\\u002f\\u002fff7ewW3h\\u002f6u9\\u002fvJDcR\\u002fHU07lboc+fn4vFxY3UTAAAAICipBeAx0\\u002fkLgB57bWcAvD9\\u002fov\\u002f7PvxT\\u002f8f\\u002frtYWdlMzz79+GRhNxAf1unTuaXwW2\\u002feSs0DAAAAKFJqATgxORjT00OZkYU99fzeH12Kv\\u002fzP\\u002f4+F3AT82vMn0jMfxYnkrdCvv3Y9NQ8AAACgSKkF4LPPzmTGxcLCerz7zu3UzPf7\\u002fW+fj7\\u002fxX\\u002fwgPfcnfvJgeubDGh7pjQMHR1MzX37JAhAAAACgfaQWgI8\\u002fkbsApAxPPf\\u002ff\\u002f8\\u002fvxMWL86mZJ09OxMTEQGrmwzpzZiaq1Upa3vr6drz6ihuAAAAAQPtILQBPnsp96vnmm\\u002fnz\\u002fz5oa2sn\\u002ftZ\\u002fnbuVt1qtxOe\\u002fcCA182Fll8LvvnM7dnZqqZkAAAAARUotALOXU7z2avEFYETE3\\u002f6VV2JpKXfr7NNnplPzHtap07ml8BtJW6EBAAAAyiKtADx+fG+MjPRmxUW9HvHC9y+n5X2SjY3t+M7vX0jNPHUqd7Puw0pfAFKSUhgAAAAgS1oB+NQz+7KiIiLi2tXFuHlzJTXzk\\u002fz2b7+XmnfksfHU2XoPY3pmOH1WYVFboQEAAACKklYAnn48eQHIW8UvAHm\\u002f7\\u002f7BhajV6ml5\\u002ff1dcfTYnrS8h5G9FXpubi3Onr2TmgkAAABQtLQCMHsByBuvl+up5507a3Hp4kJqZtkLwMefzC2F3y5ZKQwAAACQIaUA7OrqiKNHc8uoV16+lpp3P95682Zq3qHDY6l5Dyp7TmHZSmEAAACADCkF4JNP7Yvu7o6MqIiI2N6ulXLW2\\u002fnz86l5s\\u002ftHUvMeRLVaiWPHc0vhV1+5npoHAAAAUAYpBeDTyQtAzp2di9XVrdTM+3Hh\\u002fFxq3tS+odS8B3Hy1EQMDHSn5dXrES+8cCUtDwAAAKAsUgrA7Keeb72V+9T2fp1PLgD37RtMzXsQTz89nZp35fJC3Lm9mpoJAAAAUAYpBeCJk7kLQF5\\u002ftZxPPbOXgOzZO5Ca9yBOPZ5cCr9pAQgAAADQnhpeAI6M9MbsgdxZdC+XcAFIRMTCwnrq0+Tu7o6YnhlOy3sQ2VuhX7cABAAAAGhTDS8An\\u002f3M\\u002fqhWK42O+ZHVlc14\\u002fbXylj137uQ+Q52dLd8ikL6+rjhyZDw1s4xboQEAAAAyNLwAfPyJ3Kee77xzO2q1emrmg7h9K7cAnCnhDcCnn5mOzs6U1+cREbG1tVPKrdAAAAAAGRrewpw6nVsAvlHyp563b6+k5k2VcBHIk09Npeadfe9ObGxsp2YCAAAAlEXDC8D0BSAlfv4bEXHzZnIBODWUmnc\\u002fskthC0AAAACAdtbQAnB2diT27OlvZMSHvPhCuZ963kouACenyncD8GRyKfzaa+XcCg0AAACQoaEF4JlnZxr54T\\u002fk9u3VuHhxPjXzQd24vpyaNzExkJr3afbuHYh907lzCV9+yQIQAAAAoH01tAA8\\u002fXj2U8+bqXkP43p2AThZrhuAZ56diUreUuhYXt4s\\u002fVxIAAAAgEZqaAFoAciHXbm8kJo3PNwTg4PdqZmf5IkncxeAvP2W+X8AAABAe2tYAVitVuLYsT2N+vAf6bVXy18AXr26FFtbO6mZBw6OpuZ9kpOncuf\\u002fvdkEt0IBAAAAGqlhBeDpxyejfyDv5lmtVo8ffP9yWt6juHN7NTVv\\u002f+xIat4nOX5ib2req6+Y\\u002fwcAAAC0t4YVgE89Pd2oD\\u002f2RLl9aiIWF9dTMh3U7uQDct28oNe\\u002fjPHZ0T4yO9qVmvviDK6l5AAAAAGXT0BuAmd58o3meet68uZKaN1WSAvDpZ3JL4Zs3luPq1aXUTAAAAICyaVgBeOJE7qy3N94o\\u002f\\u002fy\\u002fe7ILwH1T5dgE\\u002fHhyKfxGE5XCAAAAAI3SkAKwv78rDh8Za8SH\\u002flivvHw9Ne9R3LyxnJpXlhuA2Vuhm+lWKAAAAECjNKQAfObMTHR2Nuxy4Ydsbu7Eyy9dTct7VNev5RaAE5MDqXkfpaurIx47Op6aaQEIAAAAQIMKwCeenGrEh\\u002f1Y7757OzY3d1IzH8X167lz6cbH+6OnpzM184OeeHIq9Qy1Wj1eerF5SmEAAACARmlIAZj91POtN5vrqeeliwupedVqJQ4dzn2S\\u002fUFPPrUvNe\\u002f8+blYXNxIzQQAAAAoo4YUgCdO5i4Aef3V5lkAEhFx7dpS+o3F2dmR1LwPyl4A8tabt1LzAAAAAMpq1wvAiYmBmJ7OXTrxUhPN\\u002f7vn9q3cTcAz+4dT8z4ouxR+47XmKoUBAAAAGmXXC8Azn9m\\u002f2x\\u002fyEy0ubsTbbzXfba+bN3MLwH3Jpez7DQ\\u002f3xIGDo6mZzVgKAwAAADTCrheATzyRuwDk7beaa\\u002f7fPekF4L7iCsAzz+6ParWSlre+vh2vvnI9LQ8AAACgzHa9ADx5Kvep55tvNGkBeGM5NW9qajA17\\u002f0eTy6F333nduzs1FIzAQAAAMpq1wvA4yf27vaH\\u002fESvvdqcN72uX8stACenirsBeOq0UhgAAACgKLtaAB49tidGRnp380N+qhdeaM5Zb9euLaXmjY31RX9\\u002fV2rmPdkLQJq1FAYAAABohF0tAJ85M72bH+5TXbu2FNeTi7TdcvnyQmpepRJx6NBYamZExPTMcExMDKRmvvRic5bCAAAAAI2wqwXg6ceTF4C82Xzbf++5eGE+PXP\\u002fgZH0zGefnUnNm59fi7Nn76RmAgAAAJTZrhaAJ5Ofer7xxo3UvN20vLwZi4sbqZkzM8OpeRERjz+ZWwq\\u002f1cSlMAAAAEAj7FoB2NXVEUeP7dmtD3dfXn7pWmrebsveBDw9nb8I5NSpydS8N15v3lIYAAAAoBF2rQB88ql90d3dsVsf7lPt7NSaftbbjeQCcGpfbgFYrVbi2PHcUtgCEAAAAIAft2sF4FNP79utD3Vfzp+bi5WVzdTM3Xbr5kpq3r7kAvDkyYkYGOhOy6vXI37wgytpeQAAAADNYNcKwNOnc596tsKst2vJG4wnJnO38T79TO5W6CuXF+LO7dXUTAAAAICy27UC8ETyApDXXmv+p57Xr+U+AR4d7YvBwbwbeaceVwoDAAAAFG1XCsDhkd6YPTCyGx\\u002fqvr3S5AtAIiKuXFlMzzx8ZDwt6+QpW6EBAAAAirYrBeCzz85EtVrZjQ91X9bWtuK115q\\u002f7Ll0aSE9c\\u002f\\u002f+4ZScvr6uOHx4LCXrnmbfCg0AAADQCLtSAD7x5NRufJj79s47t2Nnp5aa2QhXryzG5uZOaub0TE4B+PQz09HVlbcVemtrp+m3QgMAAAA0wq4UgKeSF4C8+Xrz3\\u002f67J3sT8PR0TgH45FO5pfC5s3OxsbGdmgkAAADQDHalADx+Yu9ufJj71grPf++5cSN3EcjUvsGUnFOnkkvhN26m5gEAAAA0i0cuAGdnR2Lv3oHdOMt9e\\u002fGFK6l5jZReAE4NpeRkLwBpha3QAAAAAI3wyAXgmWdnduMc9+3OnbW4cH4+NbORrl\\u002fLLQAnpxp\\u002fA3Dv3oHYl\\u002fTU+B4LQAAAAAA+2iMXgKcfz33q+fZbrfXU89q1pdS84eGeGBnpbWjGmWdnopK3FDpWVjbjjRaaCwkAAACwmyqfO\\u002fPL9aIPAQAAAAA0xq4sAQEAAAAAykkBCAAAAAAtTAEIAAAAAC1MAQgAAAAALUwBCAAAAAAtTAEIAAAAAC1MAQgAAAAALUwBCAAAAAAtTAEIAAAAAC1MAQgAAAAALUwBCAAAAAAtTAEIAAAAAC1MAQgAAAAALUwBCAAAAAAtTAEIAAAAAC1MAQgAAAAALUwBCAAAAAAtTAEIAAAAAC1MAQgAAAAALUwBCAAAAAAtTAEIAAAAAC1MAQgAAAAALUwBCAAAAAAtTAEIAAAAAC1MAQgAAAAALUwBCAAAAAAtTAEIAAAAAC1MAQgAAAAALUwBCAAAAAAtTAEIAAAAAC1MAQgAAAAALUwBCAAAAAAtTAEIAAAAAC1MAQgAAAAALUwBCAAAAAAtTAEIAAAAAC1MAQgAAAAALUwBCAAAAAAtTAEIAAAAAC1MAQgAAAAALUwBCAAAAAAtrLOzUwcIAAAAAK2q80tfOV70GQAAAACABnH9DwAAAABamAIQAAAAAFqYAhAAAAAAWpgCEAAAAABamAIQAAAAAFqYAhAAAAAAWpgCEAAAAABamAIQAAAAAFqYAhAAAAAAWpgCEAAAAABamAIQAAAAAFqYAhAAAAAAWpgCEAAAAABamAIQAAAAAFqYAhAAAAAAWpgCEAAAAABamAIQAAAAAFqYAhAAAAAAWpgCEAAAAABamAIQAAAAAFqYAhAAAAAAWpgCEAAAAABamAIQAAAAAFqYAhAAAAAAWpgCEAAAAABamAIQAAAAAFqYAhAAAAAAWpgCEAAAAABamAIQAAAAAFqYAhAAAAAAWpgCEAAAAABamAIQAAAAAFqYAhAAAAAAWpgCEAAAAABamAIQAAAAAFqYAhAAAAAAWpgCEAAAAABamAIQAAAAAFqYAhAAAAAAWpgCEAAAAABamAIQAAAAAFqYAhAAAAAAWpgCEAAAAABamAIQAAAAAFqYAhAAAAAAWpgCEAAAAABamAIQAAAAAFqYAhAAAAAAWpgCEAAAAABamAIQAAAAAFqYAhAAAAAAWpgCEAAAAABamAIQAAAAAFpYZ9EHeBh\\u002f7h\\u002f7THR3d6TlffPX3on3zs6l5ZXNn\\u002fylk7F\\u002fZjgt7zvfvRQvvHg1La8ZDA52x\\u002f\\u002fyH346qtVK0Uf5kZdeuR6\\u002f\\u002f\\u002fsXij4GAAAA8CmargCcmhyM06cnUjP\\u002f5q+sp+aVzZkz0zE81JOW99vfOpuW1Sy++pWjcfz4nqKP8WOWVzYVgAAAANAEmu4J8KFDo6l5C4vrMTe3lppZJnv29KeWf7VaPc6dn0\\u002fLawaTkwPx+c\\u002fPFn2MDxkf6yv6CAAAAMB9aLoCcHY27ylqRMSVK0upeWVz+PBoat7NWyuxvr6dmll2X3\\u002fuRHR2lu+X6shob9FHAAAAAO5D+VqFT7F\\u002ff24BePnyYmpe2RzYP5Kad+VyexeuH3T06Hg8\\u002fvhk0cf4SEOD3amzOAEAAICH01QFYLVaiX1Tg6mZFy8upOaVTXbheulye3+9P+jrzx2PSnn2fvyYSqUSU8m\\u002fHgEAAIAH11QF4MEDI9HVlXfjqN3n0VUqldi3L7fguXBBAXjPZz4zEwcPjhZ9jE+0d09\\u002f0UcAAAAAPkVzFYDJZcitW6uxtraVmlkmB2aHo6cnb1H05uZOXLykAIyI6Oysxle\\u002fcrToY3yqPQpAAAAAKL2mKgCzF4BcvtLe8\\u002f+yC9dr15aiVqunZpbVl750uCnKNZuAAQAAoPyaqgCcmbEAJFN+4WoBSETEwEB3\\u002fNyXDhd9jPsyahMwAAAAlF7TFIB9fV3p88bOX5hPzSub7ML1kue\\u002fERHx1a8cjf7+rqKPcV\\u002fG3AAEAACA0muaAvDw4dGoVvPWoW5t7bT1BuDens6YnBhIzTx3bj41r4wmJwbiC1+YLfoY921kpDcqZV1TDAAAAEREExWAB2ZHUvOuXltu63l0hw7lFq7Ly5tx89ZKWl5ZPf\\u002fc8ejsbJpfltHZWY09e9wCBAAAgDJrmqZh\\u002f37z\\u002fzIdPJhcuF41\\u002f++xI2PxxBOTRR\\u002fjgU0k3xQFAAAAHkzzFIDm0aXavz+3AGz3jcsREV9\\u002f\\u002fkRTPqfNns0JAAAAPJimKADHxvpieLgnNbPd59HNTA+l5l1o43mLERHPPjsdhw6NFn2Mh2IRCAAAAJRbUxSARw6Ppea1+zy60ZHeGB3tTcur1yPOnZtLyyubjo5qfO0XjxV9jIc2rgAEAACAUmuKAnB2Nvf575U2n0d3OLlwvXNnNZaXN1Mzy+RLXzwUe5r4Ga0bgAAAAFBuzVEAWgCS6sCB3Pl\\u002f7Vy49vd3xc\\u002f97OGij\\u002fFIRkbybosCAAAAD64pCsB9+3Ln0V1s83l0+2dyv96X2rhw\\u002feovHouBge6ij\\u002fFI+vu7mv5zAAAAgFZW+gJw\\u002f\\u002f7h6O3tTMur1+txto3n0UVETE\\u002fn3ri8eGE+Na8sJvYOxE98YbboY+yKqcmBoo8AAAAAfIzSF4DZm1Fv316LlZX2nUc3MzMUfX15hev2di3OX2jPG5fPP3c8OjtL\\u002f0vwvjTzDEMAAABodaVvH7Ln\\u002f1252r7PUSMiDh3KXQBy\\u002fcZybG3tpGaWwZEjY\\u002fHkk5NFH2PXjI8rAAEAAKCsSl8A7p+xACTTgeTC9eqV9lwA8vXnT0SlUin6GLtmfNwmYAAAACirUheA3d0dMZk8W+xCmz5HvWc6eQHIxTYsXM88Mx2Hk5+2N9rYmAIQAAAAyqrUBeChg6PR0ZF3xLvz6ObT8sqmq6sjpiYHUzMvnJ9PzStaR0c1vvrVo0UfY9eNjvYWfQQAAADgY5S6ADx4cCQ179r15djerqVmlsmhgyOpSynW1rbj8pX2ugH4xZ85FBN7W29j7vBQT8ssNAEAAIBWU+qf2LPn\\u002f11pszLqgw4eHE3Nu3qtveb\\u002f9fd3xc\\u002f\\u002f3OGij9EQ1WolJiZar9gEAACAVlDqAnAmuQC8dKm9C8D92RuX26xw\\u002fcWvHI2Bge6ij9EwrXizEQAAAFpBaQvAwcHu9MUC7Tz\\u002fLyL\\u002fxuXFS+2zcGXPnv74iS\\u002fMFn2MhtqzxyIQAAAAKKPOog\\u002fwcY4cGYtKJS9vdXUrrl5tryep71dE4Xru3HxqXpGef+54dHV1pOX96n\\u002f3erzyyvWIiPiL\\u002f\\u002fyXUrJtAgYAAIByKm0BePBA7gKQdi7\\u002fIvIL14WF9ZibW8sLLNDhQ6Px9FNTaXnXri3Ft3\\u002f\\u002fwo\\u002f+8+LiRuzZ09\\u002fw3HEFIAAAAJRSaZ8AZz9HbbdttB90YDa3cL1ypX0K1z\\u002fx9RNRSWxXv\\u002fnr7\\u002f7Yf15a2kjJHVUAAgAAQCmVtgCcnh5Kzbt4sX3m0X2U2eQFIO1SuD7z9L44fHgsLe\\u002fc+fl4+eXrP\\u002fbfLSwmFYAjvSk5AAAAwIMpZQE4OTmQui21Xo84e24uLa+MsgvXCxdav3CtVivxta8dS8ur1yO+8c13PvTfLyysp+R3d3eYAwgAAAAlVMoC8PChvBtTERHz82uxmHRLqoymJgdTC9darR7nzrd+4frFnzkUE3sH0vLefOtWvPPO7Q\\u002f991kFYETExETe5wsAAADcn1IWgLOzuc9Rr7T5ApBDh0ZT827dWo319e3UzGx9fV3x8z93JC2vVqvHN7759kf+b\\u002fOJBWDGshEAAADgwZSyAExfAHK5PebRfZzswrUd5v\\u002f94leOxuBg3q3Kl16+FpcuffTXNXPb8p5xT4ABAACgbEpXAFarldi3bzA188KF+dS8stmfvQCkxQvXPXv64yd\\u002fYjYtb3u7Ft\\u002f85rsf+7\\u002ffurWadhYzAAEAAKB8SlcAHjwwEl1dHWl5Ozv1OHd+Pi2vbDo6qrFvKrdwPd\\u002fihevzzx1P\\u002fR7+o+9djpu3Vj72f19f3461tZwn12OjCkAAAAAom\\u002fIVgAdHU\\u002fNu3lyOzc2d1MwyOZBcuG5t7cTFi627AfjQwdF46smptLyNje349V9\\u002f71P\\u002fuqWlnCU3o6O9KTkAAADA\\u002fStdAZg+j+5ymy8AOTiSmnf12nLUavXUzExf\\u002f\\u002fqJqFYraXm\\u002f\\u002fwcXY2Hx05d8LN7HX7MbBga6o7e3MyULAAAAuD+lKwBnkheAXLrcurfR7sfsbG4BeKWFF4A89dRUPHZkLC1vZWUzfvO3zt7XX7uwmHMDsFKJmJzMfVIOAAAAfLJSFYC9vZ2xd09\\u002faub5Np7\\u002fFxExMz2Umvdxm2qbXbVaiee+djw181u\\u002fez7W1rbu669dXMi5ARgRsXdv7q9hAAAA4JOVqgA8cngs9fnk+sZ2XL7Svk+A+\\u002fu7Yk9y4Xru\\u002fFxqXpaf+emDMTkxkJY3P78ev\\u002fu75+\\u002f\\u002fr0+6ARgRsWdcAQgAAABlUqoC8MCB3Oeo164uRb3euvPoPs3h5MJ1ZWUzbtz4+G21zaqvryt+4ecfS838zd96L7a27n95zfzcWgNP8+PGx2wCBgAAgDIpVQG4f3\\u002fyApA2vv0XEXEge\\u002f7f1db8en\\u002fly4\\u002fF4GB3Wt6NGyvxB9+59EB\\u002fz53EAnB0zCZgAAAAKJNSFYAzM7nz6C5ebO8FIOmF6+XWm\\u002f83Pt4XP\\u002fWTB1Izf+3X333gm6u3b6+m3XYdG3UDEAAAAMqkNAXg2FhfjAzn3hw6e64159Hdr\\u002fTC9VLrFa7PP3c8uro60vIuXlyIF168+sB\\u002f3\\u002fZ2LVZW7m9hyKMaGelJfVoOAAAAfLLSFIBHDo+l5i0ubsRc4rPIshkf74vhoZ60vHo94uzZ1ipcDx4cjaef2pea+T99852H\\u002fnsXkxaBdHRUbQIGAACAEilNATg7mz3\\u002fr\\u002fWeoz6I7MJ1bm4tlpc3UzMb7evPH0+96fb2O7fjrbduPfTfv7i0voun+WQTiRuRAQAAgE9WmgJw\\u002f4x5dJnSF4C0WOH65JNTcfSx8bS8er0e3\\u002fjGw9\\u002f+i8i7ARgRsWfcDUAAAAAoi9IUgNPTFoBkmkleAHKphQrXarUSz33tWGrmK6\\u002fciPMX5h\\u002fpYyws5BWA42MWgQAAAEBZdBZ9gIi722h7e\\u002fOOUqvV4+KlhejsLE3\\u002fmapSqcT0vsHUzAstVLj+9E8djKnJvK\\u002ffzk4tvvEIs\\u002f\\u002fumZ\\u002fPm3k5pgAEAACA0ihFAXjo4GhqXrVaib\\u002fyL\\u002f5CamY729mpxfnz80UfY1f09nbGL\\u002fz8kdTM7\\u002f\\u002fgaly\\u002fsfzIH2d+Pm8G4NhY7kZvAAAA4OOV4gpc9gIQct24sRJbWztFH2NXfOXLj8VQ4vbkzc2d+OavPfrtv4iIO4lbr0dH3QAEAACAsihFAZi9AIRcrbJxeWysL37qJw+mZn7nu5d27ebenTtrsbNT35WP9Wl6eztjOLEoBQAAAD5e4QVgV1dHTE4OFH0MGujSpdYoAJ\\u002f\\u002f2vHo7u5Iy1td3Ypf\\u002f413d+3j1ev1WFrOWwTi1zUAAACUQ+EF4KFDo9HRUfgxaKBH3V5bBgcOjMQzz+xLzfzd3zsfq6tbu\\u002foxlxbzCsA9e\\u002frTsgAAAICPV3jzdujgSNFHoIHWN7bj8uXmvwH49edPRLVaSctbWFyPb\\u002f3OuV3\\u002fuIuJBeD4uAIQAAAAyqDwAtD8v9Z29cpS0Ud4ZE8+MRXHjo6nZv72b5+Lzc3dX5yysJi3CXh83CIQAAAAKIPCC8AZBWBLa\\u002fYFIJVKJZ772rHUzJu3VuLbv3+hIR97YSGvABwd7U3LAgAAAD5eoQXg4GB3jI25JdTKmn0ByE\\u002f\\u002f1IGYmhpMzfz133gvarXGbOudTywAx0b92gYAAIAyKLQAPHJkLCp5Y9UowNlzc0Uf4aH19nTGL\\u002fz8Y6mZly8vxve\\u002ff6VhH39uLq8AHBrqjq6uvK3JAAAAwEcrtAA8MGsBSCtbWFyPubm1oo\\u002fx0L785cdieLgnNfMbv\\u002fZOQz\\u002f+nTurDf3471epVGJyciAtDwAAAPhohRaAs\\u002fvN\\u002f2tlV5p4AcjYWF\\u002f89E8dTM1897078frrNxuasbi4EVtbu79c5ONM7FUAAgAAQNEKLQCnp4eKjKfBLl9u3vl\\u002fz331WHR35z1frdcjvvHNxt7+u2dxcSMlJyJizx5zAAEAAKBohRWAk5MDMTDQXVQ8CS5eXCj6CA9ldnY4zpyZTs187fUbcfZszrzEpaW8AtCSHwAAACheYQXg4UNjRUWToFarx7nz80Uf46H8iedPRLWat52mVqun3f6LiFhIvAGoAAQAAIDiFVYAzs6a\\u002f9fKbt1ejbW1raKP8cCeeHwyjh3bk5r5gxeuxtWrefMSFxbyNgGPjvamZQEAAAAfrbACcP+MArCVXbnSfPP\\u002fKpVKPPe1Y6mZW1s78c0Gb\\u002f79oMwCcGzUDUAAAAAoWiEFYLVaiX37BouIJsmlS81XAP7UTx6IfftyF9N89w8vx507a6mZ84kFYGdnNfbs6U\\u002fLAwAAAD6skALw4IGR6OrK27BKvgsX5os+wgPp7emML\\u002f\\u002fCY6mZa2vb8eu\\u002f8W5qZkTE3Fxu4TixdyA1DwAAAPhxxRSAB0eLiCXJ1tZOXGyyG4C\\u002f8PNHYni4JzXz9759PpaXN1MzIyJu3VpNzduzxzNgAAAAKFIhBaAFIK3t2vXl2NmpFX2M+zY62hs\\u002f\\u002fdMHUzOXljbiW986l5p5z\\u002fr6dqytbafljY97AgwAAABFKqQAnJlWALayy5eb6\\u002fbfc189Hj09namZv\\u002f2tc7G+kVfCfdDS0kZa1viYG4AAAABQpPQCsLe3M\\u002fbudSOolTXTApD9+4fj2WenUzPv3FmL3\\u002fv2hdTMD1pczFsEMjram5YFAAAAfFjutaeIOHJ4LKrVSmpmrVZPzSub7K\\u002f3+fPzqXmP4k88fyL96\\u002fPrv\\u002fFu4U+kFxbzbgAqAAEAAKBY6QXggQMjqXnnzs\\u002fHv\\u002f8ffCc1s0xOn5qIP\\u002fdnP5OWt7KyGddvLKflPYrTpyfi+PE9qZlXry7FH\\u002f7R5dTMj7K4kHcDcGCgO\\u002fr7u2J1dSstEwAAAPhj6U+A9+\\u002fPnf93pcnm0e227ML16tWl1LyHValU4vmvHU\\u002fP\\u002feavv5ue+VHmE28ARkRMTgyk5gEAAAB\\u002fLL0AnJkZSs27eHkhNa9ssgvXy1eao3D9yZ+Yjenp3O\\u002fFc+fn45VXrqdmfpz5ubXUvL17FYAAAABQlNQCcGysL0aGc+eBnTs3n5pXNumF68XyF4Dd3R3x5S8\\u002flppZr0d84xtvp2Z+kjvJBeD4uE3AAAAAUJTUAvDI4bHMuFha2ojbt1dTM8sku3Ct1yPOnZtLy3tYv\\u002fDzj6UX0W+8eTPeefdOauYnuX17Ner1vOU442MKQAAAAChKagE4O5s8\\u002f69J5tE1yuHDo6l5c3NrsbiUO1vuQY2O9MbP\\u002fMzB1MxarR7f+OY7qZmfZnu7FisreUs5xhSAAAAAUJjUAnD\\u002fTPI8unZfADKbuwDkytXyf72\\u002f9rVj0duTu\\u002fz6pZevlfJ7cTFxEcjoaO6NSwAAAOCPpRaA2UsXLl5q7wUgM+mFa7lvXO6fGY7PPDuTmrm9XSvd7b97FpfW07JGRnqjoyN95xAAAAAQEWlXofbvH47e3rybV\\u002fV6Pc6eLf88ukaa3pdbuF64MJ+a96C+\\u002fvzxqFYrqZmrq1vx3NeOp2ber4nEzbzVaiUm9vbHtevLaZkAAADAXWmN3KGDo1lRERFx+\\u002fZarK7mzTgrm\\u002f0zw9HXl1e47uzU43yJC8BTJyfixIm96bnDwz3xzNP70nPLaGJiQAEIAAAABUh7k5e9AOTylfLNXMt08NBoat6NG8uxubmTmvkgnn+unLfw2sn4eH\\u002fRRwAAAIC2lFYAWgCS68D+5I3LV8o7\\u002f+8nf+JAzMzkPofmw8bHbQIGAACAIqQUgF1dHTE5mTdvLCLi4sX2XgAynVx4Xbxczq93d3dHfOXLjxV9DCJibEwBCAAAAEVIKQAPHRpN3QC6vV0r9Ty6RuvsrMbU5GBq5oXz86l59+vnf+5IjIz0Fn0MImJs1D8HAAAAKEJKK3fwwEhGzI9cv74c29u11MwyOXRoNDo78wrX9Y3tuFzCJ8Ajw73xxS8eKvoY\\u002fNCoAhAAAAAKkdISzSbPo2v7BSDJheu1a8tRr9dTM+\\u002fH1752LHp78jYh88l6ejpj1G1MAAAASJdSAM4kLwC5dKm9C8DZ\\u002fbkFYBkXrszMDMVnnp0p+hh8wETyLFAAAAAgoQAcHOxOH\\u002f7fzvP\\u002fIiJ94+3FS+VbAPL8cyeio6NS9DH4gD3j\\u002fUUfAQAAANpOwwvAI0fGopLYw6ytbcXVq+WbR5dlYKA7xsdzC9dz5+ZS8z7NyRN749TJvUUfg4+wZ49NwAAAAJCt4QXggdnc56jtXP5FRBw5PBaVxMZ1cXEj7txZS8u7H88\\u002ff7zoI\\u002fAxsm8DAwAAAAkF4P70BSDtXQAemM39el+5Wq75fz\\u002fxhdnYnzxzkvs3NqoABAAAgGwNLwBnppPn0V0s3zy6TOmFa4kWgHR3d8RXvny06GPwCUZHbQEGAACAbA0tACcnB2JgoLuRER9Stnl02aazC9cSbVz+uZ89omAqucHBnuju7ij6GAAAANBWGloAHj401sgP\\u002fyHzC+sxv7Cemlkme\\u002fb0x9BQT1perVYvTeE6PNwTX\\u002frioaKPwaeoVCKmpgaLPgYAAAC0lYYWgLPJ8+iutvn8vyOHcwvX27dXY3V1KzXz43ztq8eit7ez6GNwH\\u002fbu7S\\u002f6CAAAANBWGloAZi9juFSieXRFyC5cr5Rk4\\u002fL09FB89jP7iz4G92nPuAIQAAAAMjWsAKxWK7FvX+5Tv4sX51Pzyia9cC3J\\u002fL\\u002fnnzseHR2Voo\\u002fBfRofswkYAAAAMjWsADxwYCS6uvKG\\u002fddq9Th3fj4tr2wqlfzC9fyF+dS8j3Li+J44fWqi6GPwAEYVgAAAAJCqYQXgoYOjjfrQH+nmrZVYX99OzSyT2dnh6OnJm4G3tbUTFy8upOV9nOefP1H0EXhAYzY1AwAAQKqGFYDp8+jafAFIduF6\\u002ffpK7OzUUjM\\u002f6Aufn43Z\\u002fbnfZzy6kZHeqFQ82QYAAIAsDSsAZ6az59EVfxutSNlF2OUrxc7\\u002f6+rqiK98+bFCz8DD6eysxt49FoEAAABAloYUgL29nbF3b+4P+BcutHcBODMzlJpXdOH68z93OMbMkmtaE5MDRR8BAAAA2kZDhsYdOTwW1WreE7\\u002fNzZ242MY3ALu7O2JiIncBSJELV4aHeuKLP3M4Pffdd+\\u002fEf\\u002furr6XnZvhH\\u002f9dnYmoq73toz7jyFgAAALI0pAA8cGCkER\\u002f2Y127vhy1Wj01s0wOHxqNjo68wnV1dSuuX19Oy\\u002fugr371WPT15S08iYio1+vx977xdty4uZKam2Vufj21ABwf9wQYAAAAsjTkCfD+mewFIMXOoyvaweQFIEV+vfdNDcbnPjuTnvvqazfifIG3HhttcXE9Nc\\u002fzbQAAAMjTkAJwZn\\u002fuPLqLF9v3+W9EfuF6ucCNy19\\u002f\\u002fkR0dDRsd81H2tmpxze+8U5qZraFhY3UvLHR3tQ8AAAAaGe73qSMjfXFyHDuD\\u002fetfDPrfrTLApDjx\\u002ffEqVMT6bkvvHA1rhX45DnD\\u002fPxaat6oAhAAAADS7HoBePjw6G5\\u002fyE+0srLZsnPZ7sfwUE+MjuY9p6zXI86em0vLe7+vP3ciKnmjDiMiYmtrJ77xa619+y\\u002fi7gzATH19XTE42J2aCQAAAO1q1wvAA7O5C0CuXC3uOWoZHDkyllqKzc+vxeJi7nPRiIjPfW5\\u002fzM7mPnWOiPjuH16Oubnc23FFuHNnNT1zcmIgPRMAAADa0a4XgOnz6C639wKQ2ezCtYD5f11dHfHVrxxNz11b245f\\u002f41303OLMDe3HtvbtdTMvXsVgAAAAJBh1wvA6WkLQDLtT57\\u002fd7mADcA\\u002f97OHC9ka+3vfPh\\u002fLy5vpuUWo1+uxtJR7s3N83CZgAAAAyLCrBeD+meHo7e3czQ\\u002f5iYqcR1cW2YXrhQvzqXmDg93xpS8eSs2MiFhc2ohvfetcem6RsgvAIkpdAAAAaEe7WgAeOjS6mx\\u002fuU83NrbXNDa2PMjU5GAMDeYsUdnbqcS554\\u002fLXvnos+vq6UjMjIr71rXOxvrGdnlukheTZjgpAAAAAyLGrBWD2koYrBTxHLZPswvXmzeXY3NxJy5uaGozPfXZ\\u002fWt49d+6sxe99+0J6btEWFnI3AY+N9qbmAQAAQLva1QJwZjp5AUibF4AHDuQuALmcvADk688dj87OXR9T+al+4zffi52d3IUYZbCwkHsDcGiop5B\\u002fvgAAANBudu2n766ujpiayt3qef5Cey8AmcleAJK4cfnYsT1x+vRkWt49164txXf\\u002f8FJ6bhnMz6+l5lWrlZictAkYAAAAGm3XCsBDh0ajoyPvNs\\u002fOTi19IUWZVKuV2Dc1mJp57nzewpWvP3c8KpW0uB\\u002f55q+9mx9aEnNzuQVgRMTEXgUgAAAANNquNXYHk5+j3rixkjqPrmwOHhiJrq6OtLyNje24fDnnCfBnPzuT\\u002frw5IuLc+fl4+ZXr6bllcev2anrm+LhFIAAAANBou1YA7t9v\\u002fl+mgwdHU\\u002fOuXluOer3e8JzOzmp89SvHGp7zQfV6xDe++U56bpmsrm6lbz4eH+9PzQMAAIB2tHsF4ExuAXgpcR5dGWVvXM6a\\u002f\\u002fdzP3u4kFthb751K95553Z6btksLuYuAhkbcwMQAAAAGm1XCsDBwe70H+TPn59PzSub7I3Lly41fuHK4GB3fOmLhxue80G1Wj2+8c2303PLKLsAHB3tTc0DAACAdrQrBeCRw2OpCxvWN7bjypWceXRl1NvbGXv35j6dPJdQuH71K0ejv7+r4Tkf9PIr1+PSpfa+UXrP4sJ6at6YAhAAAAAablcKwOyFDdeuLqXMoyurI4fHolrNa1wXlzbidoMXRExODsTnPz\\u002fb0IyPsr1di2+2+ey\\u002f91tILgC7ujo8AwYAAIAG25UCMH8BSPve\\u002fovIL1wzblt+\\u002fbkT0dm5ayMp79v3vn8lbtxcSc8tq\\u002fnkJ8ARERMTA+mZAAAA0E52pXGZ3je0Gx\\u002fmvl1MmEdXZtkLVxq9AOTo0fF4\\u002fPHJhmZ8lI2N7fi1X3s3PbfM5ufW0jP37rEJGAAAABrpkQvAycmBGBzs3o2z3Ldz5+ZS88pmZia3cG30ApCvP3c8dYbkPX\\u002fwnYuxsJj75LXs7tzJLwCL2PoMAAAA7eSRC8DDh8Z24xz3bXFxo5CSoixGR3tjZCRvcUK9Xo+zDSxcP\\u002fOZmTh4cLRhH\\u002f\\u002fjrKxsxm\\u002f+1tn03LK7fWc1arXc+ZpmAAIAAEBjPXIBODub+xz1ytX23tZ65HBu4Xrr9mqsrm415GN3dlbjq1852pCP\\u002fWl+9\\u002ffON+zzambb27VYWdlMzRwbVQACAABAIz1yATjTYvPoyq6VFoB86UuHY08B89\\u002fmF9bjW79zPj23WSwmLwIZG8u70QoAAADt6JEKwGq1EtP7BnfrLPfl4qX2LgBbpXAdGOiOn\\u002fvS4YZ87E\\u002fzW791Nra2dgrJbgbZBWB\\u002ff3f09namZgIAAEA7eaQC8MCBkejq6tits3yqWq3e9gtAsjcuX7gw35CP+9WvHI3+\\u002fq6GfOxPcvPmSvzBdy6m5zaT7MUolUrE1GTuHyQAAABAO3mkAvBQ8vKG2w2cR9cMZmaGoq8v76bU9nYtLlzc\\u002fQ3AkxMD8YUvzO76x70fv\\u002fYb76YvuWg2Cwu5NwAjIvbuzX8KDgAAAO3ikQrA\\u002fAUgjZtH1wyyC9dr15Zje7u26x\\u002f3+eeOR2fnI4+ffGCXLi3GD35wNT232cwv5G\\u002fZHh9XAAIAAECjPFILMzOdWwBeavP5f7OzyQtAGrBx+bEjY\\u002fHEE5O7\\u002fnHvxze++U4huc1mfi73CXBExPiYTcAAAADQKA9dAPb2dqY\\u002f27twcT41r2xmpnPn\\u002fzWicP368yeiUqns+sf9NO+8eyfeePNmem4zun17NT3TJmAAAABonMpf+It\\u002fz0A0AAAAAGhR+YPYAAAAAIA0CkAAAAAAaGEKQAAAAABoYQpAAAAAAGhhCkAAAAAAaGEKQAAAAABoYQpAAAAAAGhhCkAAAAAAaGEKQAAAAABoYQpAAAAAAGhhCkAAAAAAaGEKQAAAAABoYQpAAAAAAGhhCkAAAAAAaGEKQAAAAABoYQpAAAAAAGhhCkAAAAAAaGEKQAAAAABoYQpAAAAAAGhhCkAAAAAAaGEKQAAAAABoYQpAAAAAAGhhCkAAAAAAaGEKQAAAAABoYQpAAAAAAGhhCkAAAAAAaGEKQAAAAABoYQpAAAAAAGhhCkAAAAAAaGEKQAAAAABoYQpAAAAAAGhhCkAAAAAAaGEKQAAAAABoYQpAAAAAAGhhCkAAAAAAaGEKQAAAAABoYQpAAAAAAGhhCkAAAAAAaGEKQAAAAABoYQpAAAAAAGhhCkAAAAAAaGGdJ0+MFn0GAAAAAKBBOg8eGCz6DAAAAABAg3gCDAAAAAAtTAEIAAAAAC1MAQgAAAAALUwBCAAAAAAtTAEIAAAAAC1MAQgAAAAALUwBCAAAAAAtTAEIAAAAAC1MAQgAAAAALUwBCAAAAAAtTAEIAAAAAC1MAQgAAAAALUwBCAAAAAAtTAEIAAAAAC1MAQgAAAAALUwBCAAAAAAtTAEIAAAAAC1MAQgAAAAALUwBCAAAAAAtTAEIAAAAAC1MAQgAAAAALUwBCAAAAAAtTAEIAAAAAC1MAQgAAAAALUwBCAAAAAAtTAEIAAAAAC1MAQgAAAAALUwBCAAAAAAtTAEIAAAAAC1MAQgAAAAALUwBCAAAAAAtTAEIAAAAAC1MAQgAAAAALUwBCAAAAAAtTAEIAAAAAC1MAQgAAAAALUwBCAAAAAAtTAEIAAAAAC1MAQgAAAAALUwBCAAAAAAtTAEIAAAAAC1MAQgAAAAALUwBCAAAAAAtTAEIAAAAAC1MAQgAAAAALUwBCAAAAAAtTAEIAAAAAC1MAQgAAAAALUwBCAAAAAAtTAEIAAAAAC2ss+gDlElPT1f09XVFd3dHdHV1RldXR3R3d0RnZ0d0dFSjWq1EpVL50L\\u002fX6\\u002fUf\\u002fiuiVqvFzk4ttrfv\\u002fWsnNja2Y2NjKzY2tmN1dTN2dmpFf6oAAAAAtIm2KwCr1UqMjPTF8HBf9PV1R29v14\\u002f+vbOz8Rci6\\u002fWIjY2tWF\\u002ffirW1zVha2oilpbVYWFhTDAIAAACw61q+AOzv7449ewZjaKg3hob6YnCwJ6rVSmHnqVQienu7ore3K0ZH+2N6+u5\\u002fX6\\u002fXY2VlI+bnV2NubjXu3FmJzc3tws6Z6fjxqRge7kvLu3FjMS5evJOWVzYzM6MxPT2alrewsBrvvHMjLe\\u002fTVCoRzz57KCqVnN8Hyvb5Zzh1ajoGBnpSsra3d+LFFy+mZAEAADSrlisAq9VKjI8PxN69QzE+PpD2Q+ijqlQqMTjYG4ODvTE7Ox71ej3m59fi1q2luHFjMVZXN4s+YsPs2zcSvb1daXnXry+kZZXRxMTdXxtZFhfX0rLux9BQX+zZM5iWV7bPP8O+fSPR1dWRkjU3t5KSAwAA0MxapgAcHe2P\\u002ffvHYmJiKO0Hz0aqVCoxNtYfY2P9cezYZMzPr8a1awtx9epCSz0VvncbMtP8\\u002fGpqXtkMDfWm5pWtABsZybttGhGxsFCuz7\\u002fRBgd7Un8PXlxcT8sCAABoVk1dAHZ1dcT+\\u002fWMxPT0Sg4O5pUamu2XgQIyNDcSxY1Nx5cp8XLhwO9bXt4o+2iMbHe1Pzdva2onl5Y3UzDLp7u6Mvr7u1My5uXIVrpnPzSPar3DO\\u002fjVdtoIZAACgjJqyAOzq6ojDh\\u002ffG7OxYdHY2\\u002f22\\u002fB9HV1RGHDu2JAwfG4+rV+XjvvZtNXQRm38ZaWmrv20JjY7nlzNraZulmWQ4P5\\u002f1hQRk\\u002f\\u002f0bLLljLVjADAACUUVMVgO1c\\u002fH1QtVqJ\\u002ffvHYt++kbh48U68997NpnwaPDSUXQC2922hdi9cOzqqqXNBy\\u002fb5Z8h8Yr6+vhUbG837ByAAAABZmqYAnJoajhMn9qXPiyu7jo5qHD68N6amhuPNN6\\u002fFzZtLRR\\u002fpgQwN5S5pabd5bB+UXbiWbT7b6Gh\\u002f2vbfiPZ7nlqtVlLHMbRjwQoAAPAwSl8A9vZ2xcmT+2Jycrjoo5RaX193nDlzMK5enY833rga29vlvw04NNSbfpOz3eaxfVD2ApCFhXJ9vS0AaayRkf6oVhWsAAAAZVPqAnBiYiieeGJ\\u002fS2z1zTI9PRrDw33x6quXS18+ZC8LWFvbjI2N9prH9n7Z21lrtXrpvgcz59PVavWYny\\u002fX599oClYAAIByqhZ9gI9z9OhkPPPMAeXfQxgY6InPfvZw7Ns3UvRRPlH2soB2fy6YXbiurGyUbi5l5g3IlZWNqNXK9fk3WuaClXq93vY3egEAAO5X6W4AdnZW48knZ2NiYqjoozS1jo5qPPnk\\u002fujr64qzZ28VfZyPlP0ctd0LwHYvXHt7u1JniJbt88+QOWOyjAUzAABAWZWqAOzq6ohnnz0YIyO5N5VaVaVSiWPHpqKjoxrvvHOj6OP8mGo1dxtrhPl\\u002f2YVr2eazZd+AbLfnqV1dHdHX152WV7YFMwAAAGVWmgKwp6cznn32UHpJ0Q6OHJmISqUSb799veij\\u002fMjoaF\\u002fqsoAyzqPLlL2dNcICkLJ9\\u002fo02NjYQiQuWS1cwAwAAlFkpZgD29HTG5z53RPnXQIcP741Dh\\u002fYUfYwfyS5j2v254MhIbuG6vV0r3Q2tzOep29s7bfcEOPuJeTsX+gAAAA+q8AKwo6MaZ84cjP7+vKdj7er48anSLAZp93l02bKf1S8vl+\\u002frPTSU9+S8Hb\\u002ffMheAbG\\u002fXYmlJAQgAAHC\\u002fCi0AK5VKPP30gfQyqF1VKpU4fXqmFDct230eXbbMciaifF\\u002fvoaHe6OzM2yhettuPGTJ\\u002fTS8vr0e9nhYHAADQ9AotAE+d2hd79w4WeYS209lZjaeemo3OzuL+0Xd3d0Zvb+6Nz3abx\\u002fZBmc9fI8pXgGUvAClbAdpo\\u002ff3d0d2dN1K23b6+AAAAj6qwFmjfvpGYnR0vKr6t9fV1F3oLcHS0P3VZwPb2TukKqUx3t7N2pWbOz6+k5n2a7FvG7bZxOr9gbd9fzwAAAA+jkAKwr687Tp2aLiK67dVq9Xj55UsxN1dcQZG9AGRpaSM1r2zGxvqjkti4bmxsx9raVlre\\u002fch8Ar2+vhXr6+X6\\u002fBst+9d02QpmAACAsst7s\\u002fU+Tz65P7q68uZxcVetVouXXroUN28uFXqO7NuH7b4sIH\\u002fhSrm+3h0d1ejvtwCkkTKfmG9sbJWuYAYAACi79BuAs7Nj6c\\u002fFKE\\u002f5F2EBSLbsArBszzNHR\\u002fujWs27Adlu32+VSiUGB\\u002fMK1rJ9fwEAADSD1AKwq6sjHntsMjOSKFf5NzDQk7osICIKfe5cBu1euGY\\u002fT11YKNfn32jDw33R0ZH3\\u002f0ra8YYlAADAo0ptYo4enYyenkJeHd+3er0e6+vbsbGxFRsbW7G1VYvt7Z3Y3q5FvV6PWq0elcrdZ4XVauWH\\u002f16Nnp7O6O3tit7erlI9b97ZqcXLL5ej\\u002fIvIXxbQjvPY3i97O2u9Xi\\u002fdAozMG5D1er3tNk6PjmYXrO319QUAANgNac1Ab29X7N8\\u002flhV339bXt2JhYS3m51djcXEtlpbWY2en9kgfs6urIwYHe2JsbCBGRvpjZKSvkFJwZ+fuzb9bt8pR\\u002fkXkLmOIcFsou3BdXd2Mra2d1MxPMziY9z23srIZ29uP9vtHs8kuWOfn2+uGJQAAwG5IKwAPH96bOofrk6yvb8X164tx48ZiQ24rbW3txNzc6o89PR0Z6Yvp6dGYnBxOuQV5t\\u002fy7GLduLTc860FkLguIUADmLwAp19e7p6cr+vq60vLKtgAlQ+YT89XVzdjeLlfBDAAA0AxSCsCuro6Ynh7NiPpEi4trcf787bh+fSHq9dzshYW1WFhYizffvBYTE0MxOzsWe\\u002fYMNiSrrOVf9rKACM8Fs29clm1Bw9hY7g3Isn3+jdbZ2RH9\\u002fd1pee329QUAANgtKQXgwYN7orMzfeHwj6yvb8Xbb1+Pa9cWCjvDPfV6PW7cuHv7cHx8IB57bHJXS4qdnVq8+OLFuH27XOVfRP6ygHZ\\u002fLlip5D5\\u002fjShf4Zp9A7Jsn3+jjY72RaViwzIAAEDZpRSAU1PDGTEf6cqV+XjjjauPPNevEe7cWYk7d87G5ORQnDw5Hb29j\\u002fZUsczlX0T+soB2fy6YXbjWarXSFTSZNyC3t8v3+TfayEjuDct2K1gBAAB2S8MLwJGR\\u002fhgYyH32GRFRq9XjjTeuxuXLc+nZD+rGjaWYm1uN06enY2pq5KE+RtnLv4j821jt\\u002flwwu5xZXt6IWi35bf2nyLwBuby8nj5aoGiZ8\\u002f92dmpt\\u002f2saAADgYTX8etDMzMMVWo+iVqvHSy9dbIry756trZ146aVL8eqrlx\\u002f4tuL2dvnLv4jcsiCiPRcyvF+7F65DQ72p27fLtgAlQ+YNy6Wl9ai3W8MKAACwSxpeAO7dO9ToiB9Tr0e89trluHlzKTV3t1y5Mh8vvHAhtrbu7+nq3fLvQunLv+xlARHRkA3PzSS7cC3b89fR0eznqeX6\\u002fButt7crenoyNyy3X8EKAACwWxpaAA4O9jzyXLsHdenSnbh6tfhlH4\\u002fizp2V+P73z8fGxvYn\\u002fnX3yr87d1aSTvbwspcFtPtzwc7OagwMtHfhmn0Dsmyff6ONjQ2k5pWtYAYAAGgmDS0A9+zJvf23sbEdb799PTWzURYX1+L73z\\u002f3sTcBm6n8iyhiHl17PxccHe1PLVy3tnZiZWUjLe9+ZN6A3NjYjrW1zbS8Msh8\\u002fhvRfgUrAADAbmpoATg2llv6nD9\\u002fq5Tbfh\\u002fW8vJGvPzypQ8tVmi28i+iiOeo7Xv7LyK\\u002fcC3b88xqtZq6fKhsn3+GzBuWGxvbsbraXgUrAADAbmpoATgykvcD4vZ2LS5fnk\\u002fLy3L79nK88cbVH\\u002f3nZiz\\u002fIsyjy9buX+\\u002fR0b6oVvNuQJbt82+0SiV3w3I7FqwAAAC7qbNRH7i3tyu6uxv24T9kbm4ltrfvb3FGs7l8eS5u3FiMiLsbjpvtlmNvb1f6LMh2fy7Y7gVg9g3Isn3+jTY01BednQ3fIfUj7b7RGwAA4FE1rKHLvP0X0fqFz\\u002f1uBS6j7G2sm5vt\\u002fVxQ4Zo7n65er5fu82+07N\\u002ff223DMgAAwG5r2BWOzPlbEZ6IlVl2WdDu3wvZheva2uanbqzONjSU9z23urrZ1AX9w8ic\\u002f9eOBSsAAMBua1gB2NfX3agP\\u002fZHavfQps8wyJsICkHYvXHt6OqOvL+8GZNk+\\u002fwyZNyzbsWAFAADYbQ0rAHt68ub\\u002f1ev12Nws1w0k\\u002ftjQUO5t0MXF9r4tlF24lq0AGx0dSM1rt8K5o6Ma\\u002ff02LAMAADSThhWAXV0djfrQH1Kr1dOyeDBDQ73R2Zn3vVCvR8zNtXsBmFu4lm0+W\\u002f58uvb6fhsd7U\\u002fesKwABAAAeFQtUQB2dFSjoyNvIyX3L3sb69paez8XzC9cyzefLXMDcq1Wa7sNwApWAACA5tOw1qxazS3kMmd+cf\\u002fy59G1VxnzQdkLQFZWNmJnp5aa+WkyC8Dl5Y22u4Gc+cS8HQtWAACARmhYS1fJeyEWEflzv7g\\u002fmWVMhOeCmdtZI8r39R4a6k29fVy2zz9D5q\\u002fppaX2K1gBAAAaoWEFYPYPbXv3Dqbm8emq1WoMDGTPo2vv54L5hWu5bmdlPzkv2+ffaPkbltvr6wsAANAoLVMA7tkzEH193amZfLLR0b7UZQG1Wr10CykyFVO4luvrPTycW4CWbf5ho9mwDAAA0JwaVgBmzwWrVqtx7NhkaiafLHv+3\\u002fLyels\\u002fF8wuXLe3a6W7oZX5BHpraydWVjbS8sog+9d0uxWsAAAAjdKwAnBzc7tRH\\u002fpjTU2NxOTkcHouHy1zWUBExNJSe98Wyn7+ury8HvUS9a3ZNyDb8fst84n55uZ22xWsAAAAjdKwAnB9fatRH\\u002fpjVSoRTz65P8bGcosQPlr2c8x2m8f2Qdlf77IVYNk3INvx+y13AUi5vr8AAACaWcMKwLW1\\u002fAIwIqKjoxrPPHMwJiaGCsnnru7uzujtzZ3J2O7PBbMXgJRt\\u002fp8FII01ONiTumFZAQgAALB7GlYAFvnDW1dXRzzzzIE4fnwqKpW8G0H8sdHR\\u002fsj80m9t7cTycvs+F+zu7kxfglO2wjX7BuTcXLk+\\u002f0YbHc0tWMtWMAMAADSzhhWA8\\u002fMrUS9wQFilUonDh\\u002ffGT\\u002f3U0ZiaMhcwW\\u002faygHa\\u002fLZT97H1jYzvW1jZTMz9N5g3ItbXNQuacFilzwUq9Xr6CGQAAoJk1rADc3q6V4kbWwEBPPP30gfj854\\u002fEvn0jbgQmyX6OWrZttNkyy5mI8hWu2Tcgy\\u002fb5Z1CwAgAANK\\u002fORn7wO3dW0ougjzM62h+jo\\u002f1x\\u002fPhWXLu2ENeuLbTlD\\u002fFZsv+5Ly6upy6AKJvsArBs8++yb0AuLrbX7x3VaiUGBy0AAQAAaFYNLQCvX1+IQ4f2NDLigfX2dsXhw3vj8OG9sbq6GbdvL8fNm0sxN7cStVpxT5ZbSX9\\u002fd3R3N\\u002fRb60Oeemo2Na\\u002fdla0AzH5yvrDQXs9TR0ZsWAYAAGhmDW1pFhbWYnV1M\\u002fr7c5cT3K\\u002f+\\u002fu7o7x+PAwfGY3u7FgsLqzE3txK3bi27gfIIxsYGij4CDVSv10s3n21oKK8ArNXqMT\\u002ffXgVV9oZlC0AAAAB2V8OvaV25Mh\\u002fHjk02OuaRdXZWY8+ewdizZzCOHZuKjY2tmJv740JwfX2r6CM2jextrORaXd2Mra2doo\\u002fxYzKfnK+sbEStVkvLK4PMX9O1Wr3tblgCAAA0WsMLwEuX7sThw3ujs7Nh+0YaoqenK\\u002fbtG4l9+0YiImJ5eSPm51fi9u2VuHNnOba326sAeBCZt7HIV7bbsYODPdHV1ZGWV7bPP0Pmr+nl5XXjGAAAAHZZwwvAra2duHp1Pg4cGG90VEMNDvbE4GBPzM6OR61Wj8XFtZibu1sIzs+vRN3PqxERUalUYnCwp+hj0EBlK8BGRz1PbaSurg4blgEAAJpcyqaG9967Gfv2jaTe0mmkarXyo63CR45MxNbWTty5sxy3bt1dKFK255GZhof7oqOjuW578mDK9jwzewNy2T7\\u002fRhsbG4hK4oJtC0AAAAB2X0oBuLm5HefO3Yrjx6cy4tJ1dXXE1NRITE2NRL1ej7m51bh+fTGuX19ouzJwdNTz31ZWq9VKdwMuc\\u002f7f9vZO291Qyy5Yy7ZgBgAAoBWkFIAREefP346pqZGWXxBRqVRifHwgxscH4uTJqbh9eyWuXJmLGzeWij5aCvP\\u002fWtvy8kap5rNVq5UYHMz7PaXdyr+I3AUgW1s7sby8kZYHAADQLtIKwHq9Hq+9djk+\\u002f\\u002fkjbfNEtFqtxsTEUExMDMXa2mZcuTIfly7NxebmdtFHa5hWL3jbXdkKsNHR\\u002fqhW896nlu3zz5B5w7Idv74AAAAZUpu4paX1ePvt65mRpdHX1x1Hj07Gz\\u002fzM8Th5cl\\u002f09nYVfaRd19lZjf7+vGUB5CvbfLaRkez5f+X6\\u002fButv787urvT\\u002fpwolpba6+sLAACQJf0q3sWLd+LSpbns2NLo7KzGwYN74md+5licPj2d+sN1o42O9kclc1sA6co2ny37yXnZPv9Gs2EZAACgNRTyFveNN67E7dvLRUSXRrVajdnZ8fjpnz4Whw\\u002fvTX3G2CgjI7llAbnKOJ8t88n5+vpWrK9vpeWVgQUgAAAAraGQArBej3jppYt+2Iu7G4SPH5+Kn\\u002fzJozE21twFWuasMPKVbT5bd3dn9PXlPTkv2+efIbMAXFvbjI2N1p2PCgAAUKTCtnFsb9fi+98\\u002fH3furBR1hFIZGOiJz372cJw8uS+q1eZckqIAbG1lm8+WXZiXbf5ho1UqlRgc7EnLa8eCFQAAIEuhTdPOTi1eeOFC3Ly5VOQxSqNSqcTBg3vi858\\u002f0nTLNHp7u1pysQl\\u002fbGGhXAVN9vPUdptPNzzcl7qxfXGxXN9fAAAAraTwq2b3SsDz528XfZTSGB7ujS984bGYnBwq+ij3LXtZAPnm58t1WzezAKzX67Gw0F4jC0ZHswvW9vr6AgAAZCq8ALznrbeuxWuvXYnt7VrRRymFrq6OePrpAzE7O170Ue7LyEhuWUCutbWt0s1ny3xyvrKy2Xa\\u002fN2UWrLVaPebn2+uGJQAAQKbSFIAREZcvz8V3v\\u002fte283a+jiVSiVOn56Oxx6bKPoon8r8v9ZWtvlsg4M90dXVkZZXtvmHGXIL1o2o1dqrYAUAAMhUqgIw4u4Pgt\\u002f97tl4772bfiD8oaNHJ+PQob1FH+MTKQBbW9kKsJGR7AUg5SpAG62zsyN1DmnZCmYAAIBWU7oCMOLuvK13370Rf\\u002fAH78Xt28tFH6cUjh+fjJmZ0aKP8ZGGhnqjszPvNhb5yrYAI\\u002fvJebvNpxsd7YtKpZKW59Y3AABAY5WyALxnZWUjvv\\u002f98\\u002fHiixfb\\u002fobI3efAM6WctZd9G4tc9Xo95ufLVYBl3jjd3q61XUGV\\u002fWu6bN9fAAAArabUBeA9N24sxh\\u002f8wbvxyiuXY2Vlo+jjFKZarcSTT86W7rbd8LDnv61sZWUjdnbK8xy\\u002fWq3E4GDe99zy8nrU62lxpZBbsO60\\u002fR\\u002fwAAAANFpTFID3XL06H9\\u002f+9jvx4osX486dlaKPU4j+\\u002fu44eXJf0cf4MZnbQslXtnJmZKQvqtW856ll+\\u002fwzZBaA7fj1BQAAyNZZ9AEexo0bi3HjxmIMD\\u002ffG\\u002fv1jMTk5HN3dTfmpPJTp6ZG4fHmuFM\\u002fmqtVKDAz0pGbW2+061gdkzmaLKN8CjPwFIO31\\u002fLe3tyt6e7vS8sr2\\u002fQUAANCKmro1W1xcj8XFq\\u002fHGG9dicnI49u0bjvHxwejsbKqLjQ+sUqnEiRP74rvffa\\u002foo8ToaH\\u002fqbaxarR6\\u002f+ZuvR63WniVgtVqJX\\u002fiF06lf87ItwMi+cTo3V67Pv9HGxhSsAAAAraapC8B76vV6XL++ENevL0S1Wom9e4diYmIoxscHUm+yZBoZ6YvJyeG4cWOx8HNkWl7eaNvyLyK\\u002fcC3jAozM56kbG9uxtraZllcG2QVrGW4yAwAAtLqWKADfr1ar\\u002f+iJcMTdBRV79w7F2NhAjI72RbXaOrcDDxwYL7wAHBrKLQuWlspVRmXLL1zLtQCju7sz+vq60\\u002fLacT5d5q\\u002fp9fWtWF\\u002ffSssDAABoVy1XAH7Q3WfC6xFxMzo6qrF372CMjw\\u002fG+PhA9PfnFQmNMD4+EMPDvYXO0Mq8jRVhXlh+4Vqur\\u002ffoaH9kjkBsx8J5aChvpmfZvr8AAABaVcsXgO+3s1OL69cX4\\u002fr1u7fm+vu7f\\u002fhUeDBGR\\u002fubcnbgvn2jsbh4rZDs7NtYEeWbR5ctu3BdWChXAZZ9A7Jsn3+jDQ\\u002f3RmdnR1pe2Z6XAwAAtKq2KgA\\u002faHV1M86fvx3nz9+OarUSY2MDP7whOBCDg7lFy8OamBiKt94qpgDMvo21vb3T1jeGiihcyzafLXM+Xb1eL93n32jZG5bbrWAFAAAoSlsXgO9Xq9Xj9u3luH17OSLu3g6cmhqJycmh9KH4D6K\\u002fvzuGhnoLKcayb2O1c\\u002fkXkV+4lnEBxuBg3vPU1dXN2NraScsrAwUrAABAa1IAfozV1c04e\\u002fZmnD17M4aGemP\\u002f\\u002frHYt28kurrynsfdr9HR\\u002fkLKseznqO1eAGYX0cvL5fp6Dwz0RHd33m9Z7fj9Njyc92t6ZWUjdnZqaXkAAADtrPmG3hVgaWk93njjavzu774d77xzIzY3t4s+0o\\u002fJvol3T7vPo8uWWc5ElG8+W\\u002fb3ebstnOnoqEZ\\u002fvwUgAAAArUgB+AC2t3fi7Nmb8Xu\\u002f905cvHgn6vV60UeKiPzNsBF3nx5n3saKKN88umztXrjmf\\u002f7t9f02Otof1WreG\\u002fOyfX8BAAC0MgXgQ9je3ok33rga3\\u002fveuVLMSOvt7UrPHB3NXRawvr4V6+tbqZllkl241uvlK1wzF\\u002fPUarXS3YBsNBuWAQAAWpcC8BHMza3Gd797tvAfZDs7q+m38SwAyZVduK6tlW8BxsBA3vPU5eWNqNXKccM3S+aMye3tWiwtKQABAACyKAAf0ebmdrzwwoVYXS32JmB\\u002ff3dqXvaz43YvALMXgJStnOnq6oienrySe3l5Iy2rLDK\\u002fx5aW1qIkExQAAADaggJwF9wrAbe3i9tombmduFKpxOBg3m2siPabx\\u002fZB2fPvyrYAI\\u002fP2X0T7Fc6Dgz2pBWvRt6YBAADajQJwl6ysbMSFC7cLy+\\u002foyPtHOTzcm5pXr9djfr59C4NKJXf+XUT5CtfsAnB5ub0KwPHxwdQ8BSAAAEAuBeAuOnfuVmxsbBeSnVnIZc+jW13djO3tcs2jyzQ83BednXn\\u002ffGu1eukKmr6+3EU37fYEeGws79d0vV6PubmVtDwAAAAUgLtqZ6cWt24tFX2MhjP\\u002fL9fISG7hury8XroFGD09eQXg9vZObG4WU+QXoVqtxPj4QFreyspG6RbMAAAAtDoF4C67fXu5kNxaLW\\u002f+YP48unLdRss2PJz79S5j4drdnTfjcnOzvcqpvXsHo7Mz7+s7N1eu5+UAAADtQAG4y+7cKeZp285Ozo2tzs5qDAzkbhwu23PUbArXiK6uvAUV7XT7LyJi796h1Lyifo8EAABoZwrAXba1tVPI88ms0mJ0tD8qlUpKVsTdZ9XtXAB2dFTTF2DMz5fvhlbmluudneK2eWerVisxOTmcller1Qu7JQ0AANDOFIANsLWVf4Moa\\u002flI\\u002fjy6jajXyzWPLlN24bq1tVPKBRjZS1Daxb59I6nl6sLCWlsVrAAAAGWx6+\\u002fqhoZ6fziw\\u002f+5Nj3bsbjILm4i7WzU3NrZSsrKfoy4tte\\u002ftv4iIkRELVyLu3lTL0k6F8\\u002fT0aGrenTtu\\u002fwEAABRhVwvA6enRePzxmR\\u002f9sP7aa1fi8uW53YxoCpm3lSIi1te30m4t5c+jK2chlcXG5bsyC8BqtT0uRg8O9sTYWO6N3hs3FlPzAAAAuGvXftI9eHBPPPHEzI\\u002f9oH748N5IvgxXuO7uzvQCYW0t5\\u002fZfb29X9PZ2pWTdU8Z5dJksALkr81ZtR0d7\\u002fKZ1+PBE6td1ZWWjlM\\u002fLAQAA2sGuNFVHj07GyZP7PvTDZH9\\u002fdxw4sGc3IprG8HDuja2Iuz9YZxgdzb0ttLW1k\\u002fa5lVFPT2f09eUWrnNzZS1c84qqzI3DRenv746pqbzlHxFh+QcAAECBHrkAPH16Oh57bOJj\\u002f\\u002ffHHpuI7u7W\\u002f4H6nuwbWxF5zzbNo8s1OjqQmre+vpU2S\\u002fJBZc7l6+1t\\u002fd+vjhyZSH1WHRFx\\u002fbrnvwAAAEV56AKwWq3E00\\u002fPxuzs+Cf+dV1dHXH8+NTDxjSd7JIsImJhIefWlueouUZGsheulLdwzdzM29nZkf7UPdPISH9MT4+kZq6sbLT9c34AAIAiPVQB2NlZjTNnDsbU1P39EDkzMxqTk7nPzYpQrVbSn8lubm6nzdUaHFQAZspeAFLmr3etVkvNy\\u002f51nOnkyan0TeWWfwAAABTrgQvA7u7O+MxnDseePYMP9PedOjXd0rdqIiImJ4ejq6sjNTPrVs3QUG\\u002f651beeXQ5sm9cLiyUtwDc3lYA7oZDh\\u002fbEyEj+53b16kJ6JgAAAH\\u002fsgQrAvr7u+NznDj\\u002fUM9eens546qnZ9LlTmaanR9MzswrA7NJgbW0zNje3UzPLZGCgJ7VwrdfrpX6iubWV+72wd++D\\u002fQFHMxge7o2jRyfTc+fnV9t6mQ8AAEAZ3HcBODjYG5\\u002f73OEYGOh56LDR0f44fXrmof\\u002f+Mhse7n3gW5G7IWuz5vCweXSZsm+graxsxs5O7i27B7G5uZOa19fXHWNjuUtYGqmjoxpPPLE\\u002fOjp2ZfH7A7lyZT49EwAAgB93Xz8Njo72x2c\\u002fe2hXnvDOzIzGiRP7HvnjlM2xY1ORPFYr1te30ub\\u002f5c+ja+8CcHg4e+NyeZ\\u002f\\u002fRtz9Xs928OAnLzhqFpVKxFNPzabP8Iy4O6P06tX59FwAAAB+3KcWgHv3Dsazzx6K7u7OXQs9dGhPHDuW\\u002fxStUaanRwu5\\u002fXfrVs7tv2q1EoODD3\\u002fz82FkbTYuq+wbl2UvXFdXN9MzJyaG0ucwNsKpUzMxMTFUSPa1awupG5wBAAD4aJ9YAE5Pj8QzzxyMzs7dfzZ25MhEnDo1vesfN9vAQE+cPFnMjcbr13MG64+O9qfObqzV6qVeSNFolUrlkZ7aP4yyF65FzJCrVCqF\\u002fdreLadOTcfs7Fgh2bVaPS5evFNINgAAAD\\u002fuY5u9AwfG44kn9je0+DlwYDzOnDkYnZ2522V3S3d3Zzz99Gz6dtyIiLW1rbhzZyUlK\\u002fs56urqRqnn0TXayEhf6qy27e1aLC6Wu3BdXFyLej3\\u002fJtnY2EAcOrQnPfdRVSqVeOqp2ThwoLhnzDduLBZycxMAAIAP+8iW4ejRyTh1ajoqCUPtJiaG4gtfONJ0T+26ujrizJmDhczVioi4eXMxLSu7ACz7c9RGe5gt249ieXk9CujWHsjW1k5hZdKxY1OFPPF\\u002fWPe2te\\u002fbN1LYGer1iPPnbxWWDwAAwI\\u002f7UAF46tR0PPbYROohBgZ64gtfOBKHD+9NzX1Yd3\\u002fAPpJe1NxTr+du1swuZ8t+G63R8heANEfhWtQ5q9VKPP30gaYoAaemRuInfuKx9C3SH3T79lLbF\\u002fkAAABl8qMCsFot9slYtVqN48en4gtfeCxGRor94fWTTE0Nx0\\u002f8xGPpSzHe786d5bQypLu7M\\u002fr6ulOy7mnn+X8RCtePk\\u002fXk\\u002faN0dlbjmWcOxP79xczT+zT9\\u002fd1x5szBwkYSvF+9Xo93371Z6BkAAAD4cZ0RER0dd3+4LcMNl5GRvvj85w\\u002fHtWsLce7crVhezh\\u002f+\\u002f1F6errixImpQp\\u002fV3XPhQt5g\\u002fdHR\\u002fkh4Cf4j29u1WFpqjkKqETo7O6K\\u002fP7dwnZ8v9wKQe27eXIp6vZ4ymuCjdHRU4\\u002fHHZ2JsrD\\u002feeut6bG5uF3KO9+vt7YrDh\\u002ffGzMxo6tzIT3L9+mLTlMoAAADtojPibslThvLvnkqlEtPTo7Fv30jcvLkUly7Nxe3by4Wcpbu7Mw4d2hOzs2OlWFayvLwet24tpeWZR5frbuGaV3Btbm43zaKGzc3tWFxcL+zp\\u002fT3T06Oxd+9QnDt3Ky5duhPb2\\u002fkLa0ZH+2P\\u002f\\u002frHYt28kdUP3p6nV6vHuuzeKPgYAAAAf0BkRcfv2ciwurqXPHvs0lUolJieHY3JyONbWNuP69cW4eXOp4TeWKpWI8fHBmJkZjYmJodLcrImIOH\\u002f+dmpe9nPUZplH1yjZ5Vazfb1v3FgsvACMuLsE6PjxqTh8eG9cu7YQV68uxMJCY39fGhnpi4mJoZicHI6BgeJGEHySixfvNE2hDAAA0E467\\u002f0f58\\u002ffjqeemi3yLJ+or687Dh\\u002feG4cP742Nje1YWFiNxcX1H\\u002f379vbOI3384eG+GBnpi7Gx\\u002fhgbG4ju7s5P\\u002f5uSLS6upS7\\u002fiMgvAM3\\u002fy57\\u002f11wF4NWr83H06GRpbr11dXXEgQPjceDAeKytbcbc3GrMz6\\u002fGwsJqrKxsPPRt1p6erhge7o3Bwd4YHu6L0dG+Uv6e9H5ra1tu\\u002fwEAAJTUj36ivHZtIR57bKK0N0ver6en80c3A+\\u002fZ2NiOtbXN2Nzcia2t7djc3IlarRa1Wj1qtbs\\u002fhVerlahWK9HZ2RFdXR0\\u002fXHDRFb29XaW65fdx3n77empef393eunQLPPoGiW\\u002fAGyur\\u002ffGxnbcvr0cExNDRR\\u002flQ\\u002fr6uqOvrztmZkYj4u5z2LW1zdjY2I6tre3Y2tr50e9H9Xr9h78fVaNarURHRzW6uzujp6czurs7C1\\u002fk8TDefvta7OzkP4cGAADg0\\u002f1Yu\\u002fP229fjzJmDRZ3lkfT03P3huVVdv76YvgV1dDR3G\\u002fO9Erdd9fbeLaOz1OsRc3PNVQBGRFy4cLuUBeAHVauVGBjoaYo\\u002fVHlU168vxvXri0UfAwAAgI\\u002fxY9febt5ciuvXF4o6Cx9je3sn3nkn9\\u002fZfRKTPhGy2eXS7bWwst3BdW9uMra1HezpfhDt3Vho+b4\\u002f7t76+Fa+\\u002ffqXoYwAAAPAJPvTu9c03rzdlKdDK3nrreiGD9bMLwMXF9p7\\u002fp3C9f++9d7PoIxAR9Xo9Xnvtiv+fAQAAUHIfKgA3NrbSZ83x8a5fX4jLl+fScyuVSgwO5j5dbPcCcGhI4Xq\\u002fbt1ajtu3l4s+Rts7e\\u002faWfw4AAABN4CM3X1y+PBeXLuWXTvy4tbWteP31q4VkDw\\u002f3pi5GqdfrFoAM5Rauzb5x+e23r\\u002f9owQ\\u002f5btxYtPUXAACgSXxsw\\u002fPmm1fbvpAp0vZ2LV5++VJhT+tGRrLn0W219TPCoaHe6OzM2\\u002fxaq9Wbfo7e0tJ6nDt3q+hjtKWlpfV45ZXLRR8DAACA+\\u002fSxBWCtVo+XX74UGxtbmech7n7tX3nlUqEFTf48uua+jfaosgvX5eX1lrg9d\\u002fbszaaeZdiMVlc34wc\\u002fuBA7O7WijwIAAMB9+sQ3nuvrW\\u002fGDH1yIzc3trPMQEW++eS1u3lwq9AxDQ72peYuL7V3iDA\\u002fnfr1bpTS79wcV29vte3s00\\u002fr6Vnz\\u002f++f9wRAAAECT+dQhb0tL6\\u002fGDH1xo6+eZmd5550ZcunSn0DN0dlZjYKA7NbPZn6M+qvyNy61RAEZErKxsxGuvXY16vflvNJbZ3T8QOh9ra\\u002fkbyQEAAHg097XlYXFxLX7wg\\u002fNKwAaq1+vxxhtX4+zZm0UfJUZH+6NSqaTl3Z1H175PgKvVSgwMZC8Aaa3C9fr1hXjnHQspGmV5eSP+6I\\u002fOxvLyRtFHAQAA4CHc95rXhYW1+N73zrn90QB3Z\\u002f5djosXi735d495dLlGR\\u002fujWs0rXLe2dlrmCfD7nTt3y1KQBpifX\\u002f3h7\\u002f2e\\u002fQIAADSr+y4AI+4+B\\u002f7ud8\\u002fG3Fxr3R4q0sbGdrzwwoW4dm2h6KP8SPb8v1Ysox5E9vPf5eXW\\u002fXq\\u002f\\u002ffZ1JeAuunx5Lr73vXPmwAIAADS5ByoAIyI2N7fj+98\\u002fF5cvzzXiPG3lzp2V+M533ovbt5eLPsqPyV8A0r7PfyPM\\u002f9ttb799Pd5++7qZgI9gZ6cWr79+JV577Upb384FAABoFZ0P8zfVavV47bUrMTe3GidOTEV390N9mLZVr9fj7Nlb8e675ZtZ1tvbFb29XamZ8\\u002fPtfaNU4br7zp27FWtrm\\u002fH44zPR2dlR9HGaysLCWrz22pWWvikKAADQbh6pubt6dT7u3FmOkyenY2pqeLfO1NIWFtbizTevlXYJw+ho7vy\\u002fra2dtl4s0NXVEX19uRuX26VwvX59MVZWNuOpp\\u002fbH4GBuydqMarVanD17K86evRkuTwIAALSWR766t7GxHS+9dDH27RuJY8emoq8v9\\u002fZYs9jc3I733rtZmkUfHyf7OWq7z\\u002f8bGxuIxIXLsb6+Fevr7bPMYXl5Pb7znffi2LGpOHhwPHW7dTO5cWMp3n77WqyuWvIEAADQinbt7e61awtx48ZiHDy4Jw4d2uNZ8A9tb9fi6tX5eO+9m00xSH942AKQTArXxqvV6vHWW9fixo3FOHFiX4yM5H7Ny2xhYS3effdG6eaQAgAAsLt2taWr1epx7tytuHTpThw6tDcOHBiPrq72nL+1tbUTly\\u002fPxfnzt5ui+Lsn+6lkO8yj+yQK1zzz86vx3e++F\\u002fv3j8Vjj02kz7osk\\u002fn51Th37lbcvLlU9FEAAABI0JBretvbtXj33Rtx4cLt2L9\\u002fLGZmRmNgoKcRUaWzsrIRV68uxKVLd2Jra6fo4zyQoaHe9MJ2bq495tF9nOwFIO0y\\u002f++TXL48F1evzsf+\\u002fWNx6NCe9BmMRdnZqcXNm0tx6dJczM2tFH0cAAAAEjX0ne7W1k6cO3crzp27FXv3DsXs7Fjs3TvYcnO4trZ24saNxbhyZb6pC5aRkdwFIOvrW7Gx0T7z6D6or6879al8vV4v7fKZbLVaPS5evBOXLs3F1NRw7N8\\u002flj6PMUO9HrG0tBbXr9\\u002f9\\u002famZbiMDAACwe9Lah1u3luLWraXo7e2KfftGYu\\u002fewRgZ6Y9qtTl\\u002f4l5b24w7d1bi9u3luHlzKWq15l+b6TlqrrGx3MJ1ZWUztrdrqZllV6\\u002fX49q1hbh2bSEGBnpienokJiaGY3CweW8s12r1WFpai1u3luPatQWLPQAAAMgrAO9ZX9\\u002f60a3Arq6OmJwcjomJoRgd7S\\u002f1vMD19a1YWlqPhYW1uHlzMZaXN4o+0q4bGspdjmD+nwUgZbKyshHvvHMj3nnnRgwN9cbExFCMjQ3EyEhfdHRUiz7ex6rV6rGyshELC6s\\u002f\\u002fEOJldjebq7xAwAAADRW5RvfeKU0V9cGB3tiZKQ\\u002fhof7YmioNwYHe9J\\u002f8K7V6rG+vhVra5uxvLwRi4trMT+\\u002fGuvr7ftUFdpZtVqN0dG+H\\u002f7e1BuDg73R19dVyCiDzc3tWFvbjNXVu78\\u002fLSysxcLCakvcQAYAAKBxSlUAflClUon+\\u002fu7o7++O3t6u6O3tip6erujt7Yzu7s6oVqtRrVaiWq1ER0c1KpXKj83wqtfvPvGr1eo\\u002f\\u002fPdabG3VYmtr54f\\u002f2o6trZ3Y3NyO1dXNWFnZiLW1zaiX9isClEG1WonBwd4YGOiJvr6u6OnpjJ6eruju7ojOzo7o6Kj+8N8rH1sU1uv1qNfv\\u002fqHDzs5ObG\\u002fXYmenFtvbtdja2o6NjT\\u002f+1\\u002fr63cKv2RYLAQAAUA7pT4AfRL1+92nbysr9P7e9VwTu7NSirskDGqBWq8fi4tp9P2O\\u002f+wcV1ahU7v69tVrNHzQAAACQptQF4MPY2bHkACiXu6Wf23sAAAAUo7yT7QEAAACAR6YABAAAAIAWpgAEAAAAgBamAAQAAACAFqYABAAAAIAWpgAEAAAAgBamAAQAAACAFqYABAAAAIAWpgAEAAAAgBamAAQAAACAFqYABAAAAIAWpgAEAAAAgBamAAQAAACAFqYABAAAAIAWpgAEAAAAgBamAAQAAACAFqYABAAAAIAWpgAEAAAAgBamAAQAAACAFqYABAAAAIAWpgAEAAAAgBamAAQAAACAFqYABAAAAIAWpgAEAAAAgBamAAQAAACAFqYABAAAAIAWpgAEAAAAgBamAAQAAACAFqYABAAAAIAWpgAEAAAAgBamAAQAAACAFqYABAAAAIAWpgAEAAAAgBamAAQAAACAFqYABAAAAIAWpgAEAAAAgBamAAQAAACAFqYABAAAAIAWpgAEAAAAgBb2\\u002fwdXx0K4Q91FSwAAAABJRU5ErkJggg==\",\"x\":-0.5,\"xref\":\"x\",\"y\":3,\"yref\":\"y\"}],\"title\":{\"font\":{\"size\":30},\"text\":\"Team Metrics\",\"y\":0.93,\"x\":0.5,\"xanchor\":\"center\",\"yanchor\":\"top\"}},                        {\"responsive\": true}                    ).then(function(){\n",
       "                            \n",
       "var gd = document.getElementById('75548a3b-1a6a-4ab0-a553-b72e93fd8a1e');\n",
       "var x = new MutationObserver(function (mutations, observer) {{\n",
       "        var display = window.getComputedStyle(gd).display;\n",
       "        if (!display || display === 'none') {{\n",
       "            console.log([gd, 'removed!']);\n",
       "            Plotly.purge(gd);\n",
       "            observer.disconnect();\n",
       "        }}\n",
       "}});\n",
       "\n",
       "// Listen for the removal of the full notebook cells\n",
       "var notebookContainer = gd.closest('#notebook-container');\n",
       "if (notebookContainer) {{\n",
       "    x.observe(notebookContainer, {childList: true});\n",
       "}}\n",
       "\n",
       "// Listen for the clearing of the current output cell\n",
       "var outputEl = gd.closest('.output');\n",
       "if (outputEl) {{\n",
       "    x.observe(outputEl, {childList: true});\n",
       "}}\n",
       "\n",
       "                        })                };                });            </script>        </div>"
      ]
     },
     "metadata": {},
     "output_type": "display_data"
    }
   ],
   "source": [
    "import plotly.graph_objects as go\n",
    "\n",
    "image = Image.open(\"background.png\")\n",
    "\n",
    "fig = go.Figure(data = [\n",
    "    go.Bar(x = proc[\"Trait\"], \n",
    "           y = proc[\"Average\"],\n",
    "          text = proc[\"Average\"],\n",
    "          textfont=dict(weight=\"bold\", style=\"italic\", size = 18),\n",
    "          marker_color = \"white\")\n",
    "])\n",
    "fig.update_layout(\n",
    "    yaxis_range=[0,3],\n",
    "    autosize=False,\n",
    "    width=1028,\n",
    "    height=800,\n",
    "    margin=dict(\n",
    "        l=50,\n",
    "        r=50,\n",
    "        b=100,\n",
    "        t=100,\n",
    "    )\n",
    ")\n",
    "fig.add_layout_image(\n",
    "        dict(\n",
    "            source=image,\n",
    "            xref=\"x\",\n",
    "            yref=\"y\",\n",
    "            x=-0.5,\n",
    "            y=3,\n",
    "            sizex=12,\n",
    "            sizey=3,\n",
    "            sizing=\"stretch\",\n",
    "            opacity=1,\n",
    "            layer=\"below\")\n",
    ")\n",
    "\n",
    "fig.update_layout(\n",
    "    title={\n",
    "        'text': \"Team Metrics\",\n",
    "        'font': dict(size = 30),\n",
    "        'y':0.93,\n",
    "        'x':0.5,\n",
    "        'xanchor': 'center',\n",
    "        'yanchor': 'top'})\n",
    "\n",
    "fig.update_traces(marker=dict(line=dict(width=5,\n",
    "                                        color='DarkSlateGrey')))\n",
    "fig.show()"
   ]
  },
  {
   "cell_type": "code",
   "execution_count": null,
   "id": "69d1341a-fda3-42d5-9b90-986d19421bda",
   "metadata": {},
   "outputs": [],
   "source": []
  }
 ],
 "metadata": {
  "kernelspec": {
   "display_name": "Python 3 (ipykernel)",
   "language": "python",
   "name": "python3"
  },
  "language_info": {
   "codemirror_mode": {
    "name": "ipython",
    "version": 3
   },
   "file_extension": ".py",
   "mimetype": "text/x-python",
   "name": "python",
   "nbconvert_exporter": "python",
   "pygments_lexer": "ipython3",
   "version": "3.12.7"
  }
 },
 "nbformat": 4,
 "nbformat_minor": 5
}
